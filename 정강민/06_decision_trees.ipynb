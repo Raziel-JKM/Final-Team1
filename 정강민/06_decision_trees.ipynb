{
  "cells": [
    {
      "cell_type": "markdown",
      "metadata": {
        "id": "view-in-github",
        "colab_type": "text"
      },
      "source": [
        "<a href=\"https://colab.research.google.com/github/Raziel-JKM/Final-Team1/blob/main/06_decision_trees.ipynb\" target=\"_parent\"><img src=\"https://colab.research.google.com/assets/colab-badge.svg\" alt=\"Open In Colab\"/></a>"
      ]
    },
    {
      "cell_type": "markdown",
      "metadata": {
        "id": "strdVYxuYLO9"
      },
      "source": [
        "**6장 – 결정 트리**"
      ]
    },
    {
      "cell_type": "code",
      "source": [
        "from collections import deque\n",
        "\n",
        "def printer_queue(priorities, location):\n",
        "    queue = deque([(p, i) for i, p in enumerate(priorities)])\n",
        "    count = 0\n",
        "\n",
        "    while queue:\n",
        "        current = queue.popleft()  # 왼쪽에서 빼기 (dequeue)\n",
        "\n",
        "        if any(current[0] < q[0] for q in queue):\n",
        "            queue.append(current)  # 오른쪽에 추가 (enqueue)\n",
        "        else:\n",
        "            count += 1\n",
        "            if current[1] == location:\n",
        "                return count\n",
        "\n",
        "    return -1"
      ],
      "metadata": {
        "id": "zMZ7YcDmdS-L"
      },
      "execution_count": null,
      "outputs": []
    },
    {
      "cell_type": "code",
      "source": [
        "\n",
        "# 테스트\n",
        "print(printer_queue([2, 1, 3, 2], 2))  # 1\n",
        "print(printer_queue([1, 1, 9, 1, 1, 1], 0))  # 5"
      ],
      "metadata": {
        "colab": {
          "base_uri": "https://localhost:8080/"
        },
        "id": "B8IVdOqbdWp9",
        "outputId": "0a1a0677-29b9-4a60-9f17-38e857ca67b5"
      },
      "execution_count": null,
      "outputs": [
        {
          "output_type": "stream",
          "name": "stdout",
          "text": [
            "1\n",
            "5\n"
          ]
        }
      ]
    },
    {
      "cell_type": "code",
      "source": [
        "def printer_queue(priorities, location):\n",
        "    \"\"\"\n",
        "    priorities: 각 작업의 우선순위 리스트\n",
        "    location: 확인하고 싶은 작업의 인덱스\n",
        "    반환: 해당 작업이 몇 번째로 인쇄되는지 (1부터 시작)\n",
        "    \"\"\"\n",
        "    # (우선순위, 원래_인덱스) 형태로 큐 생성\n",
        "    queue = [(p, i) for i, p in enumerate(priorities)]\n",
        "\n",
        "    # 인쇄된 작업 수\n",
        "    count = 0\n",
        "\n",
        "    # 큐가 빌 때까지 반복\n",
        "    while queue:\n",
        "        # 현재 작업 가져오기\n",
        "        current = queue.pop(0)\n",
        "\n",
        "        # 현재 작업보다 우선순위가 높은 작업이 있는지 확인\n",
        "        if any(current[0] < q[0] for q in queue):\n",
        "            # 우선순위가 높은 작업이 있으면 현재 작업을 큐의 맨 뒤로 이동\n",
        "            queue.append(current)\n",
        "        else:\n",
        "            # 우선순위가 가장 높으면 인쇄하고 카운트 증가\n",
        "            count += 1\n",
        "\n",
        "            # 현재 작업이 우리가 찾던 작업인지 확인\n",
        "            if current[1] == location:\n",
        "                return count\n",
        "\n",
        "    # 이 부분은 실행되지 않아야 함 (큐에서 해당 작업을 반드시 찾아야 함)\n",
        "    return -1\n",
        "\n",
        "# 테스트\n",
        "print(printer_queue([2, 1, 3, 2], 2))  # 1\n",
        "print(printer_queue([1, 1, 9, 1, 1, 1], 0))  # 5"
      ],
      "metadata": {
        "id": "qT9odaON9fSd",
        "outputId": "1293a362-02d6-442f-98fe-cee0f51185ea",
        "colab": {
          "base_uri": "https://localhost:8080/"
        }
      },
      "execution_count": null,
      "outputs": [
        {
          "output_type": "stream",
          "name": "stdout",
          "text": [
            "1\n",
            "5\n"
          ]
        }
      ]
    },
    {
      "cell_type": "code",
      "source": [
        "import numpy as np"
      ],
      "metadata": {
        "id": "IfT9yGKB8S2D"
      },
      "execution_count": null,
      "outputs": []
    },
    {
      "cell_type": "code",
      "source": [
        "normal_samples = np.random.normal(loc=10, scale=2, size=100) # 평균, 표준편차, 샘플 개수\n",
        "print(f\"\\n4. 정규 분포 샘플 (처음 5개): {normal_samples[:5].round(2)}\")\n",
        "print(f\"   - 샘플 평균: {normal_samples.mean():.2f}\")\n",
        "print(f\"   - 샘플 표준편차: {normal_samples.std():.2f}\")"
      ],
      "metadata": {
        "colab": {
          "base_uri": "https://localhost:8080/"
        },
        "id": "0IYtgp5EBqm4",
        "outputId": "ac5558c3-e4c7-4fe1-b990-0cf5221212b2"
      },
      "execution_count": null,
      "outputs": [
        {
          "output_type": "stream",
          "name": "stdout",
          "text": [
            "\n",
            "4. 정규 분포 샘플 (처음 5개): [12.55 14.53 11.18 10.43 13.72]\n",
            "   - 샘플 평균: 10.20\n",
            "   - 샘플 표준편차: 2.16\n"
          ]
        }
      ]
    },
    {
      "cell_type": "code",
      "source": [],
      "metadata": {
        "colab": {
          "base_uri": "https://localhost:8080/",
          "height": 472
        },
        "id": "loW2laybIUhL",
        "outputId": "acda5693-1174-4de3-fcd7-1374470ad3a1"
      },
      "execution_count": null,
      "outputs": [
        {
          "output_type": "display_data",
          "data": {
            "text/plain": [
              "<Figure size 640x480 with 1 Axes>"
            ],
            "image/png": "[encoded data removed]"
          },
          "metadata": {}
        }
      ]
    },
    {
      "cell_type": "markdown",
      "metadata": {
        "id": "M3v-L5gdYLO_"
      },
      "source": [
        "_이 노트북에는 6장의 연습 문제에 대한 모든 샘플 코드와 솔루션이 포함되어 있습니다._"
      ]
    },
    {
      "cell_type": "markdown",
      "metadata": {
        "id": "NqNQMk-PYLO_"
      },
      "source": [
        "<table align=\"left\">\n",
        "  <td>\n",
        "    <a href=\"https://colab.research.google.com/github/rickiepark/handson-ml3/blob/main/06_decision_trees.ipynb\" target=\"_parent\"><img src=\"https://colab.research.google.com/assets/colab-badge.svg\" alt=\"Open In Colab\"/></a>\n",
        "  </td>\n",
        "</table>"
      ]
    },
    {
      "cell_type": "markdown",
      "metadata": {
        "tags": [],
        "id": "R8T8lzx1YLPA"
      },
      "source": [
        "# 설정"
      ]
    },
    {
      "cell_type": "markdown",
      "metadata": {
        "id": "NqzW8qDqYLPA"
      },
      "source": [
        "이 프로젝트에는 파이썬 3.7 이상이 필요합니다:"
      ]
    },
    {
      "cell_type": "code",
      "execution_count": null,
      "metadata": {
        "id": "bqBuSooRYLPA"
      },
      "outputs": [],
      "source": [
        "import sys\n",
        "\n",
        "assert sys.version_info >= (3, 7)"
      ]
    },
    {
      "cell_type": "markdown",
      "metadata": {
        "id": "ndFpFbeWYLPB"
      },
      "source": [
        "또한 사이킷런 ≥ 1.0.1이 필요합니다:"
      ]
    },
    {
      "cell_type": "code",
      "execution_count": null,
      "metadata": {
        "id": "vwceCkdxYLPB"
      },
      "outputs": [],
      "source": [
        "from packaging import version\n",
        "import sklearn\n",
        "\n",
        "assert version.parse(sklearn.__version__) >= version.parse(\"1.0.1\")"
      ]
    },
    {
      "cell_type": "markdown",
      "metadata": {
        "id": "Ng4nybtzYLPB"
      },
      "source": [
        "이전 챕터에서와 마찬가지로 기본 글꼴 크기를 정의하여 그림을 더 예쁘게 만들어 보겠습니다:"
      ]
    },
    {
      "cell_type": "code",
      "execution_count": null,
      "metadata": {
        "id": "fBzZF0zHYLPB"
      },
      "outputs": [],
      "source": [
        "import matplotlib.pyplot as plt\n",
        "\n",
        "plt.rc('font', size=14)\n",
        "plt.rc('axes', labelsize=14, titlesize=14)\n",
        "plt.rc('legend', fontsize=14)\n",
        "plt.rc('xtick', labelsize=10)\n",
        "plt.rc('ytick', labelsize=10)"
      ]
    },
    {
      "cell_type": "markdown",
      "metadata": {
        "id": "xyexKFSOYLPC"
      },
      "source": [
        "그리고 `images/decision_trees` 폴더를 만들고(아직 존재하지 않는 경우), 이 노트북을 통해 책에 사용할 그림을 고해상도로 저장하는 데 사용되는 `save_fig()` 함수를 정의해 보겠습니다:"
      ]
    },
    {
      "cell_type": "code",
      "execution_count": null,
      "metadata": {
        "id": "tejo6-exYLPC"
      },
      "outputs": [],
      "source": [
        "from pathlib import Path\n",
        "\n",
        "IMAGES_PATH = Path() / \"images\" / \"decision_trees\"\n",
        "IMAGES_PATH.mkdir(parents=True, exist_ok=True)\n",
        "\n",
        "def save_fig(fig_id, tight_layout=True, fig_extension=\"png\", resolution=300):\n",
        "    path = IMAGES_PATH / f\"{fig_id}.{fig_extension}\"\n",
        "    if tight_layout:\n",
        "        plt.tight_layout()\n",
        "    plt.savefig(path, format=fig_extension, dpi=resolution)"
      ]
    },
    {
      "cell_type": "markdown",
      "metadata": {
        "id": "NxLHpozNYLPC"
      },
      "source": [
        "# 결정 트리 훈련과 시각화"
      ]
    },
    {
      "cell_type": "code",
      "execution_count": null,
      "metadata": {
        "colab": {
          "base_uri": "https://localhost:8080/",
          "height": 80
        },
        "id": "Ir_DyLWHYLPC",
        "outputId": "a0e69380-99ec-4754-a1fc-bc38baa484b9"
      },
      "outputs": [
        {
          "output_type": "execute_result",
          "data": {
            "text/plain": [
              "DecisionTreeClassifier(max_depth=2, random_state=42)"
            ],
            "text/html": [
              "<style>#sk-container-id-9 {\n",
              "  /* Definition of color scheme common for light and dark mode */\n",
              "  --sklearn-color-text: black;\n",
              "  --sklearn-color-line: gray;\n",
              "  /* Definition of color scheme for unfitted estimators */\n",
              "  --sklearn-color-unfitted-level-0: #fff5e6;\n",
              "  --sklearn-color-unfitted-level-1: #f6e4d2;\n",
              "  --sklearn-color-unfitted-level-2: #ffe0b3;\n",
              "  --sklearn-color-unfitted-level-3: chocolate;\n",
              "  /* Definition of color scheme for fitted estimators */\n",
              "  --sklearn-color-fitted-level-0: #f0f8ff;\n",
              "  --sklearn-color-fitted-level-1: #d4ebff;\n",
              "  --sklearn-color-fitted-level-2: #b3dbfd;\n",
              "  --sklearn-color-fitted-level-3: cornflowerblue;\n",
              "\n",
              "  /* Specific color for light theme */\n",
              "  --sklearn-color-text-on-default-background: var(--sg-text-color, var(--theme-code-foreground, var(--jp-content-font-color1, black)));\n",
              "  --sklearn-color-background: var(--sg-background-color, var(--theme-background, var(--jp-layout-color0, white)));\n",
              "  --sklearn-color-border-box: var(--sg-text-color, var(--theme-code-foreground, var(--jp-content-font-color1, black)));\n",
              "  --sklearn-color-icon: #696969;\n",
              "\n",
              "  @media (prefers-color-scheme: dark) {\n",
              "    /* Redefinition of color scheme for dark theme */\n",
              "    --sklearn-color-text-on-default-background: var(--sg-text-color, var(--theme-code-foreground, var(--jp-content-font-color1, white)));\n",
              "    --sklearn-color-background: var(--sg-background-color, var(--theme-background, var(--jp-layout-color0, #111)));\n",
              "    --sklearn-color-border-box: var(--sg-text-color, var(--theme-code-foreground, var(--jp-content-font-color1, white)));\n",
              "    --sklearn-color-icon: #878787;\n",
              "  }\n",
              "}\n",
              "\n",
              "#sk-container-id-9 {\n",
              "  color: var(--sklearn-color-text);\n",
              "}\n",
              "\n",
              "#sk-container-id-9 pre {\n",
              "  padding: 0;\n",
              "}\n",
              "\n",
              "#sk-container-id-9 input.sk-hidden--visually {\n",
              "  border: 0;\n",
              "  clip: rect(1px 1px 1px 1px);\n",
              "  clip: rect(1px, 1px, 1px, 1px);\n",
              "  height: 1px;\n",
              "  margin: -1px;\n",
              "  overflow: hidden;\n",
              "  padding: 0;\n",
              "  position: absolute;\n",
              "  width: 1px;\n",
              "}\n",
              "\n",
              "#sk-container-id-9 div.sk-dashed-wrapped {\n",
              "  border: 1px dashed var(--sklearn-color-line);\n",
              "  margin: 0 0.4em 0.5em 0.4em;\n",
              "  box-sizing: border-box;\n",
              "  padding-bottom: 0.4em;\n",
              "  background-color: var(--sklearn-color-background);\n",
              "}\n",
              "\n",
              "#sk-container-id-9 div.sk-container {\n",
              "  /* jupyter's `normalize.less` sets `[hidden] { display: none; }`\n",
              "     but bootstrap.min.css set `[hidden] { display: none !important; }`\n",
              "     so we also need the `!important` here to be able to override the\n",
              "     default hidden behavior on the sphinx rendered scikit-learn.org.\n",
              "     See: https://github.com/scikit-learn/scikit-learn/issues/21755 */\n",
              "  display: inline-block !important;\n",
              "  position: relative;\n",
              "}\n",
              "\n",
              "#sk-container-id-9 div.sk-text-repr-fallback {\n",
              "  display: none;\n",
              "}\n",
              "\n",
              "div.sk-parallel-item,\n",
              "div.sk-serial,\n",
              "div.sk-item {\n",
              "  /* draw centered vertical line to link estimators */\n",
              "  background-image: linear-gradient(var(--sklearn-color-text-on-default-background), var(--sklearn-color-text-on-default-background));\n",
              "  background-size: 2px 100%;\n",
              "  background-repeat: no-repeat;\n",
              "  background-position: center center;\n",
              "}\n",
              "\n",
              "/* Parallel-specific style estimator block */\n",
              "\n",
              "#sk-container-id-9 div.sk-parallel-item::after {\n",
              "  content: \"\";\n",
              "  width: 100%;\n",
              "  border-bottom: 2px solid var(--sklearn-color-text-on-default-background);\n",
              "  flex-grow: 1;\n",
              "}\n",
              "\n",
              "#sk-container-id-9 div.sk-parallel {\n",
              "  display: flex;\n",
              "  align-items: stretch;\n",
              "  justify-content: center;\n",
              "  background-color: var(--sklearn-color-background);\n",
              "  position: relative;\n",
              "}\n",
              "\n",
              "#sk-container-id-9 div.sk-parallel-item {\n",
              "  display: flex;\n",
              "  flex-direction: column;\n",
              "}\n",
              "\n",
              "#sk-container-id-9 div.sk-parallel-item:first-child::after {\n",
              "  align-self: flex-end;\n",
              "  width: 50%;\n",
              "}\n",
              "\n",
              "#sk-container-id-9 div.sk-parallel-item:last-child::after {\n",
              "  align-self: flex-start;\n",
              "  width: 50%;\n",
              "}\n",
              "\n",
              "#sk-container-id-9 div.sk-parallel-item:only-child::after {\n",
              "  width: 0;\n",
              "}\n",
              "\n",
              "/* Serial-specific style estimator block */\n",
              "\n",
              "#sk-container-id-9 div.sk-serial {\n",
              "  display: flex;\n",
              "  flex-direction: column;\n",
              "  align-items: center;\n",
              "  background-color: var(--sklearn-color-background);\n",
              "  padding-right: 1em;\n",
              "  padding-left: 1em;\n",
              "}\n",
              "\n",
              "\n",
              "/* Toggleable style: style used for estimator/Pipeline/ColumnTransformer box that is\n",
              "clickable and can be expanded/collapsed.\n",
              "- Pipeline and ColumnTransformer use this feature and define the default style\n",
              "- Estimators will overwrite some part of the style using the `sk-estimator` class\n",
              "*/\n",
              "\n",
              "/* Pipeline and ColumnTransformer style (default) */\n",
              "\n",
              "#sk-container-id-9 div.sk-toggleable {\n",
              "  /* Default theme specific background. It is overwritten whether we have a\n",
              "  specific estimator or a Pipeline/ColumnTransformer */\n",
              "  background-color: var(--sklearn-color-background);\n",
              "}\n",
              "\n",
              "/* Toggleable label */\n",
              "#sk-container-id-9 label.sk-toggleable__label {\n",
              "  cursor: pointer;\n",
              "  display: block;\n",
              "  width: 100%;\n",
              "  margin-bottom: 0;\n",
              "  padding: 0.5em;\n",
              "  box-sizing: border-box;\n",
              "  text-align: center;\n",
              "}\n",
              "\n",
              "#sk-container-id-9 label.sk-toggleable__label-arrow:before {\n",
              "  /* Arrow on the left of the label */\n",
              "  content: \"▸\";\n",
              "  float: left;\n",
              "  margin-right: 0.25em;\n",
              "  color: var(--sklearn-color-icon);\n",
              "}\n",
              "\n",
              "#sk-container-id-9 label.sk-toggleable__label-arrow:hover:before {\n",
              "  color: var(--sklearn-color-text);\n",
              "}\n",
              "\n",
              "/* Toggleable content - dropdown */\n",
              "\n",
              "#sk-container-id-9 div.sk-toggleable__content {\n",
              "  max-height: 0;\n",
              "  max-width: 0;\n",
              "  overflow: hidden;\n",
              "  text-align: left;\n",
              "  /* unfitted */\n",
              "  background-color: var(--sklearn-color-unfitted-level-0);\n",
              "}\n",
              "\n",
              "#sk-container-id-9 div.sk-toggleable__content.fitted {\n",
              "  /* fitted */\n",
              "  background-color: var(--sklearn-color-fitted-level-0);\n",
              "}\n",
              "\n",
              "#sk-container-id-9 div.sk-toggleable__content pre {\n",
              "  margin: 0.2em;\n",
              "  border-radius: 0.25em;\n",
              "  color: var(--sklearn-color-text);\n",
              "  /* unfitted */\n",
              "  background-color: var(--sklearn-color-unfitted-level-0);\n",
              "}\n",
              "\n",
              "#sk-container-id-9 div.sk-toggleable__content.fitted pre {\n",
              "  /* unfitted */\n",
              "  background-color: var(--sklearn-color-fitted-level-0);\n",
              "}\n",
              "\n",
              "#sk-container-id-9 input.sk-toggleable__control:checked~div.sk-toggleable__content {\n",
              "  /* Expand drop-down */\n",
              "  max-height: 200px;\n",
              "  max-width: 100%;\n",
              "  overflow: auto;\n",
              "}\n",
              "\n",
              "#sk-container-id-9 input.sk-toggleable__control:checked~label.sk-toggleable__label-arrow:before {\n",
              "  content: \"▾\";\n",
              "}\n",
              "\n",
              "/* Pipeline/ColumnTransformer-specific style */\n",
              "\n",
              "#sk-container-id-9 div.sk-label input.sk-toggleable__control:checked~label.sk-toggleable__label {\n",
              "  color: var(--sklearn-color-text);\n",
              "  background-color: var(--sklearn-color-unfitted-level-2);\n",
              "}\n",
              "\n",
              "#sk-container-id-9 div.sk-label.fitted input.sk-toggleable__control:checked~label.sk-toggleable__label {\n",
              "  background-color: var(--sklearn-color-fitted-level-2);\n",
              "}\n",
              "\n",
              "/* Estimator-specific style */\n",
              "\n",
              "/* Colorize estimator box */\n",
              "#sk-container-id-9 div.sk-estimator input.sk-toggleable__control:checked~label.sk-toggleable__label {\n",
              "  /* unfitted */\n",
              "  background-color: var(--sklearn-color-unfitted-level-2);\n",
              "}\n",
              "\n",
              "#sk-container-id-9 div.sk-estimator.fitted input.sk-toggleable__control:checked~label.sk-toggleable__label {\n",
              "  /* fitted */\n",
              "  background-color: var(--sklearn-color-fitted-level-2);\n",
              "}\n",
              "\n",
              "#sk-container-id-9 div.sk-label label.sk-toggleable__label,\n",
              "#sk-container-id-9 div.sk-label label {\n",
              "  /* The background is the default theme color */\n",
              "  color: var(--sklearn-color-text-on-default-background);\n",
              "}\n",
              "\n",
              "/* On hover, darken the color of the background */\n",
              "#sk-container-id-9 div.sk-label:hover label.sk-toggleable__label {\n",
              "  color: var(--sklearn-color-text);\n",
              "  background-color: var(--sklearn-color-unfitted-level-2);\n",
              "}\n",
              "\n",
              "/* Label box, darken color on hover, fitted */\n",
              "#sk-container-id-9 div.sk-label.fitted:hover label.sk-toggleable__label.fitted {\n",
              "  color: var(--sklearn-color-text);\n",
              "  background-color: var(--sklearn-color-fitted-level-2);\n",
              "}\n",
              "\n",
              "/* Estimator label */\n",
              "\n",
              "#sk-container-id-9 div.sk-label label {\n",
              "  font-family: monospace;\n",
              "  font-weight: bold;\n",
              "  display: inline-block;\n",
              "  line-height: 1.2em;\n",
              "}\n",
              "\n",
              "#sk-container-id-9 div.sk-label-container {\n",
              "  text-align: center;\n",
              "}\n",
              "\n",
              "/* Estimator-specific */\n",
              "#sk-container-id-9 div.sk-estimator {\n",
              "  font-family: monospace;\n",
              "  border: 1px dotted var(--sklearn-color-border-box);\n",
              "  border-radius: 0.25em;\n",
              "  box-sizing: border-box;\n",
              "  margin-bottom: 0.5em;\n",
              "  /* unfitted */\n",
              "  background-color: var(--sklearn-color-unfitted-level-0);\n",
              "}\n",
              "\n",
              "#sk-container-id-9 div.sk-estimator.fitted {\n",
              "  /* fitted */\n",
              "  background-color: var(--sklearn-color-fitted-level-0);\n",
              "}\n",
              "\n",
              "/* on hover */\n",
              "#sk-container-id-9 div.sk-estimator:hover {\n",
              "  /* unfitted */\n",
              "  background-color: var(--sklearn-color-unfitted-level-2);\n",
              "}\n",
              "\n",
              "#sk-container-id-9 div.sk-estimator.fitted:hover {\n",
              "  /* fitted */\n",
              "  background-color: var(--sklearn-color-fitted-level-2);\n",
              "}\n",
              "\n",
              "/* Specification for estimator info (e.g. \"i\" and \"?\") */\n",
              "\n",
              "/* Common style for \"i\" and \"?\" */\n",
              "\n",
              ".sk-estimator-doc-link,\n",
              "a:link.sk-estimator-doc-link,\n",
              "a:visited.sk-estimator-doc-link {\n",
              "  float: right;\n",
              "  font-size: smaller;\n",
              "  line-height: 1em;\n",
              "  font-family: monospace;\n",
              "  background-color: var(--sklearn-color-background);\n",
              "  border-radius: 1em;\n",
              "  height: 1em;\n",
              "  width: 1em;\n",
              "  text-decoration: none !important;\n",
              "  margin-left: 1ex;\n",
              "  /* unfitted */\n",
              "  border: var(--sklearn-color-unfitted-level-1) 1pt solid;\n",
              "  color: var(--sklearn-color-unfitted-level-1);\n",
              "}\n",
              "\n",
              ".sk-estimator-doc-link.fitted,\n",
              "a:link.sk-estimator-doc-link.fitted,\n",
              "a:visited.sk-estimator-doc-link.fitted {\n",
              "  /* fitted */\n",
              "  border: var(--sklearn-color-fitted-level-1) 1pt solid;\n",
              "  color: var(--sklearn-color-fitted-level-1);\n",
              "}\n",
              "\n",
              "/* On hover */\n",
              "div.sk-estimator:hover .sk-estimator-doc-link:hover,\n",
              ".sk-estimator-doc-link:hover,\n",
              "div.sk-label-container:hover .sk-estimator-doc-link:hover,\n",
              ".sk-estimator-doc-link:hover {\n",
              "  /* unfitted */\n",
              "  background-color: var(--sklearn-color-unfitted-level-3);\n",
              "  color: var(--sklearn-color-background);\n",
              "  text-decoration: none;\n",
              "}\n",
              "\n",
              "div.sk-estimator.fitted:hover .sk-estimator-doc-link.fitted:hover,\n",
              ".sk-estimator-doc-link.fitted:hover,\n",
              "div.sk-label-container:hover .sk-estimator-doc-link.fitted:hover,\n",
              ".sk-estimator-doc-link.fitted:hover {\n",
              "  /* fitted */\n",
              "  background-color: var(--sklearn-color-fitted-level-3);\n",
              "  color: var(--sklearn-color-background);\n",
              "  text-decoration: none;\n",
              "}\n",
              "\n",
              "/* Span, style for the box shown on hovering the info icon */\n",
              ".sk-estimator-doc-link span {\n",
              "  display: none;\n",
              "  z-index: 9999;\n",
              "  position: relative;\n",
              "  font-weight: normal;\n",
              "  right: .2ex;\n",
              "  padding: .5ex;\n",
              "  margin: .5ex;\n",
              "  width: min-content;\n",
              "  min-width: 20ex;\n",
              "  max-width: 50ex;\n",
              "  color: var(--sklearn-color-text);\n",
              "  box-shadow: 2pt 2pt 4pt #999;\n",
              "  /* unfitted */\n",
              "  background: var(--sklearn-color-unfitted-level-0);\n",
              "  border: .5pt solid var(--sklearn-color-unfitted-level-3);\n",
              "}\n",
              "\n",
              ".sk-estimator-doc-link.fitted span {\n",
              "  /* fitted */\n",
              "  background: var(--sklearn-color-fitted-level-0);\n",
              "  border: var(--sklearn-color-fitted-level-3);\n",
              "}\n",
              "\n",
              ".sk-estimator-doc-link:hover span {\n",
              "  display: block;\n",
              "}\n",
              "\n",
              "/* \"?\"-specific style due to the `<a>` HTML tag */\n",
              "\n",
              "#sk-container-id-9 a.estimator_doc_link {\n",
              "  float: right;\n",
              "  font-size: 1rem;\n",
              "  line-height: 1em;\n",
              "  font-family: monospace;\n",
              "  background-color: var(--sklearn-color-background);\n",
              "  border-radius: 1rem;\n",
              "  height: 1rem;\n",
              "  width: 1rem;\n",
              "  text-decoration: none;\n",
              "  /* unfitted */\n",
              "  color: var(--sklearn-color-unfitted-level-1);\n",
              "  border: var(--sklearn-color-unfitted-level-1) 1pt solid;\n",
              "}\n",
              "\n",
              "#sk-container-id-9 a.estimator_doc_link.fitted {\n",
              "  /* fitted */\n",
              "  border: var(--sklearn-color-fitted-level-1) 1pt solid;\n",
              "  color: var(--sklearn-color-fitted-level-1);\n",
              "}\n",
              "\n",
              "/* On hover */\n",
              "#sk-container-id-9 a.estimator_doc_link:hover {\n",
              "  /* unfitted */\n",
              "  background-color: var(--sklearn-color-unfitted-level-3);\n",
              "  color: var(--sklearn-color-background);\n",
              "  text-decoration: none;\n",
              "}\n",
              "\n",
              "#sk-container-id-9 a.estimator_doc_link.fitted:hover {\n",
              "  /* fitted */\n",
              "  background-color: var(--sklearn-color-fitted-level-3);\n",
              "}\n",
              "</style><div id=\"sk-container-id-9\" class=\"sk-top-container\"><div class=\"sk-text-repr-fallback\"><pre>DecisionTreeClassifier(max_depth=2, random_state=42)</pre><b>In a Jupyter environment, please rerun this cell to show the HTML representation or trust the notebook. <br />On GitHub, the HTML representation is unable to render, please try loading this page with nbviewer.org.</b></div><div class=\"sk-container\" hidden><div class=\"sk-item\"><div class=\"sk-estimator fitted sk-toggleable\"><input class=\"sk-toggleable__control sk-hidden--visually\" id=\"sk-estimator-id-11\" type=\"checkbox\" checked><label for=\"sk-estimator-id-11\" class=\"sk-toggleable__label fitted sk-toggleable__label-arrow fitted\">&nbsp;&nbsp;DecisionTreeClassifier<a class=\"sk-estimator-doc-link fitted\" rel=\"noreferrer\" target=\"_blank\" href=\"https://scikit-learn.org/1.5/modules/generated/sklearn.tree.DecisionTreeClassifier.html\">?<span>Documentation for DecisionTreeClassifier</span></a><span class=\"sk-estimator-doc-link fitted\">i<span>Fitted</span></span></label><div class=\"sk-toggleable__content fitted\"><pre>DecisionTreeClassifier(max_depth=2, random_state=42)</pre></div> </div></div></div></div>"
            ]
          },
          "metadata": {},
          "execution_count": 66
        }
      ],
      "source": [
        "from sklearn.datasets import load_iris\n",
        "from sklearn.tree import DecisionTreeClassifier\n",
        "\n",
        "iris = load_iris(as_frame=True)\n",
        "X_iris = iris.data[[\"petal length (cm)\", \"petal width (cm)\"]].values\n",
        "y_iris = iris.target\n",
        "\n",
        "tree_clf = DecisionTreeClassifier(max_depth=2, random_state=42)\n",
        "tree_clf.fit(X_iris, y_iris)"
      ]
    },
    {
      "cell_type": "markdown",
      "metadata": {
        "id": "ziIetolWYLPC"
      },
      "source": [
        "**이 코드 예제는 그림 6-1 붓꽃 결정 트리를 생성합니다:**"
      ]
    },
    {
      "cell_type": "code",
      "execution_count": null,
      "metadata": {
        "id": "h_9AfRG0YLPC"
      },
      "outputs": [],
      "source": [
        "from sklearn.tree import export_graphviz\n",
        "\n",
        "export_graphviz(\n",
        "        tree_clf,\n",
        "        out_file=str(IMAGES_PATH / \"iris_tree.dot\"),  # 경로가 책과 다릅니다.\n",
        "        feature_names=[\"petal length (cm)\", \"petal width (cm)\"],\n",
        "        class_names=iris.target_names,\n",
        "        rounded=True,\n",
        "        filled=True\n",
        "    )"
      ]
    },
    {
      "cell_type": "code",
      "execution_count": null,
      "metadata": {
        "colab": {
          "base_uri": "https://localhost:8080/",
          "height": 441
        },
        "id": "rSR83IeaYLPC",
        "outputId": "d962faa8-5341-4638-834c-1d84f17df0f6"
      },
      "outputs": [
        {
          "output_type": "execute_result",
          "data": {
            "image/svg+xml": "<?xml version=\"1.0\" encoding=\"UTF-8\" standalone=\"no\"?>\n<!DOCTYPE svg PUBLIC \"-//W3C//DTD SVG 1.1//EN\"\n \"http://www.w3.org/Graphics/SVG/1.1/DTD/svg11.dtd\">\n<!-- Generated by graphviz version 2.43.0 (0)\n -->\n<!-- Title: Tree Pages: 1 -->\n<svg width=\"351pt\" height=\"314pt\"\n viewBox=\"0.00 0.00 351.00 314.00\" xmlns=\"http://www.w3.org/2000/svg\" xmlns:xlink=\"http://www.w3.org/1999/xlink\">\n<g id=\"graph0\" class=\"graph\" transform=\"scale(1 1) rotate(0) translate(4 310)\">\n<title>Tree</title>\n<polygon fill=\"white\" stroke=\"transparent\" points=\"-4,4 -4,-310 347,-310 347,4 -4,4\"/>\n<!-- 0 -->\n<g id=\"node1\" class=\"node\">\n<title>0</title>\n<path fill=\"#ffffff\" stroke=\"black\" d=\"M209.5,-306C209.5,-306 65.5,-306 65.5,-306 59.5,-306 53.5,-300 53.5,-294 53.5,-294 53.5,-235 53.5,-235 53.5,-229 59.5,-223 65.5,-223 65.5,-223 209.5,-223 209.5,-223 215.5,-223 221.5,-229 221.5,-235 221.5,-235 221.5,-294 221.5,-294 221.5,-300 215.5,-306 209.5,-306\"/>\n<text text-anchor=\"middle\" x=\"137.5\" y=\"-290.8\" font-family=\"Helvetica,sans-Serif\" font-size=\"14.00\">petal length (cm) &lt;= 2.45</text>\n<text text-anchor=\"middle\" x=\"137.5\" y=\"-275.8\" font-family=\"Helvetica,sans-Serif\" font-size=\"14.00\">gini = 0.667</text>\n<text text-anchor=\"middle\" x=\"137.5\" y=\"-260.8\" font-family=\"Helvetica,sans-Serif\" font-size=\"14.00\">samples = 150</text>\n<text text-anchor=\"middle\" x=\"137.5\" y=\"-245.8\" font-family=\"Helvetica,sans-Serif\" font-size=\"14.00\">value = [50, 50, 50]</text>\n<text text-anchor=\"middle\" x=\"137.5\" y=\"-230.8\" font-family=\"Helvetica,sans-Serif\" font-size=\"14.00\">class = setosa</text>\n</g>\n<!-- 1 -->\n<g id=\"node2\" class=\"node\">\n<title>1</title>\n<path fill=\"#e58139\" stroke=\"black\" d=\"M105,-179.5C105,-179.5 12,-179.5 12,-179.5 6,-179.5 0,-173.5 0,-167.5 0,-167.5 0,-123.5 0,-123.5 0,-117.5 6,-111.5 12,-111.5 12,-111.5 105,-111.5 105,-111.5 111,-111.5 117,-117.5 117,-123.5 117,-123.5 117,-167.5 117,-167.5 117,-173.5 111,-179.5 105,-179.5\"/>\n<text text-anchor=\"middle\" x=\"58.5\" y=\"-164.3\" font-family=\"Helvetica,sans-Serif\" font-size=\"14.00\">gini = 0.0</text>\n<text text-anchor=\"middle\" x=\"58.5\" y=\"-149.3\" font-family=\"Helvetica,sans-Serif\" font-size=\"14.00\">samples = 50</text>\n<text text-anchor=\"middle\" x=\"58.5\" y=\"-134.3\" font-family=\"Helvetica,sans-Serif\" font-size=\"14.00\">value = [50, 0, 0]</text>\n<text text-anchor=\"middle\" x=\"58.5\" y=\"-119.3\" font-family=\"Helvetica,sans-Serif\" font-size=\"14.00\">class = setosa</text>\n</g>\n<!-- 0&#45;&gt;1 -->\n<g id=\"edge1\" class=\"edge\">\n<title>0&#45;&gt;1</title>\n<path fill=\"none\" stroke=\"black\" d=\"M110.09,-222.91C102.49,-211.65 94.23,-199.42 86.59,-188.11\"/>\n<polygon fill=\"black\" stroke=\"black\" points=\"89.39,-186 80.89,-179.67 83.59,-189.91 89.39,-186\"/>\n<text text-anchor=\"middle\" x=\"76.14\" y=\"-200.51\" font-family=\"Helvetica,sans-Serif\" font-size=\"14.00\">True</text>\n</g>\n<!-- 2 -->\n<g id=\"node3\" class=\"node\">\n<title>2</title>\n<path fill=\"#ffffff\" stroke=\"black\" d=\"M286,-187C286,-187 147,-187 147,-187 141,-187 135,-181 135,-175 135,-175 135,-116 135,-116 135,-110 141,-104 147,-104 147,-104 286,-104 286,-104 292,-104 298,-110 298,-116 298,-116 298,-175 298,-175 298,-181 292,-187 286,-187\"/>\n<text text-anchor=\"middle\" x=\"216.5\" y=\"-171.8\" font-family=\"Helvetica,sans-Serif\" font-size=\"14.00\">petal width (cm) &lt;= 1.75</text>\n<text text-anchor=\"middle\" x=\"216.5\" y=\"-156.8\" font-family=\"Helvetica,sans-Serif\" font-size=\"14.00\">gini = 0.5</text>\n<text text-anchor=\"middle\" x=\"216.5\" y=\"-141.8\" font-family=\"Helvetica,sans-Serif\" font-size=\"14.00\">samples = 100</text>\n<text text-anchor=\"middle\" x=\"216.5\" y=\"-126.8\" font-family=\"Helvetica,sans-Serif\" font-size=\"14.00\">value = [0, 50, 50]</text>\n<text text-anchor=\"middle\" x=\"216.5\" y=\"-111.8\" font-family=\"Helvetica,sans-Serif\" font-size=\"14.00\">class = versicolor</text>\n</g>\n<!-- 0&#45;&gt;2 -->\n<g id=\"edge2\" class=\"edge\">\n<title>0&#45;&gt;2</title>\n<path fill=\"none\" stroke=\"black\" d=\"M164.91,-222.91C170.91,-214.01 177.33,-204.51 183.53,-195.33\"/>\n<polygon fill=\"black\" stroke=\"black\" points=\"186.44,-197.27 189.14,-187.02 180.64,-193.35 186.44,-197.27\"/>\n<text text-anchor=\"middle\" x=\"193.9\" y=\"-207.86\" font-family=\"Helvetica,sans-Serif\" font-size=\"14.00\">False</text>\n</g>\n<!-- 3 -->\n<g id=\"node4\" class=\"node\">\n<title>3</title>\n<path fill=\"#4de88e\" stroke=\"black\" d=\"M196,-68C196,-68 99,-68 99,-68 93,-68 87,-62 87,-56 87,-56 87,-12 87,-12 87,-6 93,0 99,0 99,0 196,0 196,0 202,0 208,-6 208,-12 208,-12 208,-56 208,-56 208,-62 202,-68 196,-68\"/>\n<text text-anchor=\"middle\" x=\"147.5\" y=\"-52.8\" font-family=\"Helvetica,sans-Serif\" font-size=\"14.00\">gini = 0.168</text>\n<text text-anchor=\"middle\" x=\"147.5\" y=\"-37.8\" font-family=\"Helvetica,sans-Serif\" font-size=\"14.00\">samples = 54</text>\n<text text-anchor=\"middle\" x=\"147.5\" y=\"-22.8\" font-family=\"Helvetica,sans-Serif\" font-size=\"14.00\">value = [0, 49, 5]</text>\n<text text-anchor=\"middle\" x=\"147.5\" y=\"-7.8\" font-family=\"Helvetica,sans-Serif\" font-size=\"14.00\">class = versicolor</text>\n</g>\n<!-- 2&#45;&gt;3 -->\n<g id=\"edge3\" class=\"edge\">\n<title>2&#45;&gt;3</title>\n<path fill=\"none\" stroke=\"black\" d=\"M190.81,-103.73C185.29,-94.97 179.45,-85.7 173.91,-76.91\"/>\n<polygon fill=\"black\" stroke=\"black\" points=\"176.78,-74.89 168.48,-68.3 170.85,-78.63 176.78,-74.89\"/>\n</g>\n<!-- 4 -->\n<g id=\"node5\" class=\"node\">\n<title>4</title>\n<path fill=\"#843de6\" stroke=\"black\" d=\"M331,-68C331,-68 238,-68 238,-68 232,-68 226,-62 226,-56 226,-56 226,-12 226,-12 226,-6 232,0 238,0 238,0 331,0 331,0 337,0 343,-6 343,-12 343,-12 343,-56 343,-56 343,-62 337,-68 331,-68\"/>\n<text text-anchor=\"middle\" x=\"284.5\" y=\"-52.8\" font-family=\"Helvetica,sans-Serif\" font-size=\"14.00\">gini = 0.043</text>\n<text text-anchor=\"middle\" x=\"284.5\" y=\"-37.8\" font-family=\"Helvetica,sans-Serif\" font-size=\"14.00\">samples = 46</text>\n<text text-anchor=\"middle\" x=\"284.5\" y=\"-22.8\" font-family=\"Helvetica,sans-Serif\" font-size=\"14.00\">value = [0, 1, 45]</text>\n<text text-anchor=\"middle\" x=\"284.5\" y=\"-7.8\" font-family=\"Helvetica,sans-Serif\" font-size=\"14.00\">class = virginica</text>\n</g>\n<!-- 2&#45;&gt;4 -->\n<g id=\"edge4\" class=\"edge\">\n<title>2&#45;&gt;4</title>\n<path fill=\"none\" stroke=\"black\" d=\"M241.82,-103.73C247.26,-94.97 253.01,-85.7 258.48,-76.91\"/>\n<polygon fill=\"black\" stroke=\"black\" points=\"261.52,-78.64 263.82,-68.3 255.57,-74.95 261.52,-78.64\"/>\n</g>\n</g>\n</svg>\n",
            "text/plain": [
              "<graphviz.sources.Source at 0x7f5ff8eefe50>"
            ]
          },
          "metadata": {},
          "execution_count": 68
        }
      ],
      "source": [
        "from graphviz import Source\n",
        "\n",
        "Source.from_file(IMAGES_PATH / \"iris_tree.dot\")  # 경로가 책과 다릅니다."
      ]
    },
    {
      "cell_type": "markdown",
      "metadata": {
        "id": "ZfsJm-FFYLPD"
      },
      "source": [
        "Graphviz는 `.dot` 파일을 다양한 포맷으로 변환할 수 있는 `dot` 명령줄 도구도 제공합니다. 다음 명령은 dot 파일을 png 이미지로 변환합니다:"
      ]
    },
    {
      "cell_type": "code",
      "execution_count": null,
      "metadata": {
        "id": "L8HdQrO6YLPD"
      },
      "outputs": [],
      "source": [
        "# 추가 코드\n",
        "!dot -Tpng {IMAGES_PATH / \"iris_tree.dot\"} -o {IMAGES_PATH / \"iris_tree.png\"}"
      ]
    },
    {
      "cell_type": "markdown",
      "metadata": {
        "id": "2fhPuepHYLPD"
      },
      "source": [
        "# 예측하기"
      ]
    },
    {
      "cell_type": "code",
      "source": [
        "import numpy as np\n",
        "import plotly.graph_objects as go\n",
        "import plotly.express as px\n",
        "from sklearn.tree import DecisionTreeClassifier\n",
        "from matplotlib.colors import ListedColormap\n",
        "\n",
        "# 기본 데이터 및 모델 설정\n",
        "lengths, widths = np.meshgrid(np.linspace(0, 7.2, 100), np.linspace(0, 3, 100))\n",
        "X_iris_all = np.c_[lengths.ravel(), widths.ravel()]\n",
        "\n",
        "# 모델 예측 및 결정 경계 시각화 준비\n",
        "y_pred = tree_clf.predict(X_iris_all).reshape(lengths.shape)\n",
        "custom_cmap = ['#fafab0', '#9898ff', '#a0faa0']\n",
        "\n",
        "# 결정 경계 시각화\n",
        "decision_boundary_fig = go.Figure()\n",
        "\n",
        "decision_boundary_fig.add_trace(\n",
        "    go.Contour(\n",
        "        x=np.linspace(0, 7.2, 100),\n",
        "        y=np.linspace(0, 3, 100),\n",
        "        z=y_pred,\n",
        "        colorscale=custom_cmap,\n",
        "        opacity=0.3,\n",
        "        showscale=False\n",
        "    )\n",
        ")\n",
        "\n",
        "# 샘플 데이터 포인트 시각화\n",
        "for idx, (name, marker_symbol) in enumerate(zip(iris.target_names, ['circle', 'square', 'triangle-up'])):\n",
        "    target_data = X_iris[y_iris == idx]\n",
        "    decision_boundary_fig.add_trace(\n",
        "        go.Scatter(\n",
        "            x=target_data[:, 0], y=target_data[:, 1],\n",
        "            mode='markers',\n",
        "            name=f'Iris {name}',\n",
        "            marker=dict(symbol=marker_symbol, size=10)\n",
        "        )\n",
        "    )\n",
        "\n",
        "# 결정 트리의 깊이 시각화\n",
        "th0, th1, th2a, th2b = tree_clf_deeper.tree_.threshold[[0, 2, 3, 6]]\n",
        "decision_boundary_fig.add_shape(type=\"line\", x0=th0, x1=th0, y0=0, y1=3,\n",
        "                                line=dict(color=\"Black\", width=2))\n",
        "decision_boundary_fig.add_shape(type=\"line\", x0=th0, x1=7.2, y0=th1, y1=th1,\n",
        "                                line=dict(color=\"Black\", dash=\"dash\", width=2))\n",
        "decision_boundary_fig.add_shape(type=\"line\", x0=th2a, x1=th2a, y0=0, y1=th1,\n",
        "                                line=dict(color=\"Black\", dash=\"dot\", width=2))\n",
        "decision_boundary_fig.add_shape(type=\"line\", x0=th2b, x1=th2b, y0=th1, y1=3,\n",
        "                                line=dict(color=\"Black\", dash=\"dot\", width=2))\n",
        "\n",
        "# 레이아웃 설정 및 그래프 표시\n",
        "decision_boundary_fig.update_layout(\n",
        "    title=\"Decision Tree Decision Boundaries\",\n",
        "    xaxis_title=\"Petal length (cm)\",\n",
        "    yaxis_title=\"Petal width (cm)\",\n",
        "    legend_title=\"Iris Species\",\n",
        "    width=800,\n",
        "    height=600\n",
        ")\n",
        "\n",
        "# 그래프 표시\n",
        "decision_boundary_fig.show()"
      ],
      "metadata": {
        "colab": {
          "base_uri": "https://localhost:8080/",
          "height": 617
        },
        "id": "TxOFiIKbmHlY",
        "outputId": "5cf527e9-51d5-4045-9d5f-cfc551562932"
      },
      "execution_count": null,
      "outputs": [
        {
          "output_type": "display_data",
          "data": {
            "text/html": [
              "<html>\n",
              "<head><meta charset=\"utf-8\" /></head>\n",
              "<body>\n",
              "    <div>            <script src=\"https://cdnjs.cloudflare.com/ajax/libs/mathjax/2.7.5/MathJax.js?config=TeX-AMS-MML_SVG\"></script><script type=\"text/javascript\">if (window.MathJax && window.MathJax.Hub && window.MathJax.Hub.Config) {window.MathJax.Hub.Config({SVG: {font: \"STIX-Web\"}});}</script>                <script type=\"text/javascript\">window.PlotlyConfig = {MathJaxConfig: 'local'};</script>\n",
              "        <script charset=\"utf-8\" src=\"https://cdn.plot.ly/plotly-2.35.2.min.js\"></script>                <div id=\"0d140d75-069c-4975-a8a7-6c58756fd6bd\" class=\"plotly-graph-div\" style=\"height:600px; width:800px;\"></div>            <script type=\"text/javascript\">                                    window.PLOTLYENV=window.PLOTLYENV || {};                                    if (document.getElementById(\"0d140d75-069c-4975-a8a7-6c58756fd6bd\")) {                    Plotly.newPlot(                        \"0d140d75-069c-4975-a8a7-6c58756fd6bd\",                        [{\"colorscale\":[[0.0,\"#fafab0\"],[0.5,\"#9898ff\"],[1.0,\"#a0faa0\"]],\"opacity\":0.3,\"showscale\":false,\"x\":[0.0,0.07272727272727272,0.14545454545454545,0.21818181818181817,0.2909090909090909,0.36363636363636365,0.43636363636363634,0.509090909090909,0.5818181818181818,0.6545454545454545,0.7272727272727273,0.7999999999999999,0.8727272727272727,0.9454545454545454,1.018181818181818,1.0909090909090908,1.1636363636363636,1.2363636363636363,1.309090909090909,1.3818181818181818,1.4545454545454546,1.5272727272727271,1.5999999999999999,1.6727272727272726,1.7454545454545454,1.8181818181818181,1.8909090909090909,1.9636363636363636,2.036363636363636,2.109090909090909,2.1818181818181817,2.2545454545454544,2.327272727272727,2.4,2.4727272727272727,2.5454545454545454,2.618181818181818,2.690909090909091,2.7636363636363637,2.8363636363636364,2.909090909090909,2.9818181818181815,3.0545454545454542,3.127272727272727,3.1999999999999997,3.2727272727272725,3.3454545454545452,3.418181818181818,3.4909090909090907,3.5636363636363635,3.6363636363636362,3.709090909090909,3.7818181818181817,3.8545454545454545,3.9272727272727272,4.0,4.072727272727272,4.1454545454545455,4.218181818181818,4.290909090909091,4.363636363636363,4.4363636363636365,4.509090909090909,4.581818181818182,4.654545454545454,4.727272727272727,4.8,4.872727272727272,4.945454545454545,5.018181818181818,5.090909090909091,5.163636363636363,5.236363636363636,5.309090909090909,5.381818181818182,5.454545454545454,5.527272727272727,5.6,5.672727272727273,5.745454545454545,5.818181818181818,5.890909090909091,5.963636363636363,6.036363636363636,6.1090909090909085,6.181818181818182,6.254545454545454,6.327272727272727,6.3999999999999995,6.472727272727273,6.545454545454545,6.618181818181818,6.6909090909090905,6.763636363636364,6.836363636363636,6.909090909090909,6.9818181818181815,7.054545454545454,7.127272727272727,7.2],\"y\":[0.0,0.030303030303030304,0.06060606060606061,0.09090909090909091,0.12121212121212122,0.15151515151515152,0.18181818181818182,0.21212121212121213,0.24242424242424243,0.2727272727272727,0.30303030303030304,0.33333333333333337,0.36363636363636365,0.3939393939393939,0.42424242424242425,0.4545454545454546,0.48484848484848486,0.5151515151515151,0.5454545454545454,0.5757575757575758,0.6060606060606061,0.6363636363636364,0.6666666666666667,0.696969696969697,0.7272727272727273,0.7575757575757576,0.7878787878787878,0.8181818181818182,0.8484848484848485,0.8787878787878788,0.9090909090909092,0.9393939393939394,0.9696969696969697,1.0,1.0303030303030303,1.0606060606060606,1.0909090909090908,1.1212121212121213,1.1515151515151516,1.1818181818181819,1.2121212121212122,1.2424242424242424,1.2727272727272727,1.303030303030303,1.3333333333333335,1.3636363636363638,1.393939393939394,1.4242424242424243,1.4545454545454546,1.4848484848484849,1.5151515151515151,1.5454545454545454,1.5757575757575757,1.6060606060606062,1.6363636363636365,1.6666666666666667,1.696969696969697,1.7272727272727273,1.7575757575757576,1.7878787878787878,1.8181818181818183,1.8484848484848486,1.878787878787879,1.9090909090909092,1.9393939393939394,1.9696969696969697,2.0,2.0303030303030303,2.0606060606060606,2.090909090909091,2.121212121212121,2.1515151515151514,2.1818181818181817,2.2121212121212124,2.2424242424242427,2.272727272727273,2.303030303030303,2.3333333333333335,2.3636363636363638,2.393939393939394,2.4242424242424243,2.4545454545454546,2.484848484848485,2.515151515151515,2.5454545454545454,2.5757575757575757,2.606060606060606,2.6363636363636362,2.666666666666667,2.6969696969696972,2.7272727272727275,2.757575757575758,2.787878787878788,2.8181818181818183,2.8484848484848486,2.878787878787879,2.909090909090909,2.9393939393939394,2.9696969696969697,3.0],\"z\":[[0,0,0,0,0,0,0,0,0,0,0,0,0,0,0,0,0,0,0,0,0,0,0,0,0,0,0,0,0,0,0,0,0,0,1,1,1,1,1,1,1,1,1,1,1,1,1,1,1,1,1,1,1,1,1,1,1,1,1,1,1,1,1,1,1,1,1,1,1,1,1,1,1,1,1,1,1,1,1,1,1,1,1,1,1,1,1,1,1,1,1,1,1,1,1,1,1,1,1,1],[0,0,0,0,0,0,0,0,0,0,0,0,0,0,0,0,0,0,0,0,0,0,0,0,0,0,0,0,0,0,0,0,0,0,1,1,1,1,1,1,1,1,1,1,1,1,1,1,1,1,1,1,1,1,1,1,1,1,1,1,1,1,1,1,1,1,1,1,1,1,1,1,1,1,1,1,1,1,1,1,1,1,1,1,1,1,1,1,1,1,1,1,1,1,1,1,1,1,1,1],[0,0,0,0,0,0,0,0,0,0,0,0,0,0,0,0,0,0,0,0,0,0,0,0,0,0,0,0,0,0,0,0,0,0,1,1,1,1,1,1,1,1,1,1,1,1,1,1,1,1,1,1,1,1,1,1,1,1,1,1,1,1,1,1,1,1,1,1,1,1,1,1,1,1,1,1,1,1,1,1,1,1,1,1,1,1,1,1,1,1,1,1,1,1,1,1,1,1,1,1],[0,0,0,0,0,0,0,0,0,0,0,0,0,0,0,0,0,0,0,0,0,0,0,0,0,0,0,0,0,0,0,0,0,0,1,1,1,1,1,1,1,1,1,1,1,1,1,1,1,1,1,1,1,1,1,1,1,1,1,1,1,1,1,1,1,1,1,1,1,1,1,1,1,1,1,1,1,1,1,1,1,1,1,1,1,1,1,1,1,1,1,1,1,1,1,1,1,1,1,1],[0,0,0,0,0,0,0,0,0,0,0,0,0,0,0,0,0,0,0,0,0,0,0,0,0,0,0,0,0,0,0,0,0,0,1,1,1,1,1,1,1,1,1,1,1,1,1,1,1,1,1,1,1,1,1,1,1,1,1,1,1,1,1,1,1,1,1,1,1,1,1,1,1,1,1,1,1,1,1,1,1,1,1,1,1,1,1,1,1,1,1,1,1,1,1,1,1,1,1,1],[0,0,0,0,0,0,0,0,0,0,0,0,0,0,0,0,0,0,0,0,0,0,0,0,0,0,0,0,0,0,0,0,0,0,1,1,1,1,1,1,1,1,1,1,1,1,1,1,1,1,1,1,1,1,1,1,1,1,1,1,1,1,1,1,1,1,1,1,1,1,1,1,1,1,1,1,1,1,1,1,1,1,1,1,1,1,1,1,1,1,1,1,1,1,1,1,1,1,1,1],[0,0,0,0,0,0,0,0,0,0,0,0,0,0,0,0,0,0,0,0,0,0,0,0,0,0,0,0,0,0,0,0,0,0,1,1,1,1,1,1,1,1,1,1,1,1,1,1,1,1,1,1,1,1,1,1,1,1,1,1,1,1,1,1,1,1,1,1,1,1,1,1,1,1,1,1,1,1,1,1,1,1,1,1,1,1,1,1,1,1,1,1,1,1,1,1,1,1,1,1],[0,0,0,0,0,0,0,0,0,0,0,0,0,0,0,0,0,0,0,0,0,0,0,0,0,0,0,0,0,0,0,0,0,0,1,1,1,1,1,1,1,1,1,1,1,1,1,1,1,1,1,1,1,1,1,1,1,1,1,1,1,1,1,1,1,1,1,1,1,1,1,1,1,1,1,1,1,1,1,1,1,1,1,1,1,1,1,1,1,1,1,1,1,1,1,1,1,1,1,1],[0,0,0,0,0,0,0,0,0,0,0,0,0,0,0,0,0,0,0,0,0,0,0,0,0,0,0,0,0,0,0,0,0,0,1,1,1,1,1,1,1,1,1,1,1,1,1,1,1,1,1,1,1,1,1,1,1,1,1,1,1,1,1,1,1,1,1,1,1,1,1,1,1,1,1,1,1,1,1,1,1,1,1,1,1,1,1,1,1,1,1,1,1,1,1,1,1,1,1,1],[0,0,0,0,0,0,0,0,0,0,0,0,0,0,0,0,0,0,0,0,0,0,0,0,0,0,0,0,0,0,0,0,0,0,1,1,1,1,1,1,1,1,1,1,1,1,1,1,1,1,1,1,1,1,1,1,1,1,1,1,1,1,1,1,1,1,1,1,1,1,1,1,1,1,1,1,1,1,1,1,1,1,1,1,1,1,1,1,1,1,1,1,1,1,1,1,1,1,1,1],[0,0,0,0,0,0,0,0,0,0,0,0,0,0,0,0,0,0,0,0,0,0,0,0,0,0,0,0,0,0,0,0,0,0,1,1,1,1,1,1,1,1,1,1,1,1,1,1,1,1,1,1,1,1,1,1,1,1,1,1,1,1,1,1,1,1,1,1,1,1,1,1,1,1,1,1,1,1,1,1,1,1,1,1,1,1,1,1,1,1,1,1,1,1,1,1,1,1,1,1],[0,0,0,0,0,0,0,0,0,0,0,0,0,0,0,0,0,0,0,0,0,0,0,0,0,0,0,0,0,0,0,0,0,0,1,1,1,1,1,1,1,1,1,1,1,1,1,1,1,1,1,1,1,1,1,1,1,1,1,1,1,1,1,1,1,1,1,1,1,1,1,1,1,1,1,1,1,1,1,1,1,1,1,1,1,1,1,1,1,1,1,1,1,1,1,1,1,1,1,1],[0,0,0,0,0,0,0,0,0,0,0,0,0,0,0,0,0,0,0,0,0,0,0,0,0,0,0,0,0,0,0,0,0,0,1,1,1,1,1,1,1,1,1,1,1,1,1,1,1,1,1,1,1,1,1,1,1,1,1,1,1,1,1,1,1,1,1,1,1,1,1,1,1,1,1,1,1,1,1,1,1,1,1,1,1,1,1,1,1,1,1,1,1,1,1,1,1,1,1,1],[0,0,0,0,0,0,0,0,0,0,0,0,0,0,0,0,0,0,0,0,0,0,0,0,0,0,0,0,0,0,0,0,0,0,1,1,1,1,1,1,1,1,1,1,1,1,1,1,1,1,1,1,1,1,1,1,1,1,1,1,1,1,1,1,1,1,1,1,1,1,1,1,1,1,1,1,1,1,1,1,1,1,1,1,1,1,1,1,1,1,1,1,1,1,1,1,1,1,1,1],[0,0,0,0,0,0,0,0,0,0,0,0,0,0,0,0,0,0,0,0,0,0,0,0,0,0,0,0,0,0,0,0,0,0,1,1,1,1,1,1,1,1,1,1,1,1,1,1,1,1,1,1,1,1,1,1,1,1,1,1,1,1,1,1,1,1,1,1,1,1,1,1,1,1,1,1,1,1,1,1,1,1,1,1,1,1,1,1,1,1,1,1,1,1,1,1,1,1,1,1],[0,0,0,0,0,0,0,0,0,0,0,0,0,0,0,0,0,0,0,0,0,0,0,0,0,0,0,0,0,0,0,0,0,0,1,1,1,1,1,1,1,1,1,1,1,1,1,1,1,1,1,1,1,1,1,1,1,1,1,1,1,1,1,1,1,1,1,1,1,1,1,1,1,1,1,1,1,1,1,1,1,1,1,1,1,1,1,1,1,1,1,1,1,1,1,1,1,1,1,1],[0,0,0,0,0,0,0,0,0,0,0,0,0,0,0,0,0,0,0,0,0,0,0,0,0,0,0,0,0,0,0,0,0,0,1,1,1,1,1,1,1,1,1,1,1,1,1,1,1,1,1,1,1,1,1,1,1,1,1,1,1,1,1,1,1,1,1,1,1,1,1,1,1,1,1,1,1,1,1,1,1,1,1,1,1,1,1,1,1,1,1,1,1,1,1,1,1,1,1,1],[0,0,0,0,0,0,0,0,0,0,0,0,0,0,0,0,0,0,0,0,0,0,0,0,0,0,0,0,0,0,0,0,0,0,1,1,1,1,1,1,1,1,1,1,1,1,1,1,1,1,1,1,1,1,1,1,1,1,1,1,1,1,1,1,1,1,1,1,1,1,1,1,1,1,1,1,1,1,1,1,1,1,1,1,1,1,1,1,1,1,1,1,1,1,1,1,1,1,1,1],[0,0,0,0,0,0,0,0,0,0,0,0,0,0,0,0,0,0,0,0,0,0,0,0,0,0,0,0,0,0,0,0,0,0,1,1,1,1,1,1,1,1,1,1,1,1,1,1,1,1,1,1,1,1,1,1,1,1,1,1,1,1,1,1,1,1,1,1,1,1,1,1,1,1,1,1,1,1,1,1,1,1,1,1,1,1,1,1,1,1,1,1,1,1,1,1,1,1,1,1],[0,0,0,0,0,0,0,0,0,0,0,0,0,0,0,0,0,0,0,0,0,0,0,0,0,0,0,0,0,0,0,0,0,0,1,1,1,1,1,1,1,1,1,1,1,1,1,1,1,1,1,1,1,1,1,1,1,1,1,1,1,1,1,1,1,1,1,1,1,1,1,1,1,1,1,1,1,1,1,1,1,1,1,1,1,1,1,1,1,1,1,1,1,1,1,1,1,1,1,1],[0,0,0,0,0,0,0,0,0,0,0,0,0,0,0,0,0,0,0,0,0,0,0,0,0,0,0,0,0,0,0,0,0,0,1,1,1,1,1,1,1,1,1,1,1,1,1,1,1,1,1,1,1,1,1,1,1,1,1,1,1,1,1,1,1,1,1,1,1,1,1,1,1,1,1,1,1,1,1,1,1,1,1,1,1,1,1,1,1,1,1,1,1,1,1,1,1,1,1,1],[0,0,0,0,0,0,0,0,0,0,0,0,0,0,0,0,0,0,0,0,0,0,0,0,0,0,0,0,0,0,0,0,0,0,1,1,1,1,1,1,1,1,1,1,1,1,1,1,1,1,1,1,1,1,1,1,1,1,1,1,1,1,1,1,1,1,1,1,1,1,1,1,1,1,1,1,1,1,1,1,1,1,1,1,1,1,1,1,1,1,1,1,1,1,1,1,1,1,1,1],[0,0,0,0,0,0,0,0,0,0,0,0,0,0,0,0,0,0,0,0,0,0,0,0,0,0,0,0,0,0,0,0,0,0,1,1,1,1,1,1,1,1,1,1,1,1,1,1,1,1,1,1,1,1,1,1,1,1,1,1,1,1,1,1,1,1,1,1,1,1,1,1,1,1,1,1,1,1,1,1,1,1,1,1,1,1,1,1,1,1,1,1,1,1,1,1,1,1,1,1],[0,0,0,0,0,0,0,0,0,0,0,0,0,0,0,0,0,0,0,0,0,0,0,0,0,0,0,0,0,0,0,0,0,0,1,1,1,1,1,1,1,1,1,1,1,1,1,1,1,1,1,1,1,1,1,1,1,1,1,1,1,1,1,1,1,1,1,1,1,1,1,1,1,1,1,1,1,1,1,1,1,1,1,1,1,1,1,1,1,1,1,1,1,1,1,1,1,1,1,1],[0,0,0,0,0,0,0,0,0,0,0,0,0,0,0,0,0,0,0,0,0,0,0,0,0,0,0,0,0,0,0,0,0,0,1,1,1,1,1,1,1,1,1,1,1,1,1,1,1,1,1,1,1,1,1,1,1,1,1,1,1,1,1,1,1,1,1,1,1,1,1,1,1,1,1,1,1,1,1,1,1,1,1,1,1,1,1,1,1,1,1,1,1,1,1,1,1,1,1,1],[0,0,0,0,0,0,0,0,0,0,0,0,0,0,0,0,0,0,0,0,0,0,0,0,0,0,0,0,0,0,0,0,0,0,1,1,1,1,1,1,1,1,1,1,1,1,1,1,1,1,1,1,1,1,1,1,1,1,1,1,1,1,1,1,1,1,1,1,1,1,1,1,1,1,1,1,1,1,1,1,1,1,1,1,1,1,1,1,1,1,1,1,1,1,1,1,1,1,1,1],[0,0,0,0,0,0,0,0,0,0,0,0,0,0,0,0,0,0,0,0,0,0,0,0,0,0,0,0,0,0,0,0,0,0,1,1,1,1,1,1,1,1,1,1,1,1,1,1,1,1,1,1,1,1,1,1,1,1,1,1,1,1,1,1,1,1,1,1,1,1,1,1,1,1,1,1,1,1,1,1,1,1,1,1,1,1,1,1,1,1,1,1,1,1,1,1,1,1,1,1],[0,0,0,0,0,0,0,0,0,0,0,0,0,0,0,0,0,0,0,0,0,0,0,0,0,0,0,0,0,0,0,0,0,0,1,1,1,1,1,1,1,1,1,1,1,1,1,1,1,1,1,1,1,1,1,1,1,1,1,1,1,1,1,1,1,1,1,1,1,1,1,1,1,1,1,1,1,1,1,1,1,1,1,1,1,1,1,1,1,1,1,1,1,1,1,1,1,1,1,1],[0,0,0,0,0,0,0,0,0,0,0,0,0,0,0,0,0,0,0,0,0,0,0,0,0,0,0,0,0,0,0,0,0,0,1,1,1,1,1,1,1,1,1,1,1,1,1,1,1,1,1,1,1,1,1,1,1,1,1,1,1,1,1,1,1,1,1,1,1,1,1,1,1,1,1,1,1,1,1,1,1,1,1,1,1,1,1,1,1,1,1,1,1,1,1,1,1,1,1,1],[0,0,0,0,0,0,0,0,0,0,0,0,0,0,0,0,0,0,0,0,0,0,0,0,0,0,0,0,0,0,0,0,0,0,1,1,1,1,1,1,1,1,1,1,1,1,1,1,1,1,1,1,1,1,1,1,1,1,1,1,1,1,1,1,1,1,1,1,1,1,1,1,1,1,1,1,1,1,1,1,1,1,1,1,1,1,1,1,1,1,1,1,1,1,1,1,1,1,1,1],[0,0,0,0,0,0,0,0,0,0,0,0,0,0,0,0,0,0,0,0,0,0,0,0,0,0,0,0,0,0,0,0,0,0,1,1,1,1,1,1,1,1,1,1,1,1,1,1,1,1,1,1,1,1,1,1,1,1,1,1,1,1,1,1,1,1,1,1,1,1,1,1,1,1,1,1,1,1,1,1,1,1,1,1,1,1,1,1,1,1,1,1,1,1,1,1,1,1,1,1],[0,0,0,0,0,0,0,0,0,0,0,0,0,0,0,0,0,0,0,0,0,0,0,0,0,0,0,0,0,0,0,0,0,0,1,1,1,1,1,1,1,1,1,1,1,1,1,1,1,1,1,1,1,1,1,1,1,1,1,1,1,1,1,1,1,1,1,1,1,1,1,1,1,1,1,1,1,1,1,1,1,1,1,1,1,1,1,1,1,1,1,1,1,1,1,1,1,1,1,1],[0,0,0,0,0,0,0,0,0,0,0,0,0,0,0,0,0,0,0,0,0,0,0,0,0,0,0,0,0,0,0,0,0,0,1,1,1,1,1,1,1,1,1,1,1,1,1,1,1,1,1,1,1,1,1,1,1,1,1,1,1,1,1,1,1,1,1,1,1,1,1,1,1,1,1,1,1,1,1,1,1,1,1,1,1,1,1,1,1,1,1,1,1,1,1,1,1,1,1,1],[0,0,0,0,0,0,0,0,0,0,0,0,0,0,0,0,0,0,0,0,0,0,0,0,0,0,0,0,0,0,0,0,0,0,1,1,1,1,1,1,1,1,1,1,1,1,1,1,1,1,1,1,1,1,1,1,1,1,1,1,1,1,1,1,1,1,1,1,1,1,1,1,1,1,1,1,1,1,1,1,1,1,1,1,1,1,1,1,1,1,1,1,1,1,1,1,1,1,1,1],[0,0,0,0,0,0,0,0,0,0,0,0,0,0,0,0,0,0,0,0,0,0,0,0,0,0,0,0,0,0,0,0,0,0,1,1,1,1,1,1,1,1,1,1,1,1,1,1,1,1,1,1,1,1,1,1,1,1,1,1,1,1,1,1,1,1,1,1,1,1,1,1,1,1,1,1,1,1,1,1,1,1,1,1,1,1,1,1,1,1,1,1,1,1,1,1,1,1,1,1],[0,0,0,0,0,0,0,0,0,0,0,0,0,0,0,0,0,0,0,0,0,0,0,0,0,0,0,0,0,0,0,0,0,0,1,1,1,1,1,1,1,1,1,1,1,1,1,1,1,1,1,1,1,1,1,1,1,1,1,1,1,1,1,1,1,1,1,1,1,1,1,1,1,1,1,1,1,1,1,1,1,1,1,1,1,1,1,1,1,1,1,1,1,1,1,1,1,1,1,1],[0,0,0,0,0,0,0,0,0,0,0,0,0,0,0,0,0,0,0,0,0,0,0,0,0,0,0,0,0,0,0,0,0,0,1,1,1,1,1,1,1,1,1,1,1,1,1,1,1,1,1,1,1,1,1,1,1,1,1,1,1,1,1,1,1,1,1,1,1,1,1,1,1,1,1,1,1,1,1,1,1,1,1,1,1,1,1,1,1,1,1,1,1,1,1,1,1,1,1,1],[0,0,0,0,0,0,0,0,0,0,0,0,0,0,0,0,0,0,0,0,0,0,0,0,0,0,0,0,0,0,0,0,0,0,1,1,1,1,1,1,1,1,1,1,1,1,1,1,1,1,1,1,1,1,1,1,1,1,1,1,1,1,1,1,1,1,1,1,1,1,1,1,1,1,1,1,1,1,1,1,1,1,1,1,1,1,1,1,1,1,1,1,1,1,1,1,1,1,1,1],[0,0,0,0,0,0,0,0,0,0,0,0,0,0,0,0,0,0,0,0,0,0,0,0,0,0,0,0,0,0,0,0,0,0,1,1,1,1,1,1,1,1,1,1,1,1,1,1,1,1,1,1,1,1,1,1,1,1,1,1,1,1,1,1,1,1,1,1,1,1,1,1,1,1,1,1,1,1,1,1,1,1,1,1,1,1,1,1,1,1,1,1,1,1,1,1,1,1,1,1],[0,0,0,0,0,0,0,0,0,0,0,0,0,0,0,0,0,0,0,0,0,0,0,0,0,0,0,0,0,0,0,0,0,0,1,1,1,1,1,1,1,1,1,1,1,1,1,1,1,1,1,1,1,1,1,1,1,1,1,1,1,1,1,1,1,1,1,1,1,1,1,1,1,1,1,1,1,1,1,1,1,1,1,1,1,1,1,1,1,1,1,1,1,1,1,1,1,1,1,1],[0,0,0,0,0,0,0,0,0,0,0,0,0,0,0,0,0,0,0,0,0,0,0,0,0,0,0,0,0,0,0,0,0,0,1,1,1,1,1,1,1,1,1,1,1,1,1,1,1,1,1,1,1,1,1,1,1,1,1,1,1,1,1,1,1,1,1,1,1,1,1,1,1,1,1,1,1,1,1,1,1,1,1,1,1,1,1,1,1,1,1,1,1,1,1,1,1,1,1,1],[0,0,0,0,0,0,0,0,0,0,0,0,0,0,0,0,0,0,0,0,0,0,0,0,0,0,0,0,0,0,0,0,0,0,1,1,1,1,1,1,1,1,1,1,1,1,1,1,1,1,1,1,1,1,1,1,1,1,1,1,1,1,1,1,1,1,1,1,1,1,1,1,1,1,1,1,1,1,1,1,1,1,1,1,1,1,1,1,1,1,1,1,1,1,1,1,1,1,1,1],[0,0,0,0,0,0,0,0,0,0,0,0,0,0,0,0,0,0,0,0,0,0,0,0,0,0,0,0,0,0,0,0,0,0,1,1,1,1,1,1,1,1,1,1,1,1,1,1,1,1,1,1,1,1,1,1,1,1,1,1,1,1,1,1,1,1,1,1,1,1,1,1,1,1,1,1,1,1,1,1,1,1,1,1,1,1,1,1,1,1,1,1,1,1,1,1,1,1,1,1],[0,0,0,0,0,0,0,0,0,0,0,0,0,0,0,0,0,0,0,0,0,0,0,0,0,0,0,0,0,0,0,0,0,0,1,1,1,1,1,1,1,1,1,1,1,1,1,1,1,1,1,1,1,1,1,1,1,1,1,1,1,1,1,1,1,1,1,1,1,1,1,1,1,1,1,1,1,1,1,1,1,1,1,1,1,1,1,1,1,1,1,1,1,1,1,1,1,1,1,1],[0,0,0,0,0,0,0,0,0,0,0,0,0,0,0,0,0,0,0,0,0,0,0,0,0,0,0,0,0,0,0,0,0,0,1,1,1,1,1,1,1,1,1,1,1,1,1,1,1,1,1,1,1,1,1,1,1,1,1,1,1,1,1,1,1,1,1,1,1,1,1,1,1,1,1,1,1,1,1,1,1,1,1,1,1,1,1,1,1,1,1,1,1,1,1,1,1,1,1,1],[0,0,0,0,0,0,0,0,0,0,0,0,0,0,0,0,0,0,0,0,0,0,0,0,0,0,0,0,0,0,0,0,0,0,1,1,1,1,1,1,1,1,1,1,1,1,1,1,1,1,1,1,1,1,1,1,1,1,1,1,1,1,1,1,1,1,1,1,1,1,1,1,1,1,1,1,1,1,1,1,1,1,1,1,1,1,1,1,1,1,1,1,1,1,1,1,1,1,1,1],[0,0,0,0,0,0,0,0,0,0,0,0,0,0,0,0,0,0,0,0,0,0,0,0,0,0,0,0,0,0,0,0,0,0,1,1,1,1,1,1,1,1,1,1,1,1,1,1,1,1,1,1,1,1,1,1,1,1,1,1,1,1,1,1,1,1,1,1,1,1,1,1,1,1,1,1,1,1,1,1,1,1,1,1,1,1,1,1,1,1,1,1,1,1,1,1,1,1,1,1],[0,0,0,0,0,0,0,0,0,0,0,0,0,0,0,0,0,0,0,0,0,0,0,0,0,0,0,0,0,0,0,0,0,0,1,1,1,1,1,1,1,1,1,1,1,1,1,1,1,1,1,1,1,1,1,1,1,1,1,1,1,1,1,1,1,1,1,1,1,1,1,1,1,1,1,1,1,1,1,1,1,1,1,1,1,1,1,1,1,1,1,1,1,1,1,1,1,1,1,1],[0,0,0,0,0,0,0,0,0,0,0,0,0,0,0,0,0,0,0,0,0,0,0,0,0,0,0,0,0,0,0,0,0,0,1,1,1,1,1,1,1,1,1,1,1,1,1,1,1,1,1,1,1,1,1,1,1,1,1,1,1,1,1,1,1,1,1,1,1,1,1,1,1,1,1,1,1,1,1,1,1,1,1,1,1,1,1,1,1,1,1,1,1,1,1,1,1,1,1,1],[0,0,0,0,0,0,0,0,0,0,0,0,0,0,0,0,0,0,0,0,0,0,0,0,0,0,0,0,0,0,0,0,0,0,1,1,1,1,1,1,1,1,1,1,1,1,1,1,1,1,1,1,1,1,1,1,1,1,1,1,1,1,1,1,1,1,1,1,1,1,1,1,1,1,1,1,1,1,1,1,1,1,1,1,1,1,1,1,1,1,1,1,1,1,1,1,1,1,1,1],[0,0,0,0,0,0,0,0,0,0,0,0,0,0,0,0,0,0,0,0,0,0,0,0,0,0,0,0,0,0,0,0,0,0,1,1,1,1,1,1,1,1,1,1,1,1,1,1,1,1,1,1,1,1,1,1,1,1,1,1,1,1,1,1,1,1,1,1,1,1,1,1,1,1,1,1,1,1,1,1,1,1,1,1,1,1,1,1,1,1,1,1,1,1,1,1,1,1,1,1],[0,0,0,0,0,0,0,0,0,0,0,0,0,0,0,0,0,0,0,0,0,0,0,0,0,0,0,0,0,0,0,0,0,0,1,1,1,1,1,1,1,1,1,1,1,1,1,1,1,1,1,1,1,1,1,1,1,1,1,1,1,1,1,1,1,1,1,1,1,1,1,1,1,1,1,1,1,1,1,1,1,1,1,1,1,1,1,1,1,1,1,1,1,1,1,1,1,1,1,1],[0,0,0,0,0,0,0,0,0,0,0,0,0,0,0,0,0,0,0,0,0,0,0,0,0,0,0,0,0,0,0,0,0,0,1,1,1,1,1,1,1,1,1,1,1,1,1,1,1,1,1,1,1,1,1,1,1,1,1,1,1,1,1,1,1,1,1,1,1,1,1,1,1,1,1,1,1,1,1,1,1,1,1,1,1,1,1,1,1,1,1,1,1,1,1,1,1,1,1,1],[0,0,0,0,0,0,0,0,0,0,0,0,0,0,0,0,0,0,0,0,0,0,0,0,0,0,0,0,0,0,0,0,0,0,1,1,1,1,1,1,1,1,1,1,1,1,1,1,1,1,1,1,1,1,1,1,1,1,1,1,1,1,1,1,1,1,1,1,1,1,1,1,1,1,1,1,1,1,1,1,1,1,1,1,1,1,1,1,1,1,1,1,1,1,1,1,1,1,1,1],[0,0,0,0,0,0,0,0,0,0,0,0,0,0,0,0,0,0,0,0,0,0,0,0,0,0,0,0,0,0,0,0,0,0,1,1,1,1,1,1,1,1,1,1,1,1,1,1,1,1,1,1,1,1,1,1,1,1,1,1,1,1,1,1,1,1,1,1,1,1,1,1,1,1,1,1,1,1,1,1,1,1,1,1,1,1,1,1,1,1,1,1,1,1,1,1,1,1,1,1],[0,0,0,0,0,0,0,0,0,0,0,0,0,0,0,0,0,0,0,0,0,0,0,0,0,0,0,0,0,0,0,0,0,0,1,1,1,1,1,1,1,1,1,1,1,1,1,1,1,1,1,1,1,1,1,1,1,1,1,1,1,1,1,1,1,1,1,1,1,1,1,1,1,1,1,1,1,1,1,1,1,1,1,1,1,1,1,1,1,1,1,1,1,1,1,1,1,1,1,1],[0,0,0,0,0,0,0,0,0,0,0,0,0,0,0,0,0,0,0,0,0,0,0,0,0,0,0,0,0,0,0,0,0,0,1,1,1,1,1,1,1,1,1,1,1,1,1,1,1,1,1,1,1,1,1,1,1,1,1,1,1,1,1,1,1,1,1,1,1,1,1,1,1,1,1,1,1,1,1,1,1,1,1,1,1,1,1,1,1,1,1,1,1,1,1,1,1,1,1,1],[0,0,0,0,0,0,0,0,0,0,0,0,0,0,0,0,0,0,0,0,0,0,0,0,0,0,0,0,0,0,0,0,0,0,1,1,1,1,1,1,1,1,1,1,1,1,1,1,1,1,1,1,1,1,1,1,1,1,1,1,1,1,1,1,1,1,1,1,1,1,1,1,1,1,1,1,1,1,1,1,1,1,1,1,1,1,1,1,1,1,1,1,1,1,1,1,1,1,1,1],[0,0,0,0,0,0,0,0,0,0,0,0,0,0,0,0,0,0,0,0,0,0,0,0,0,0,0,0,0,0,0,0,0,0,2,2,2,2,2,2,2,2,2,2,2,2,2,2,2,2,2,2,2,2,2,2,2,2,2,2,2,2,2,2,2,2,2,2,2,2,2,2,2,2,2,2,2,2,2,2,2,2,2,2,2,2,2,2,2,2,2,2,2,2,2,2,2,2,2,2],[0,0,0,0,0,0,0,0,0,0,0,0,0,0,0,0,0,0,0,0,0,0,0,0,0,0,0,0,0,0,0,0,0,0,2,2,2,2,2,2,2,2,2,2,2,2,2,2,2,2,2,2,2,2,2,2,2,2,2,2,2,2,2,2,2,2,2,2,2,2,2,2,2,2,2,2,2,2,2,2,2,2,2,2,2,2,2,2,2,2,2,2,2,2,2,2,2,2,2,2],[0,0,0,0,0,0,0,0,0,0,0,0,0,0,0,0,0,0,0,0,0,0,0,0,0,0,0,0,0,0,0,0,0,0,2,2,2,2,2,2,2,2,2,2,2,2,2,2,2,2,2,2,2,2,2,2,2,2,2,2,2,2,2,2,2,2,2,2,2,2,2,2,2,2,2,2,2,2,2,2,2,2,2,2,2,2,2,2,2,2,2,2,2,2,2,2,2,2,2,2],[0,0,0,0,0,0,0,0,0,0,0,0,0,0,0,0,0,0,0,0,0,0,0,0,0,0,0,0,0,0,0,0,0,0,2,2,2,2,2,2,2,2,2,2,2,2,2,2,2,2,2,2,2,2,2,2,2,2,2,2,2,2,2,2,2,2,2,2,2,2,2,2,2,2,2,2,2,2,2,2,2,2,2,2,2,2,2,2,2,2,2,2,2,2,2,2,2,2,2,2],[0,0,0,0,0,0,0,0,0,0,0,0,0,0,0,0,0,0,0,0,0,0,0,0,0,0,0,0,0,0,0,0,0,0,2,2,2,2,2,2,2,2,2,2,2,2,2,2,2,2,2,2,2,2,2,2,2,2,2,2,2,2,2,2,2,2,2,2,2,2,2,2,2,2,2,2,2,2,2,2,2,2,2,2,2,2,2,2,2,2,2,2,2,2,2,2,2,2,2,2],[0,0,0,0,0,0,0,0,0,0,0,0,0,0,0,0,0,0,0,0,0,0,0,0,0,0,0,0,0,0,0,0,0,0,2,2,2,2,2,2,2,2,2,2,2,2,2,2,2,2,2,2,2,2,2,2,2,2,2,2,2,2,2,2,2,2,2,2,2,2,2,2,2,2,2,2,2,2,2,2,2,2,2,2,2,2,2,2,2,2,2,2,2,2,2,2,2,2,2,2],[0,0,0,0,0,0,0,0,0,0,0,0,0,0,0,0,0,0,0,0,0,0,0,0,0,0,0,0,0,0,0,0,0,0,2,2,2,2,2,2,2,2,2,2,2,2,2,2,2,2,2,2,2,2,2,2,2,2,2,2,2,2,2,2,2,2,2,2,2,2,2,2,2,2,2,2,2,2,2,2,2,2,2,2,2,2,2,2,2,2,2,2,2,2,2,2,2,2,2,2],[0,0,0,0,0,0,0,0,0,0,0,0,0,0,0,0,0,0,0,0,0,0,0,0,0,0,0,0,0,0,0,0,0,0,2,2,2,2,2,2,2,2,2,2,2,2,2,2,2,2,2,2,2,2,2,2,2,2,2,2,2,2,2,2,2,2,2,2,2,2,2,2,2,2,2,2,2,2,2,2,2,2,2,2,2,2,2,2,2,2,2,2,2,2,2,2,2,2,2,2],[0,0,0,0,0,0,0,0,0,0,0,0,0,0,0,0,0,0,0,0,0,0,0,0,0,0,0,0,0,0,0,0,0,0,2,2,2,2,2,2,2,2,2,2,2,2,2,2,2,2,2,2,2,2,2,2,2,2,2,2,2,2,2,2,2,2,2,2,2,2,2,2,2,2,2,2,2,2,2,2,2,2,2,2,2,2,2,2,2,2,2,2,2,2,2,2,2,2,2,2],[0,0,0,0,0,0,0,0,0,0,0,0,0,0,0,0,0,0,0,0,0,0,0,0,0,0,0,0,0,0,0,0,0,0,2,2,2,2,2,2,2,2,2,2,2,2,2,2,2,2,2,2,2,2,2,2,2,2,2,2,2,2,2,2,2,2,2,2,2,2,2,2,2,2,2,2,2,2,2,2,2,2,2,2,2,2,2,2,2,2,2,2,2,2,2,2,2,2,2,2],[0,0,0,0,0,0,0,0,0,0,0,0,0,0,0,0,0,0,0,0,0,0,0,0,0,0,0,0,0,0,0,0,0,0,2,2,2,2,2,2,2,2,2,2,2,2,2,2,2,2,2,2,2,2,2,2,2,2,2,2,2,2,2,2,2,2,2,2,2,2,2,2,2,2,2,2,2,2,2,2,2,2,2,2,2,2,2,2,2,2,2,2,2,2,2,2,2,2,2,2],[0,0,0,0,0,0,0,0,0,0,0,0,0,0,0,0,0,0,0,0,0,0,0,0,0,0,0,0,0,0,0,0,0,0,2,2,2,2,2,2,2,2,2,2,2,2,2,2,2,2,2,2,2,2,2,2,2,2,2,2,2,2,2,2,2,2,2,2,2,2,2,2,2,2,2,2,2,2,2,2,2,2,2,2,2,2,2,2,2,2,2,2,2,2,2,2,2,2,2,2],[0,0,0,0,0,0,0,0,0,0,0,0,0,0,0,0,0,0,0,0,0,0,0,0,0,0,0,0,0,0,0,0,0,0,2,2,2,2,2,2,2,2,2,2,2,2,2,2,2,2,2,2,2,2,2,2,2,2,2,2,2,2,2,2,2,2,2,2,2,2,2,2,2,2,2,2,2,2,2,2,2,2,2,2,2,2,2,2,2,2,2,2,2,2,2,2,2,2,2,2],[0,0,0,0,0,0,0,0,0,0,0,0,0,0,0,0,0,0,0,0,0,0,0,0,0,0,0,0,0,0,0,0,0,0,2,2,2,2,2,2,2,2,2,2,2,2,2,2,2,2,2,2,2,2,2,2,2,2,2,2,2,2,2,2,2,2,2,2,2,2,2,2,2,2,2,2,2,2,2,2,2,2,2,2,2,2,2,2,2,2,2,2,2,2,2,2,2,2,2,2],[0,0,0,0,0,0,0,0,0,0,0,0,0,0,0,0,0,0,0,0,0,0,0,0,0,0,0,0,0,0,0,0,0,0,2,2,2,2,2,2,2,2,2,2,2,2,2,2,2,2,2,2,2,2,2,2,2,2,2,2,2,2,2,2,2,2,2,2,2,2,2,2,2,2,2,2,2,2,2,2,2,2,2,2,2,2,2,2,2,2,2,2,2,2,2,2,2,2,2,2],[0,0,0,0,0,0,0,0,0,0,0,0,0,0,0,0,0,0,0,0,0,0,0,0,0,0,0,0,0,0,0,0,0,0,2,2,2,2,2,2,2,2,2,2,2,2,2,2,2,2,2,2,2,2,2,2,2,2,2,2,2,2,2,2,2,2,2,2,2,2,2,2,2,2,2,2,2,2,2,2,2,2,2,2,2,2,2,2,2,2,2,2,2,2,2,2,2,2,2,2],[0,0,0,0,0,0,0,0,0,0,0,0,0,0,0,0,0,0,0,0,0,0,0,0,0,0,0,0,0,0,0,0,0,0,2,2,2,2,2,2,2,2,2,2,2,2,2,2,2,2,2,2,2,2,2,2,2,2,2,2,2,2,2,2,2,2,2,2,2,2,2,2,2,2,2,2,2,2,2,2,2,2,2,2,2,2,2,2,2,2,2,2,2,2,2,2,2,2,2,2],[0,0,0,0,0,0,0,0,0,0,0,0,0,0,0,0,0,0,0,0,0,0,0,0,0,0,0,0,0,0,0,0,0,0,2,2,2,2,2,2,2,2,2,2,2,2,2,2,2,2,2,2,2,2,2,2,2,2,2,2,2,2,2,2,2,2,2,2,2,2,2,2,2,2,2,2,2,2,2,2,2,2,2,2,2,2,2,2,2,2,2,2,2,2,2,2,2,2,2,2],[0,0,0,0,0,0,0,0,0,0,0,0,0,0,0,0,0,0,0,0,0,0,0,0,0,0,0,0,0,0,0,0,0,0,2,2,2,2,2,2,2,2,2,2,2,2,2,2,2,2,2,2,2,2,2,2,2,2,2,2,2,2,2,2,2,2,2,2,2,2,2,2,2,2,2,2,2,2,2,2,2,2,2,2,2,2,2,2,2,2,2,2,2,2,2,2,2,2,2,2],[0,0,0,0,0,0,0,0,0,0,0,0,0,0,0,0,0,0,0,0,0,0,0,0,0,0,0,0,0,0,0,0,0,0,2,2,2,2,2,2,2,2,2,2,2,2,2,2,2,2,2,2,2,2,2,2,2,2,2,2,2,2,2,2,2,2,2,2,2,2,2,2,2,2,2,2,2,2,2,2,2,2,2,2,2,2,2,2,2,2,2,2,2,2,2,2,2,2,2,2],[0,0,0,0,0,0,0,0,0,0,0,0,0,0,0,0,0,0,0,0,0,0,0,0,0,0,0,0,0,0,0,0,0,0,2,2,2,2,2,2,2,2,2,2,2,2,2,2,2,2,2,2,2,2,2,2,2,2,2,2,2,2,2,2,2,2,2,2,2,2,2,2,2,2,2,2,2,2,2,2,2,2,2,2,2,2,2,2,2,2,2,2,2,2,2,2,2,2,2,2],[0,0,0,0,0,0,0,0,0,0,0,0,0,0,0,0,0,0,0,0,0,0,0,0,0,0,0,0,0,0,0,0,0,0,2,2,2,2,2,2,2,2,2,2,2,2,2,2,2,2,2,2,2,2,2,2,2,2,2,2,2,2,2,2,2,2,2,2,2,2,2,2,2,2,2,2,2,2,2,2,2,2,2,2,2,2,2,2,2,2,2,2,2,2,2,2,2,2,2,2],[0,0,0,0,0,0,0,0,0,0,0,0,0,0,0,0,0,0,0,0,0,0,0,0,0,0,0,0,0,0,0,0,0,0,2,2,2,2,2,2,2,2,2,2,2,2,2,2,2,2,2,2,2,2,2,2,2,2,2,2,2,2,2,2,2,2,2,2,2,2,2,2,2,2,2,2,2,2,2,2,2,2,2,2,2,2,2,2,2,2,2,2,2,2,2,2,2,2,2,2],[0,0,0,0,0,0,0,0,0,0,0,0,0,0,0,0,0,0,0,0,0,0,0,0,0,0,0,0,0,0,0,0,0,0,2,2,2,2,2,2,2,2,2,2,2,2,2,2,2,2,2,2,2,2,2,2,2,2,2,2,2,2,2,2,2,2,2,2,2,2,2,2,2,2,2,2,2,2,2,2,2,2,2,2,2,2,2,2,2,2,2,2,2,2,2,2,2,2,2,2],[0,0,0,0,0,0,0,0,0,0,0,0,0,0,0,0,0,0,0,0,0,0,0,0,0,0,0,0,0,0,0,0,0,0,2,2,2,2,2,2,2,2,2,2,2,2,2,2,2,2,2,2,2,2,2,2,2,2,2,2,2,2,2,2,2,2,2,2,2,2,2,2,2,2,2,2,2,2,2,2,2,2,2,2,2,2,2,2,2,2,2,2,2,2,2,2,2,2,2,2],[0,0,0,0,0,0,0,0,0,0,0,0,0,0,0,0,0,0,0,0,0,0,0,0,0,0,0,0,0,0,0,0,0,0,2,2,2,2,2,2,2,2,2,2,2,2,2,2,2,2,2,2,2,2,2,2,2,2,2,2,2,2,2,2,2,2,2,2,2,2,2,2,2,2,2,2,2,2,2,2,2,2,2,2,2,2,2,2,2,2,2,2,2,2,2,2,2,2,2,2],[0,0,0,0,0,0,0,0,0,0,0,0,0,0,0,0,0,0,0,0,0,0,0,0,0,0,0,0,0,0,0,0,0,0,2,2,2,2,2,2,2,2,2,2,2,2,2,2,2,2,2,2,2,2,2,2,2,2,2,2,2,2,2,2,2,2,2,2,2,2,2,2,2,2,2,2,2,2,2,2,2,2,2,2,2,2,2,2,2,2,2,2,2,2,2,2,2,2,2,2],[0,0,0,0,0,0,0,0,0,0,0,0,0,0,0,0,0,0,0,0,0,0,0,0,0,0,0,0,0,0,0,0,0,0,2,2,2,2,2,2,2,2,2,2,2,2,2,2,2,2,2,2,2,2,2,2,2,2,2,2,2,2,2,2,2,2,2,2,2,2,2,2,2,2,2,2,2,2,2,2,2,2,2,2,2,2,2,2,2,2,2,2,2,2,2,2,2,2,2,2],[0,0,0,0,0,0,0,0,0,0,0,0,0,0,0,0,0,0,0,0,0,0,0,0,0,0,0,0,0,0,0,0,0,0,2,2,2,2,2,2,2,2,2,2,2,2,2,2,2,2,2,2,2,2,2,2,2,2,2,2,2,2,2,2,2,2,2,2,2,2,2,2,2,2,2,2,2,2,2,2,2,2,2,2,2,2,2,2,2,2,2,2,2,2,2,2,2,2,2,2],[0,0,0,0,0,0,0,0,0,0,0,0,0,0,0,0,0,0,0,0,0,0,0,0,0,0,0,0,0,0,0,0,0,0,2,2,2,2,2,2,2,2,2,2,2,2,2,2,2,2,2,2,2,2,2,2,2,2,2,2,2,2,2,2,2,2,2,2,2,2,2,2,2,2,2,2,2,2,2,2,2,2,2,2,2,2,2,2,2,2,2,2,2,2,2,2,2,2,2,2],[0,0,0,0,0,0,0,0,0,0,0,0,0,0,0,0,0,0,0,0,0,0,0,0,0,0,0,0,0,0,0,0,0,0,2,2,2,2,2,2,2,2,2,2,2,2,2,2,2,2,2,2,2,2,2,2,2,2,2,2,2,2,2,2,2,2,2,2,2,2,2,2,2,2,2,2,2,2,2,2,2,2,2,2,2,2,2,2,2,2,2,2,2,2,2,2,2,2,2,2],[0,0,0,0,0,0,0,0,0,0,0,0,0,0,0,0,0,0,0,0,0,0,0,0,0,0,0,0,0,0,0,0,0,0,2,2,2,2,2,2,2,2,2,2,2,2,2,2,2,2,2,2,2,2,2,2,2,2,2,2,2,2,2,2,2,2,2,2,2,2,2,2,2,2,2,2,2,2,2,2,2,2,2,2,2,2,2,2,2,2,2,2,2,2,2,2,2,2,2,2],[0,0,0,0,0,0,0,0,0,0,0,0,0,0,0,0,0,0,0,0,0,0,0,0,0,0,0,0,0,0,0,0,0,0,2,2,2,2,2,2,2,2,2,2,2,2,2,2,2,2,2,2,2,2,2,2,2,2,2,2,2,2,2,2,2,2,2,2,2,2,2,2,2,2,2,2,2,2,2,2,2,2,2,2,2,2,2,2,2,2,2,2,2,2,2,2,2,2,2,2],[0,0,0,0,0,0,0,0,0,0,0,0,0,0,0,0,0,0,0,0,0,0,0,0,0,0,0,0,0,0,0,0,0,0,2,2,2,2,2,2,2,2,2,2,2,2,2,2,2,2,2,2,2,2,2,2,2,2,2,2,2,2,2,2,2,2,2,2,2,2,2,2,2,2,2,2,2,2,2,2,2,2,2,2,2,2,2,2,2,2,2,2,2,2,2,2,2,2,2,2],[0,0,0,0,0,0,0,0,0,0,0,0,0,0,0,0,0,0,0,0,0,0,0,0,0,0,0,0,0,0,0,0,0,0,2,2,2,2,2,2,2,2,2,2,2,2,2,2,2,2,2,2,2,2,2,2,2,2,2,2,2,2,2,2,2,2,2,2,2,2,2,2,2,2,2,2,2,2,2,2,2,2,2,2,2,2,2,2,2,2,2,2,2,2,2,2,2,2,2,2],[0,0,0,0,0,0,0,0,0,0,0,0,0,0,0,0,0,0,0,0,0,0,0,0,0,0,0,0,0,0,0,0,0,0,2,2,2,2,2,2,2,2,2,2,2,2,2,2,2,2,2,2,2,2,2,2,2,2,2,2,2,2,2,2,2,2,2,2,2,2,2,2,2,2,2,2,2,2,2,2,2,2,2,2,2,2,2,2,2,2,2,2,2,2,2,2,2,2,2,2],[0,0,0,0,0,0,0,0,0,0,0,0,0,0,0,0,0,0,0,0,0,0,0,0,0,0,0,0,0,0,0,0,0,0,2,2,2,2,2,2,2,2,2,2,2,2,2,2,2,2,2,2,2,2,2,2,2,2,2,2,2,2,2,2,2,2,2,2,2,2,2,2,2,2,2,2,2,2,2,2,2,2,2,2,2,2,2,2,2,2,2,2,2,2,2,2,2,2,2,2],[0,0,0,0,0,0,0,0,0,0,0,0,0,0,0,0,0,0,0,0,0,0,0,0,0,0,0,0,0,0,0,0,0,0,2,2,2,2,2,2,2,2,2,2,2,2,2,2,2,2,2,2,2,2,2,2,2,2,2,2,2,2,2,2,2,2,2,2,2,2,2,2,2,2,2,2,2,2,2,2,2,2,2,2,2,2,2,2,2,2,2,2,2,2,2,2,2,2,2,2],[0,0,0,0,0,0,0,0,0,0,0,0,0,0,0,0,0,0,0,0,0,0,0,0,0,0,0,0,0,0,0,0,0,0,2,2,2,2,2,2,2,2,2,2,2,2,2,2,2,2,2,2,2,2,2,2,2,2,2,2,2,2,2,2,2,2,2,2,2,2,2,2,2,2,2,2,2,2,2,2,2,2,2,2,2,2,2,2,2,2,2,2,2,2,2,2,2,2,2,2],[0,0,0,0,0,0,0,0,0,0,0,0,0,0,0,0,0,0,0,0,0,0,0,0,0,0,0,0,0,0,0,0,0,0,2,2,2,2,2,2,2,2,2,2,2,2,2,2,2,2,2,2,2,2,2,2,2,2,2,2,2,2,2,2,2,2,2,2,2,2,2,2,2,2,2,2,2,2,2,2,2,2,2,2,2,2,2,2,2,2,2,2,2,2,2,2,2,2,2,2],[0,0,0,0,0,0,0,0,0,0,0,0,0,0,0,0,0,0,0,0,0,0,0,0,0,0,0,0,0,0,0,0,0,0,2,2,2,2,2,2,2,2,2,2,2,2,2,2,2,2,2,2,2,2,2,2,2,2,2,2,2,2,2,2,2,2,2,2,2,2,2,2,2,2,2,2,2,2,2,2,2,2,2,2,2,2,2,2,2,2,2,2,2,2,2,2,2,2,2,2],[0,0,0,0,0,0,0,0,0,0,0,0,0,0,0,0,0,0,0,0,0,0,0,0,0,0,0,0,0,0,0,0,0,0,2,2,2,2,2,2,2,2,2,2,2,2,2,2,2,2,2,2,2,2,2,2,2,2,2,2,2,2,2,2,2,2,2,2,2,2,2,2,2,2,2,2,2,2,2,2,2,2,2,2,2,2,2,2,2,2,2,2,2,2,2,2,2,2,2,2]],\"type\":\"contour\"},{\"marker\":{\"size\":10,\"symbol\":\"circle\"},\"mode\":\"markers\",\"name\":\"Iris setosa\",\"x\":[1.4,1.4,1.3,1.5,1.4,1.7,1.4,1.5,1.4,1.5,1.5,1.6,1.4,1.1,1.2,1.5,1.3,1.4,1.7,1.5,1.7,1.5,1.0,1.7,1.9,1.6,1.6,1.5,1.4,1.6,1.6,1.5,1.5,1.4,1.5,1.2,1.3,1.4,1.3,1.5,1.3,1.3,1.3,1.6,1.9,1.4,1.6,1.4,1.5,1.4],\"y\":[0.2,0.2,0.2,0.2,0.2,0.4,0.3,0.2,0.2,0.1,0.2,0.2,0.1,0.1,0.2,0.4,0.4,0.3,0.3,0.3,0.2,0.4,0.2,0.5,0.2,0.2,0.4,0.2,0.2,0.2,0.2,0.4,0.1,0.2,0.2,0.2,0.2,0.1,0.2,0.2,0.3,0.3,0.2,0.6,0.4,0.3,0.2,0.2,0.2,0.2],\"type\":\"scatter\"},{\"marker\":{\"size\":10,\"symbol\":\"square\"},\"mode\":\"markers\",\"name\":\"Iris versicolor\",\"x\":[4.7,4.5,4.9,4.0,4.6,4.5,4.7,3.3,4.6,3.9,3.5,4.2,4.0,4.7,3.6,4.4,4.5,4.1,4.5,3.9,4.8,4.0,4.9,4.7,4.3,4.4,4.8,5.0,4.5,3.5,3.8,3.7,3.9,5.1,4.5,4.5,4.7,4.4,4.1,4.0,4.4,4.6,4.0,3.3,4.2,4.2,4.2,4.3,3.0,4.1],\"y\":[1.4,1.5,1.5,1.3,1.5,1.3,1.6,1.0,1.3,1.4,1.0,1.5,1.0,1.4,1.3,1.4,1.5,1.0,1.5,1.1,1.8,1.3,1.5,1.2,1.3,1.4,1.4,1.7,1.5,1.0,1.1,1.0,1.2,1.6,1.5,1.6,1.5,1.3,1.3,1.3,1.2,1.4,1.2,1.0,1.3,1.2,1.3,1.3,1.1,1.3],\"type\":\"scatter\"},{\"marker\":{\"size\":10,\"symbol\":\"triangle-up\"},\"mode\":\"markers\",\"name\":\"Iris virginica\",\"x\":[6.0,5.1,5.9,5.6,5.8,6.6,4.5,6.3,5.8,6.1,5.1,5.3,5.5,5.0,5.1,5.3,5.5,6.7,6.9,5.0,5.7,4.9,6.7,4.9,5.7,6.0,4.8,4.9,5.6,5.8,6.1,6.4,5.6,5.1,5.6,6.1,5.6,5.5,4.8,5.4,5.6,5.1,5.1,5.9,5.7,5.2,5.0,5.2,5.4,5.1],\"y\":[2.5,1.9,2.1,1.8,2.2,2.1,1.7,1.8,1.8,2.5,2.0,1.9,2.1,2.0,2.4,2.3,1.8,2.2,2.3,1.5,2.3,2.0,2.0,1.8,2.1,1.8,1.8,1.8,2.1,1.6,1.9,2.0,2.2,1.5,1.4,2.3,2.4,1.8,1.8,2.1,2.4,2.3,1.9,2.3,2.5,2.3,1.9,2.0,2.3,1.8],\"type\":\"scatter\"}],                        {\"template\":{\"data\":{\"histogram2dcontour\":[{\"type\":\"histogram2dcontour\",\"colorbar\":{\"outlinewidth\":0,\"ticks\":\"\"},\"colorscale\":[[0.0,\"#0d0887\"],[0.1111111111111111,\"#46039f\"],[0.2222222222222222,\"#7201a8\"],[0.3333333333333333,\"#9c179e\"],[0.4444444444444444,\"#bd3786\"],[0.5555555555555556,\"#d8576b\"],[0.6666666666666666,\"#ed7953\"],[0.7777777777777778,\"#fb9f3a\"],[0.8888888888888888,\"#fdca26\"],[1.0,\"#f0f921\"]]}],\"choropleth\":[{\"type\":\"choropleth\",\"colorbar\":{\"outlinewidth\":0,\"ticks\":\"\"}}],\"histogram2d\":[{\"type\":\"histogram2d\",\"colorbar\":{\"outlinewidth\":0,\"ticks\":\"\"},\"colorscale\":[[0.0,\"#0d0887\"],[0.1111111111111111,\"#46039f\"],[0.2222222222222222,\"#7201a8\"],[0.3333333333333333,\"#9c179e\"],[0.4444444444444444,\"#bd3786\"],[0.5555555555555556,\"#d8576b\"],[0.6666666666666666,\"#ed7953\"],[0.7777777777777778,\"#fb9f3a\"],[0.8888888888888888,\"#fdca26\"],[1.0,\"#f0f921\"]]}],\"heatmap\":[{\"type\":\"heatmap\",\"colorbar\":{\"outlinewidth\":0,\"ticks\":\"\"},\"colorscale\":[[0.0,\"#0d0887\"],[0.1111111111111111,\"#46039f\"],[0.2222222222222222,\"#7201a8\"],[0.3333333333333333,\"#9c179e\"],[0.4444444444444444,\"#bd3786\"],[0.5555555555555556,\"#d8576b\"],[0.6666666666666666,\"#ed7953\"],[0.7777777777777778,\"#fb9f3a\"],[0.8888888888888888,\"#fdca26\"],[1.0,\"#f0f921\"]]}],\"heatmapgl\":[{\"type\":\"heatmapgl\",\"colorbar\":{\"outlinewidth\":0,\"ticks\":\"\"},\"colorscale\":[[0.0,\"#0d0887\"],[0.1111111111111111,\"#46039f\"],[0.2222222222222222,\"#7201a8\"],[0.3333333333333333,\"#9c179e\"],[0.4444444444444444,\"#bd3786\"],[0.5555555555555556,\"#d8576b\"],[0.6666666666666666,\"#ed7953\"],[0.7777777777777778,\"#fb9f3a\"],[0.8888888888888888,\"#fdca26\"],[1.0,\"#f0f921\"]]}],\"contourcarpet\":[{\"type\":\"contourcarpet\",\"colorbar\":{\"outlinewidth\":0,\"ticks\":\"\"}}],\"contour\":[{\"type\":\"contour\",\"colorbar\":{\"outlinewidth\":0,\"ticks\":\"\"},\"colorscale\":[[0.0,\"#0d0887\"],[0.1111111111111111,\"#46039f\"],[0.2222222222222222,\"#7201a8\"],[0.3333333333333333,\"#9c179e\"],[0.4444444444444444,\"#bd3786\"],[0.5555555555555556,\"#d8576b\"],[0.6666666666666666,\"#ed7953\"],[0.7777777777777778,\"#fb9f3a\"],[0.8888888888888888,\"#fdca26\"],[1.0,\"#f0f921\"]]}],\"surface\":[{\"type\":\"surface\",\"colorbar\":{\"outlinewidth\":0,\"ticks\":\"\"},\"colorscale\":[[0.0,\"#0d0887\"],[0.1111111111111111,\"#46039f\"],[0.2222222222222222,\"#7201a8\"],[0.3333333333333333,\"#9c179e\"],[0.4444444444444444,\"#bd3786\"],[0.5555555555555556,\"#d8576b\"],[0.6666666666666666,\"#ed7953\"],[0.7777777777777778,\"#fb9f3a\"],[0.8888888888888888,\"#fdca26\"],[1.0,\"#f0f921\"]]}],\"mesh3d\":[{\"type\":\"mesh3d\",\"colorbar\":{\"outlinewidth\":0,\"ticks\":\"\"}}],\"scatter\":[{\"fillpattern\":{\"fillmode\":\"overlay\",\"size\":10,\"solidity\":0.2},\"type\":\"scatter\"}],\"parcoords\":[{\"type\":\"parcoords\",\"line\":{\"colorbar\":{\"outlinewidth\":0,\"ticks\":\"\"}}}],\"scatterpolargl\":[{\"type\":\"scatterpolargl\",\"marker\":{\"colorbar\":{\"outlinewidth\":0,\"ticks\":\"\"}}}],\"bar\":[{\"error_x\":{\"color\":\"#2a3f5f\"},\"error_y\":{\"color\":\"#2a3f5f\"},\"marker\":{\"line\":{\"color\":\"#E5ECF6\",\"width\":0.5},\"pattern\":{\"fillmode\":\"overlay\",\"size\":10,\"solidity\":0.2}},\"type\":\"bar\"}],\"scattergeo\":[{\"type\":\"scattergeo\",\"marker\":{\"colorbar\":{\"outlinewidth\":0,\"ticks\":\"\"}}}],\"scatterpolar\":[{\"type\":\"scatterpolar\",\"marker\":{\"colorbar\":{\"outlinewidth\":0,\"ticks\":\"\"}}}],\"histogram\":[{\"marker\":{\"pattern\":{\"fillmode\":\"overlay\",\"size\":10,\"solidity\":0.2}},\"type\":\"histogram\"}],\"scattergl\":[{\"type\":\"scattergl\",\"marker\":{\"colorbar\":{\"outlinewidth\":0,\"ticks\":\"\"}}}],\"scatter3d\":[{\"type\":\"scatter3d\",\"line\":{\"colorbar\":{\"outlinewidth\":0,\"ticks\":\"\"}},\"marker\":{\"colorbar\":{\"outlinewidth\":0,\"ticks\":\"\"}}}],\"scattermapbox\":[{\"type\":\"scattermapbox\",\"marker\":{\"colorbar\":{\"outlinewidth\":0,\"ticks\":\"\"}}}],\"scatterternary\":[{\"type\":\"scatterternary\",\"marker\":{\"colorbar\":{\"outlinewidth\":0,\"ticks\":\"\"}}}],\"scattercarpet\":[{\"type\":\"scattercarpet\",\"marker\":{\"colorbar\":{\"outlinewidth\":0,\"ticks\":\"\"}}}],\"carpet\":[{\"aaxis\":{\"endlinecolor\":\"#2a3f5f\",\"gridcolor\":\"white\",\"linecolor\":\"white\",\"minorgridcolor\":\"white\",\"startlinecolor\":\"#2a3f5f\"},\"baxis\":{\"endlinecolor\":\"#2a3f5f\",\"gridcolor\":\"white\",\"linecolor\":\"white\",\"minorgridcolor\":\"white\",\"startlinecolor\":\"#2a3f5f\"},\"type\":\"carpet\"}],\"table\":[{\"cells\":{\"fill\":{\"color\":\"#EBF0F8\"},\"line\":{\"color\":\"white\"}},\"header\":{\"fill\":{\"color\":\"#C8D4E3\"},\"line\":{\"color\":\"white\"}},\"type\":\"table\"}],\"barpolar\":[{\"marker\":{\"line\":{\"color\":\"#E5ECF6\",\"width\":0.5},\"pattern\":{\"fillmode\":\"overlay\",\"size\":10,\"solidity\":0.2}},\"type\":\"barpolar\"}],\"pie\":[{\"automargin\":true,\"type\":\"pie\"}]},\"layout\":{\"autotypenumbers\":\"strict\",\"colorway\":[\"#636efa\",\"#EF553B\",\"#00cc96\",\"#ab63fa\",\"#FFA15A\",\"#19d3f3\",\"#FF6692\",\"#B6E880\",\"#FF97FF\",\"#FECB52\"],\"font\":{\"color\":\"#2a3f5f\"},\"hovermode\":\"closest\",\"hoverlabel\":{\"align\":\"left\"},\"paper_bgcolor\":\"white\",\"plot_bgcolor\":\"#E5ECF6\",\"polar\":{\"bgcolor\":\"#E5ECF6\",\"angularaxis\":{\"gridcolor\":\"white\",\"linecolor\":\"white\",\"ticks\":\"\"},\"radialaxis\":{\"gridcolor\":\"white\",\"linecolor\":\"white\",\"ticks\":\"\"}},\"ternary\":{\"bgcolor\":\"#E5ECF6\",\"aaxis\":{\"gridcolor\":\"white\",\"linecolor\":\"white\",\"ticks\":\"\"},\"baxis\":{\"gridcolor\":\"white\",\"linecolor\":\"white\",\"ticks\":\"\"},\"caxis\":{\"gridcolor\":\"white\",\"linecolor\":\"white\",\"ticks\":\"\"}},\"coloraxis\":{\"colorbar\":{\"outlinewidth\":0,\"ticks\":\"\"}},\"colorscale\":{\"sequential\":[[0.0,\"#0d0887\"],[0.1111111111111111,\"#46039f\"],[0.2222222222222222,\"#7201a8\"],[0.3333333333333333,\"#9c179e\"],[0.4444444444444444,\"#bd3786\"],[0.5555555555555556,\"#d8576b\"],[0.6666666666666666,\"#ed7953\"],[0.7777777777777778,\"#fb9f3a\"],[0.8888888888888888,\"#fdca26\"],[1.0,\"#f0f921\"]],\"sequentialminus\":[[0.0,\"#0d0887\"],[0.1111111111111111,\"#46039f\"],[0.2222222222222222,\"#7201a8\"],[0.3333333333333333,\"#9c179e\"],[0.4444444444444444,\"#bd3786\"],[0.5555555555555556,\"#d8576b\"],[0.6666666666666666,\"#ed7953\"],[0.7777777777777778,\"#fb9f3a\"],[0.8888888888888888,\"#fdca26\"],[1.0,\"#f0f921\"]],\"diverging\":[[0,\"#8e0152\"],[0.1,\"#c51b7d\"],[0.2,\"#de77ae\"],[0.3,\"#f1b6da\"],[0.4,\"#fde0ef\"],[0.5,\"#f7f7f7\"],[0.6,\"#e6f5d0\"],[0.7,\"#b8e186\"],[0.8,\"#7fbc41\"],[0.9,\"#4d9221\"],[1,\"#276419\"]]},\"xaxis\":{\"gridcolor\":\"white\",\"linecolor\":\"white\",\"ticks\":\"\",\"title\":{\"standoff\":15},\"zerolinecolor\":\"white\",\"automargin\":true,\"zerolinewidth\":2},\"yaxis\":{\"gridcolor\":\"white\",\"linecolor\":\"white\",\"ticks\":\"\",\"title\":{\"standoff\":15},\"zerolinecolor\":\"white\",\"automargin\":true,\"zerolinewidth\":2},\"scene\":{\"xaxis\":{\"backgroundcolor\":\"#E5ECF6\",\"gridcolor\":\"white\",\"linecolor\":\"white\",\"showbackground\":true,\"ticks\":\"\",\"zerolinecolor\":\"white\",\"gridwidth\":2},\"yaxis\":{\"backgroundcolor\":\"#E5ECF6\",\"gridcolor\":\"white\",\"linecolor\":\"white\",\"showbackground\":true,\"ticks\":\"\",\"zerolinecolor\":\"white\",\"gridwidth\":2},\"zaxis\":{\"backgroundcolor\":\"#E5ECF6\",\"gridcolor\":\"white\",\"linecolor\":\"white\",\"showbackground\":true,\"ticks\":\"\",\"zerolinecolor\":\"white\",\"gridwidth\":2}},\"shapedefaults\":{\"line\":{\"color\":\"#2a3f5f\"}},\"annotationdefaults\":{\"arrowcolor\":\"#2a3f5f\",\"arrowhead\":0,\"arrowwidth\":1},\"geo\":{\"bgcolor\":\"white\",\"landcolor\":\"#E5ECF6\",\"subunitcolor\":\"white\",\"showland\":true,\"showlakes\":true,\"lakecolor\":\"white\"},\"title\":{\"x\":0.05},\"mapbox\":{\"style\":\"light\"}}},\"shapes\":[{\"line\":{\"color\":\"Black\",\"width\":2},\"type\":\"line\",\"x0\":2.449999988079071,\"x1\":2.449999988079071,\"y0\":0,\"y1\":3},{\"line\":{\"color\":\"Black\",\"dash\":\"dash\",\"width\":2},\"type\":\"line\",\"x0\":2.449999988079071,\"x1\":7.2,\"y0\":1.75,\"y1\":1.75},{\"line\":{\"color\":\"Black\",\"dash\":\"dot\",\"width\":2},\"type\":\"line\",\"x0\":4.950000047683716,\"x1\":4.950000047683716,\"y0\":0,\"y1\":1.75},{\"line\":{\"color\":\"Black\",\"dash\":\"dot\",\"width\":2},\"type\":\"line\",\"x0\":4.8500001430511475,\"x1\":4.8500001430511475,\"y0\":1.75,\"y1\":3}],\"title\":{\"text\":\"Decision Tree Decision Boundaries\"},\"xaxis\":{\"title\":{\"text\":\"Petal length (cm)\"}},\"yaxis\":{\"title\":{\"text\":\"Petal width (cm)\"}},\"legend\":{\"title\":{\"text\":\"Iris Species\"}},\"width\":800,\"height\":600},                        {\"responsive\": true}                    ).then(function(){\n",
              "                            \n",
              "var gd = document.getElementById('0d140d75-069c-4975-a8a7-6c58756fd6bd');\n",
              "var x = new MutationObserver(function (mutations, observer) {{\n",
              "        var display = window.getComputedStyle(gd).display;\n",
              "        if (!display || display === 'none') {{\n",
              "            console.log([gd, 'removed!']);\n",
              "            Plotly.purge(gd);\n",
              "            observer.disconnect();\n",
              "        }}\n",
              "}});\n",
              "\n",
              "// Listen for the removal of the full notebook cells\n",
              "var notebookContainer = gd.closest('#notebook-container');\n",
              "if (notebookContainer) {{\n",
              "    x.observe(notebookContainer, {childList: true});\n",
              "}}\n",
              "\n",
              "// Listen for the clearing of the current output cell\n",
              "var outputEl = gd.closest('.output');\n",
              "if (outputEl) {{\n",
              "    x.observe(outputEl, {childList: true});\n",
              "}}\n",
              "\n",
              "                        })                };                            </script>        </div>\n",
              "</body>\n",
              "</html>"
            ]
          },
          "metadata": {}
        }
      ]
    },
    {
      "cell_type": "markdown",
      "source": [
        "![image.png](data:image/png;base64,iVBORw0KGgoAAAANSUhEUgAAAwoAAAF6CAIAAAA25zieAAAAAXNSR0IArs4c6QAAAERlWElmTU0AKgAAAAgAAYdpAAQAAAABAAAAGgAAAAAAA6ABAAMAAAABAAEAAKACAAQAAAABAAADCqADAAQAAAABAAABegAAAADjcFb9AABAAElEQVR4AeydBVxVyRfHQVdEUhAJAzsxcFUMFBS7Ft21u3aNtbtrbddca+3uFrsTA2ONv7EmSphIKYLK/wd3Ha/v3TevecG5H7zOnThz5nufvsOZmTOWycnJFnQRASJABIgAESACRIAIfCWQ4WuC/iYCRIAIEAEiQASIABFIIUDmEX0OiAARIAJEgAgQASLwHQEyj77DQQ9EgAgQASJABIgAESDziD4DRIAIEAEiQASIABH4jgCZR9/hoAciQASIABEgAkSACJB5RJ8BIkAEiAARIAJEgAh8R4DMo+9w0AMRIAJEgAgQASJABMg8os8AESACRIAIEAEiQAS+I0Dm0Xc46IEIEAEiQASIABEgAmQe0WeACBABIkAEiAARIALfEUhT82jRokWlSpVySL0qVap04MCB73T5+rB169aiRYtaW1uXLFly//79X7PpbyJABIgAESACRIAIpAWBNDWPcuXKNXXq1CtXroSEhAQEBAQGBt6+fVtmlOfPn2/VqlWXLl2uXbvWOPW6deuWTB16JAJEgAgQASJABIiA/ghYGvBIWmdn5xkzZsASEg+vRYsW8fHxQUFBQmbFihW9vb0XL14srkNpIkAEiAARIAJEgAjoj0Caeo/YMD5//rxp0yaYQZhiY5lCIjg4uGbNmiyzTp06yGGPlCACRIAIEAEiQASIgL4J/KDvDmTk37x5EyZRQkKCnZ3dzp07ixcvLlMhMjLSzc2NZSKNHPbIEh9TL+Hxy5cvb9++zZYtm6WlJatACSJABIgAESACRIAISBLA1FlsbGyOHDkyZJD2E6W1eVSkSJHr169HR0dv27atQ4cOp06dkreQJEcikzllypTx48fLZNIjESACRIAIEAEiQARUJPDs2TOsipasnNbmkZWVVcGCBaFK2bJlL1++PHfu3L///lusmbu7+4sXL1gO0shhjywxfPjwAQMGCI8wtjw9PZ8+vergYMcqUIIImBCBL1+eP3+e//VrpxatC71+8dLFw+XU/06ZkP6kKhEAgSN7jiR8SLDOYl3rp1oEhAgYOYG4mLgKeSrY29sr0jOtzSOxHpgUwxSZOAdpTL0dO3asX79+Qv6RI0fk1yehKHPqJW4L28jBQeE4xTUpTQSMjcCXL3b29g4JCQ6Cmxd3e/owG9tLIn2UEfi57c/KqlA5ETAuApw1OWlqHsHlU69ePXh6MOG3YcOGkydPHjp0CKjat2+fM2dOzJch3bdvX39//5kzZzZo0ADLtxECYMmSJcaFk7QhAkSACBABIkAEzJpAmppHL1++hCUUERHh6OiI+JCwjWrVSvHBhoaGsrVRlStXhuU0atSoESNGFCpUaNeuXSVKlDDrV0CDIwJEgAgQASJABIyLQJqaR8uXL5ccPdxI4vxmqZc4h9JEgAgQASJg5ATiYuOwGwizFXb2tAzUyN8VqaecgPR+NuXtqAYRIAJEgAgQARGBAK8ALyf8CRDlUZIImCoBMo9M9c2R3kSACBABIkAEiICeCKTp5JqexqC62KQkxOv+onp9qkkEJAlkzJghU6aMkkWUSQTSLYGKfhXfvn7r7OKcbgnQwM2JQHoxj2JiEt68ef/x42cLC4qsbU4fYEONJTlz5ozZstk4OFgbSgPqlwgYG4F56+YZm0qkDxHQmEC6MI9gG0VExNna2rm4OGTKlImOHtH440INQSA52SIpKSk6OgYfKjyShUSfCiJABIiA+RFIF+YR/EawjXLlysEJAGV+r5ZGpD8CWbJY29vbPX8e/vbtezKP9MeZJBMBIkAEDEXA/JdmY70R5tQcHR3INjLUh8ws+8XHCR+qhITP+ICZ5QBpUESACBCB9EzA/L1HqWuxLTGnlp5fM41dHwRSP1SW+IDRMm194CWZJkdgYOeBUW+inLI5zVwx0+SUJ4WJgAwB8zePhAHTeiOZF0+P2hOgD5X2DEmCORE4c/RMZFike06JQ8TNaZg0lnRCwPwn19LJi6RhEgEiQASIABEgAroikF68R7riRXKIABEgAkRAksCha4e+fPnCDtCUrEOZRMBUCJD3yFTelHI9V61akyGDFe7Kq1INIkAEiICuCWDVUbbs+OOka8EkjwgYgACZRwaArlaXT548gdFTr15DtVoZqvK4cROg7cmTpwylAPVLBIgAESACREB7AjS5pj1DY5HQpElgxYo+Hh4exqIQ6UEEiAARIAJEwDQJkHmk3ntLTv4cHX02MTHCysrD0bGKpaURHbzlmHqpNx6qTQSIABHQEYGjQUcTPiRYZ7Gu2bCmjkSSGCJgMAI0uaYG+levdl64UPCff2rdudMed6SRo0Z7HVXt1KkLJrAePXo0c+ZsL69S1tZ2yIFs+bVHV69ea9asRZ48BVDH1TWHj0+lSZOmcLSIjo4eM2YcZNrbOzk6ZitUqFjHjp2fPn3KmiQnJ69YsapKFX+U2to6li9fEY+stHr1mhMmTMRjQEAtaIiffPkKsdJbt261aNHKzS0nlMmfv3C/fgPfvHnDSpH4999/O3fuiiJUyJbNzdu7LOqgR6HOlStXe/XqW7Kkd9asLjY2DqVKlZk6dToO9xBLoDQRIAIGJDCi54ieLfFnhAF1oK6JgK4IkPdIVZKwhP73v5Y4cYs1SEwMR07x4puyZ2/CMtMs0adP/wsXLjZoUK9hwwaurq7y/V6/ft3X1y9jxoyBgY08PT3fvYu+c+fO0qXLR44cLl8ZOTBE6tZtcPHiJV/fynXq1MH2k9DQp3v2BLVt2yZPnjxChbZt22/cuLlQoYKtWrW0srI6evRo166//e9/d/78cxoqdOjQHvdTp0536NBOaJI1a1bk4Dp79hyEJyYmNm36M4qg+bx5f+3btz84+IyLiwsqhIeHV6jgGx8fjxE1b940Pv79gwcPFi1aDMk//JDyKYXmQUH7/Pyq1KtX9/37D6dOnRoxYlRISMi2bVtSOqCLCBABIkAEiIDuCJB5pBJLzKk9eDBAbBulNoOpZPnw4UAXl5/Sfpbtxo2bV69egt2jaABr1274+PHjzp3bAgN/YnVkHDYsHwl4d2AbNW78044d21g+JDAPzbJlK2AbdezY4e+/FwpRyGHuwDs1a9bsVq1alC37Y8eO7bGQPNU8al+tmj8Tgr2+nTp1ff/+/YEDQXXq1BbyhwwZ9uefs4YOHbF8+RLkbN++8927d7Nnz+zbtzdr+PbtW8E2Qs6IEUMXLJgHa08ohTHXtWu3lStXnTt3HvYca0IJIkAEDEWg76i+7+Pf29jaGEoB6pcI6JAATa6pBDN1vVGYVNXkjx+fo1SqSL95gwYN4NhGrO8sWbKwNBLZsmUTP8qnZepnzpzZzs5OqLZgwUJbW1vYKOyEFjiQJk6cgFKYTfKiWA4smIcPH8Lrw2wjFI0ZM8rZ2Xnjxk2wsVhNmd5RgRVhsMw2QiaOPPv99x5IHD16jNWhBBEgAgYk0Oa3Nr/2/xV3A+pAXRMBXREg75FKJLEWm1OPX8ppqE2Rj095fnNMUc2dO+/nn5s1b96sVq0afn5Vc+bMyWlSrFixUqVKwtB5/jwMDie4f7y9S7MIb/D93Lx5K0eOHNOmzRALEXxL9+7dE2fKpK9du44cf38/cT6srnLlyh4+fARtS5Ys2ahRA0yW9erV5/jx45ja8/evmj9/fnF9WFHz5y/cvHnL3bv34uLi2Jqk8HDeqxFLoDQRIAJEgAgQARUJkHmkEijsU+PU45dyGmpT5OYmsd5ILLBCBZ8TJ45OmTINHppVq1ajqHz5clOnTq5evZq4GktjGuvYscPjxv2xY8fOQYOGID979uzw0GCtEtw2UVFRsEjCwsKExdeslZDAmiGZHPFjTEwMHuUV9vBIOZspJiYW97x582Id0vjxf+zff3DLlpTZvaJFi4wfP7ZZs6ZI48Is3t69+woXLgRrz9U1OzxYWE2FBUyJiR+FCnQnAkSACBABIqArAmQeqUQSe/itrHJiLbbc8iPLzJlzolQlKTqthNklpfKqVq2Cnw8fPmBREWwLrHRu2DDw5s1rMo4ZJgdTb3/9NWfevNl37949fvzk/PkLEOYRhsjw4UMdHBxQDQuMLl++wOqrmBDavnjxUqZ+ZOQL5Dg42Av5JUqU2Lp1M9xR2KR24MDBv/5a0LJlG/irsLTo8uUQ6I+5uaCg3WyKTVjfLSOTHokAESACRIAIaE+A1h6pxBArrwsWnJVaVWyUpKQLFJiZ9uuyVVL6ayUs6MFM2cyZ02HlwFQ6ckTJYh0YXphog9/o8OEDkLF3bxDu9vb2xYoVvXPnLhZQfxUs8bdgu3z+/FlcVqaMNx6xZFucCYdTSMgV6FakSBFxPqyxihUrwG80d+4s+KuwWw2lWLqEe/369ZhthMczZwyw5EusKqWJABEQE/At6FswC/74ijMpTQRMlACZR6q+OOzexx5+K6scrAH8Roba1c904CSCgy8kJCSIKwj+G2vrzOJMlsamM1zsEYmv9a2FzN69e2EF0m+/dZeZSnv8+DFrKCymfvbsuVgO3D8FChSAQ0i8jHrixMnYRteyZQus70ZleIyEOTjWUNy7ECbg3LlzrPT27duIe8QeKUEEiIDBCSQlJmGNIO4G14QUIALaE6DJNTUYwkLCHn6jjZotM5Lp02ecOHEKgYLy5s0Hkwjro48dO45ptSZNGsvUFB6vX//nl1+aY8U3XEfu7m4IRLRr1x4sze7Xr49QoVu3Xy9evLh69dpz54Jr1gzA6SUvX77EQmnM3K1fvwaLh1CtenV/OJ9Gjhx9+/b/HB0dEPeoV6+eELJy5TLEPWrQ4KdmzX7BHjTMi+FcNthMU6dOEoSvXbt+yZKlWD8ODTHdhhBNWIQEY6tTpw6oAK3wgzVJERGRWFP17NkzBGRq0KDetm07hOZ0JwJEwOAEingVcXF1wam0BteEFCAC2hMg80g9hphHy5r1W0Qf9Rqnbe3u3bvhlBHYLqdOncEsladnbkyu9e/fV1gJJK8L9pENGTIIU2D79x/ADJq7uztsoEGDBmKqS6gMu2flyuXYn48ASEFB+7F9DOEoCxUqOGPGtJo1awh1ihcvvmLF0lmz5mDdEmImwesD8whFVar4YuX1H39MOnz4KGJzY0VRnz69R40aLsSERAVEToKv6/z585cuXUbDXLlyQv/Bg/8LXoA5tb17dw0bNvLQocNYhyR0Wq9eHTKPBOx0JwLGQGDtgbXGoAbpQAR0QsCSbZDWiTiDCMGkDOyAqKj7bJGvWI2EhKQnT6Lz5ctjbf3fJJG4lNJEQGMCsOceP36aN6+jtXUmjYUIDb98gUcMZ9Q4NWrs8TIi0jWna0hoiJYyqTkRIAJEgAgoIhAbE+vl5IVf1xW5DGjtkSJ0lE8EiAARIAJEgAikUwJkHqXTF0/DJgJEgAgQASJABBQRoLVHishQPhEgAkSACKhBYNKQSdFR0Y5OjiOnj1SjGVUlAkZJgMwjo3wtpBQRIAJEwNQI7N60OzIs0j2nO5lHpvbqSF8JAjS5JgGFsogAESACRIAIEIH0TIC8R+n57dPYiQARIAI6I7DxyMZPnz7h9EadSSRBRMBwBOhzbDj21DMRIAJEwIwIFChSwIxGQ0NJ7wRoci29fwJo/ESACBABIkAEiIAMATKPZIDQIxEgAkSACBABIpDeCdDkWnr/BND4iQARIAI6IXAl+Erix0SrzFZlK5XViUASQgQMSIDMIwPCp66JABEgAuZDoEeLHsLG/kuhl8xnVDSS9EqAJtfS65uncRMBIkAEiAARIAIKCJD3SAEYyiYCRIAIEAF1CLTv2T4uJs7OwU6dRlSXCBgpgTT1Hk2ZMqV8+fL29vaurq6NGze+d++eJJVVq1ZZii5ra2vJapQpQ2DVqjUZMljhLpNvKo/Vq9eE/rrVdty4CZB58uQp3YolaUSACMgT6DWs17DJ+NNLvsi8c848OhOwKAB33Q6TL5ZfqltN0qe0NDWPTp069fvvv1+4cOHIkSNJSUm1a9eOj4+X5O7g4BDx9Xr69KlknXSS+eTJE3zB16vXMJ2Ml4ZJBIgAETAhAsnJydOOT3vw+gHuSOtKc75YfqmudEjnctJ0cu3gwYMMN1xE8CFduXLFz8+PZbIEnEfu7u7skRKqEGjSJLBiRR8PDw9VKhthndWrV7x//94IFSOViAARIAKKCJx+dPpGxA2U4o60fwF/RTXVyueL5Zeq1RFVVkQgTc0jsRLR0dF4dHZ2FmeydFxcXJ48eb58+fLjjz9OnjzZy8uLFQmJj6mXkI6JiZEp1cdjaKjF69cSgl1cLDw9JfLTPssx9Ur7fnXVo6eRcNTVeEgOESAC5k4AXpwZJ2ZktMz4Ofkz7kj75ffDr/dajpsvll+qZdfUnBFI08k11ivsnn79+vn6+pYoUYJlskSRIkVWrFixe/fudevWoWblypWfP3/OSoUEljEJ1gDuuXPnlinV+SNso6JFfyhXLpP8D/JRmpZXp05dMN326NGjmTNne3mVsra2Qw4UkF97dPXqtWbNWuTJUwB1XF1z+PhUmjRpiiJVu3T5DWJPn5adPp81aw7yly5dzhreuHGjVas2OXJ4Zs5smzdvwd69+71584aVCrOBUOnOnTs//9zUxcUdzZGJCnx9JNce7d69p06d+hCSJYt9vnyF2rfveOvWLdbX69ev+/UbmD9/YQzQzS1nixatxKWsmkxi796ggIBaWbO62Ng4eHuXxQBxUBSrw9Gf1aEEESAC8gQa+DTw8cSfBvJF5pojeHFgG2GAuAsOJO0HyxfLL9W+d5IgEDCM9wgrkPA1dvbsWcnXUCn1EopgGxUrVuzvv//+448/xJWHDx8+YMAAIQfeI31bSPAbJSRI/0KAfJSmveOjT5/+Fy5cbNCgXsOGDTBNKYYjpK9fv+7r65cxY8bAwEZwzLx7Fw17BVbOyJHD5Ssjp127NitXrlq3boOfX1VxhXXr1mfOnLlZs1+EzD179rZo0TpDhgwQmytXrjt37i5YsPDw4cMXLpxzcnJiDR88eFipUtWSJUt06ND+7ds3VlZW6uoDUQMHDpk9ew5cjIGBP7m6ZoeVfPTocTgUBav61atXlSv7PXz4sFo1/xYtmsGs2bZtx759Bw4e3Felii/TRCYBY2jQoCGQ2apVS1tb27179+IRH8Xt27eKf+eT119GDj0SASIgQ+BV5CvEPZLJNONHsRdHGKZOHEh8sfxSM6ad9kMzgHnUq1evoKCg06dP48tV6YAzZcpUpkyZBw8eyNTEFzYumcx09Xjjxs2rVy9xJqTWrt2AGcidO7fBtmBkxG4elikk/P39IG379h1//TWHsYUVe/36P02b/pw1a1ZUQ/P27Tu5uLicPXsSs59Cw02bNrdu3W7MmPFoyGSeO3d+9OiR48ePZTkzZ85RS5+goH2wjWBgHT9+JFu2bIIcuHnYEIYOHQHbaNiwIZMnTxRK27U70LBhYOfOv969ewsGHOuaJVLrj4A1eflysGBST5o0oVaturt27YEV2K5dW1ZTXn9WRAkiQAQkCWR3z4584S5Zwcwy2QIgNi7mQNJmBRJfLL+UaUIJ7QlIfIVoL1SRBJi9sI127tx5/PjxfPnyKaomzv/8+fPNmzdNd7mxeCy6TQ8aNADWjFKZWbJkEddhdoY4U0jDd9K6dcuoqKh9+/az0rVr1yPdpk1rIWfNmnXw1U2e/AezjZDfsmWLH38ss3nzFtYKCaysl3RTqa7PokV/Q86cObPEOv/www9ubm7IT0xMhFmGolGjRrB+69evV6tWTRjTMG5YpjixYcMmGFgDBvRj7kYYglOnTkad1avXimsq0l9ch9JEgAiICey7tA/xsnEXZ5prWvDiWFrIziogByuQUKrZwPlisdoEwnXeqWaqmn2rNDWPMKeG5UQbNmxA6KPI1OvDhw8C4vbt22O+TEhPmDABkzVYW3P16tW2bdtiY3/Xrl3N/k2oO0Afn/L8Js2bN4UH5eefm8GbsnHjprCwMH59lGJ+DXf4UYSa+Ke4cWOKCQKzQ8i5ePEiEhcvXkY8IfFPQkIClgHhEqrhXrp0KUyosUck1NXn0qXLsF38/SU2NkLa3bt30Skg2NjYiHvBRBse4fESZ7I0JviQFuqwzEqVKiK2lkwTef1ZfUoQASJABBI/J4bHhCdbyJpByImIiUCpZoj4YuMS4/TRqWaqmn2rNJ1cW7RoEYBWq1aNYV25cmXHjh3xGBoaymZD4MD49ddfYT5hLUvZsmXPnz9fvHhx1oQSAgE3N4n1RmI4FSr4nDhxdMqUabCNVq1ajaLy5cvBU1K9ejVxNXEay7zKlv1x//6DeAWAj2iKWO7To0d3THEK1d6+jUJi4cKU9yh/IYoV5t2EfHn11NUHextz5szJPhUy3cXExCJHvhfB0ahoM6NkK7jN4JGSMR/lJcsoQI9EgAikZwKZf8gc1CXozftvu1IYDRdbF5SyR7USfLEO1g766FQtDdNP5TQ1jzj+xpMnTzLos1Mv9kgJSQLidcSSFZBZtWoV/MBFd/Hipb179y1atBhLc27evJY/f35FTdq2bdO//8AtW7Z16/ar4EYSXEpCfQcHeyRu3LgqueVQLFNSPbX0wWonmMjwYElaSIImL168FHeKNJrgjrCiMvnCI2slnhzEx/LFixcyTST1l5RJmUSACOiWAOJBjz00dnyd8VXzf7dNRLe9qCVt0blFf576c5D/oB6+PVjDHI458MMedZXgi+WX6koHkgMCaTq5RsQNQgDLfTCdNHPm9OHDh8JUOnLkGEeNVq1aYH3P+vUbUHPHjl0FCxasWLECq+/j44N0cHDKFJvGl4r6YOIMS7lPnTot2VHRokUxI3b5cohMJEmhvrd3aclW3t7eyJc5YwS2I+bpFDWRlEOZRIAIyBOYP3X+1BH4M1++SPUc/LqijyDUqisgXxO/pM05MyfpcxLuSMtXoByzJEDmkUqvFVNG1tayc8xCS+R/nVBSSVSaVQoOvoBvfXF3gq/F2prn9cWurtq1a2Fp85w58zBF1aZNK7GETp06YN3YqFFjbt++Lc6HjYIoA+Ic+bS6+vTs2R1C+vUb8PbtWyYNC6vh6cEjFjZhSThWO2H2kJUePHjo0KHDMOl8fSuzTHECa89h/M2ePTc8PFzIxxLvYcNSFnd36NBOXJPSRIAIqEtgzcI1C6fhzxp1G4rrs51ZuoohJBauWXrBuQUfklKWyeKOtGZCqJXJEUjTyTWTo8MUxhaxu3c/iVYesxIL44ma/U2n1NT06TNOnDjl51clb958MImuXbt+7NhxTKs1adJYpqbMY9u2rffvP4CV18hHWlyaPXv2DRvWNm/eytu7XN26dRDAEw6ep0+fnDp1pnLlSgcOBIkry6TV1QfrwQcOHDBz5qzChYs3bhyIuEewaY4dOzFwYP9+/fpA+LRpkxHEEoEuYXjB1YQl/Fu3bsdK7RUrlkrOx6FJgQIFsPpq0KAhpUuXbdasKeIeIcbEvXv3EcMJs4oyCtMjESACaUwAriN9BKHWZhRwF80/980fhvTvvr8r+h9Gm46orbERIPNI1TcCC0mFffSqSkuDet27d0NIccwcwXbBfzqenrkxuda/f1+ZRTbymiBOEurAdYQtXbAnZCo0aFAf8ZZmzJgFY+vIkaOwMHLlytmxYwcZQ0qmFR410GfGjKmVKlVYsGARojHBE4Zl1wEB1WrVqiEIh6124cLZP/6YjEiVZ86cxWAbN/5pzJhR/HVR2NVfsGABOJAwgQjXUeHChf78c3qfPr1osZH8K6McIqAWgUWbFyV+TLTK/N2WVbUkMNcRWukkhpBavUtWZq4joVRwIPWu2luyMmWaEwFLfHGa+njwRY6vxqio+8LCW5nhJCQkPXkSnS9fHixVkSmiRyKgDQFYbI8fP82b19Ha+r+dfRpL+/Ll2bNnBV+9cmrU2ONlRKRrTteQ0BCNpVFDImCKBPBl1Gh5o9uRt4UzOjAEBKH2cvfa22WvoX57geuo2PRiwswaQ5olU5Y7Q+6QA4kBMdFEbEysl5MXtkgrchnQ2iMTfbOkNhEgAkTArAgIriNmG2FszIFkqHHKuI4ENWgFkqFeRxr3S+ZRGgOn7ogAESACRECWgLDqyKjiQcusOhJrjBVItIVNDMQs07T2yCxfKw2KCBABIpDWBB7ee4i9pdgcWqCI7JpFparwo0WjVONAi0q7VlQBIaoTkr7b/MtqIh+lCNLIcihhfgTIPDK/d0ojIgJEgAgYgECrWq0iwyLdc7rj5DV1u+dHi0572wj6w/rZ1WnXk6gn8mPJ55yPbCN5LGaWQ5NrZvZCaThEgAgQAZMkgHjQJT1K4ufdh3d9d/XFXXj0cPAQjwcxtQMWBeAuzmRpbUqZEJYok6tMk5JN5H+8c6YEmGUXv1NWTT6hcUOI0qatvCbGnGOokZJ5ZMyfCtKNCBABImAyBAJbBrbsjD+B2miMRUicqNn6K9VYZ75KHLEaN4RMbdpyVDLCIgOOlMwjI/w8kEpEgAgQAdMjMHL6yOlL8WekNqqz0EeSUbP1V6qxznyVOGI1bgiZ2rTlqGSERQYcKZlHRvh5IJWIABEgAumRAFwFQtRsDB5Bj5BGDgOhv1LWhboJvkocaRo3hExt2nJUMsIiw46UzCMj/EiQSkSACBCB9EhAcBUIoY/kgx7pr1Rj1nyVOGI1bgiZ2rTlqGSERYYdKZlHRviRIJWIABEgAumOgNhVIAxe7EDSX6nGoPkqccRq3BAytWnLUckIiww+UjKPjPBTQSoRASJABEyPQLt67eqXq4+7ZqqLXQWCBLEDSX+lmmmLVnyVOGI1bqhNpxx9jLNIG0o6GRGZRzrBSEKIABEgAumdwL3b925du4W7BiAEV4GiqNkIUY11SPooRb8aaIsmfIU5YjVuqE2nmo3RgK20oaQrtdU2j5KSksLCwv75559///333bt3utKD5GhPYNWqNRkyWOGuvSiOBHRRvXpNTgXVizRTuFOnLtDhyZMnqndENYkAEUgDApmsMllZ4Y8mJzTzo2YjRHV4THiyhawpg5yImAhtStGvZmT4CnPEatwQemrTVrNhGqqVMYxU1ajZjx49Wr169bFjx0JCQmAhMWQ5c+b09/dvnHplzJiR5VNCVwRgB+TPX7hOndoHDgTpSibJIQJEgAjonMC5B+c0lsmPmo0Q1UFdgt68fyMv38XWRZtSjeNx8xXmiNW4IcauTVt5dMacYwwjteT4AAV2ly5dGj16NAwjuDczZcpUokQJNzc3Z2fnDx8+vH379t69e5GRkZaWlq6urr169RowYECWLFnSGHpMTIyjo2NU1H0HB3v5rhMSkp48ic6XL4+1tbV8qfHnqG4eRUdHR0REeHh4gIb+xnX37l0bGxtPT0/tu9BMYYwRDQsUKIBPo/Y6aCMhISHh8eOnefM6Wltrq8mXL8+ePSv46pVTo8YeLyMiXXO6hoSGaKMbtSUCRIAIEAEOgdiYWC8nL3ybODhIn52nZHKtZcuWlSpVwlQaTJ+zZ8/CELly5cr+/fvXrVu3ffv2EydOhIeHP336dMmSJUWLFh0zZkzhwoWRyVGIivRHAFYR3oJebSMojy50YhtBlGYKw/6DDga3jfT3HkkyESACxkZAm3MttGlrbBw01scUISgxjy5fvrx06VIsNpozZ07lypUzZ84sTyd37txdunSBVQS/QvXq1YODg+XrUI4OCQiLbzDdOXPmbC+vUtbWdsiBfPmlPFevXmvWrEWePAVQx9U1h49PpUmTpijSpEuX37Cm5/Rp2ZOMZs2ag/ylS5cLDWXWHilSBpVPnTrt7x9gZ5fVxcW9ZcvWcI9g0RKaMwXkFRaEv3jxomPHztmze9jYOFSqVOXkyVOsCRJCjzJrj6B2kya/uLvnwkg9PfP/8kuzs2f/8/PDgh87djzkuLnlRGm+fIV69uz98uVLsUxKEwEiQAQUEcAcC+ecE0WthHxt2vIlm1CpiUJQsvYIc2c//KCkDntJhQoVWrNmzadPn1iOWSaOPjrW92D/uXVn18xfw4AD7NOn/4ULFxs0qNewYQPMbMprcv36dV9fPywICwxsBH/Pu3fRd+7cgZUzcuRw+crIadeuzcqVq9at2+DnV1VcYd269TCLmzX7RZwpk5ZX5vDhIw0bBqL3Fi2awd8DE6dq1epOTlllGso/Yr0/ajo6OrRt2+bVq5ebN2+tW7dBSMgFzOrKVxZy5s79a8CAQZjVbdIkEMY67KGzZ89v27ajShVfVIDlBAuvRo3qPj4+8DkBy+LFf0O9K1cu6tvTpkhhyicCZklg/ZL17+Pf29jatPmtjTkNUNhhjhEJ55z4F/BXfXTatFW9FyOvaaIQlJg+qttG7PVo0IS1Nf4ErOARx0fdeX0X9xr5ArDoylA637hx8+rVS5x5rrVrN3z8+HHnzm2BgT8xJd+8kVjbKJT6+/tB2vbtO/76aw5zE966dev69X+aNv05a1aeZSOjzOfPn7t164n78eNHBBsFXcAhtGbNOqaJosQ//9zo0aM7dMiQIcW1CX/kr792mz9/0eLFCySbYOZ34MDBsMDOnj2ZN29eoQ5eE5YoCemAgOoREc/s7OxY8zVr1nbs2GX+/IWKLEVWkxJEgAioTmDuxLmRYZHuOd3NyTzCfybCOScIwiSEqfTL76fi//zatFUdu5HXNF0ISibXjJx72qt3+OGRkPAr6Bd3pNNeAdbjoEEDYM2wR0UJmZXy2bJlU1QT/+Bbt24ZFRW1b99+Vmft2vVIt2nTmuVIJmSUwcQWVqQ1atSA2UZo9ccf41XZ22hraztt2mTBNkKrDh3aweDGfknJfpH599/LsGkAwplthEyMJUeOHEITuNbEthEy27Vri7V4x44dFyrQnQgQASKgiIA4OKE4TKWi+uJ8bdqK5Zh02nQhKPEeybwVmIG7d+/G7+uYvxBv70c1fCEtX/7f8hSZVmbziOGPPjkWv0AIv0YgXbtALRV/jdA5BB+f8nyZzZs3nTt33s8/N2vevFmtWjUwZYYoDPwmmF+bOnU6ZtN+/rkJasLs2LhxMyyq+vXr8RvKKAMPEOr7+qbMbbEL016w5x4/fsxyJBOFCxcSWzOwjbBTEjODkpWRieVxuNeuXVNRBeTv2LFzyZJlWIkF4w8+LaEmPsOcJlREBIiAugQmL5yc8CHBOotJ7hGWHKzY8yFUUN2BpE1bSWVMMdOkIahhHj148KBhw4aIBokBy7+n9GAeMdcRhg8LSXAg1SlYW55GGuS4uUmsNxL3W6GCz4kTR6dMmbZx46ZVq1ajqHz5clOnTq5evZq4mjhdrFixsmV/3L//IMwIJycnLBh6/vw5prqUbhOTUQY7HCHW1TW7WDjSqKbUPJLfYwkLidk0MgLxGB0dg88eJtfki4QcLGAfPHho9uzZYULBQBTcaViu9PGjhuHgFHVE+UQgnROo2ZD3W4opwmGLZpjyzIGkdAWSNm1Zd6aeMGkIaphHv//++/3793v06NGqVSt8G+FLy9TfnFr6wyhkriOhIX6NMKADSRWvVdWqVfCDCFUXL17au3ffokWLsVz65s1r+fPnVzR2LIju33/gli3bunX7FW4kVINLSVFlli+jjGDivHz5ilUQEi9e6H6/WNasjng1WGkk6RvDRoGJEyfj43rt2mW2gD3lF5oZM2V0o0ciQASIgJhAyn8UqSeZyETrxtkmyOevQNKmrVgHk06bOgQ11h6dOXPmp59+WrBgQZUqVQoUKJBH7jLpF6lUecF1hF8dWE3mQGI5xpmAv6RaNf+ZM6cPHz4UptKRI8c4erZq1QKG7/r1G1Bzx45dBQsWrFixAqe+ZFHp0qWQf/78eXEpHFGhoaHiHJ2ky5dPmWQ8fPiopLTXr18j6lelShWYbYRqISFXMDrJ+pRJBIgAERAIaHOuhTZtzYa/qUNQwwNkb2+PL0uzeXNqDQRWMBxFGSwyfLH4Im6IHAM6kMSayKeDgy+UKeMtjhUuOG+srTPLV2Y5MCNq16514MDBOXPmYY6sf/++rEj1BFZkY5kR/FXQoVKlikLDMWPGcebIVBcuU7N791+XLFk6evTYgIBqsNiFUrwv+JOwOhvDgXV49er19+/fI9g3SjFv2KdPPxkh9EgEiID2BKLeRGHBIvZVOGVz0l6awSVoc66FNm0NPnBdKWDqENTwHtWqVUvGH6AriMYvB1bws+hnMrYR1EbO8+jnKDXCIUyfPgNhEn/6qTGCEg0ZMqxWrboLFy7CtFqTJo352rZt2xrmxbhxE1ANaX5lyVLsUFu0aD7+l6xRozaiOA4fPhIRmI4fPwmvksw0nGRztTJLliw5e/ZMGEMlSni3a9dh5MjRXbr8VqSI1/TpKdNn0AFrpxBD0tu73IABg7t27VayZBlksn1tavVFlYkAEeAQqFOmThl3/KnDqWPYIk7sZsmiHI45SnqUxM+7D+/67uqLu/Do4fDdYkd+W6EJu4vbSjY0LCJtepcfDgPIhi8JUJtO9ddWDe/RjBkzcMDI4MGD//jjD7FPQn/KGY9kWMGXuga/ev9aXiVX2+wolc83eE737t0Q9hCrjk6dOgNzx9MzNybX4A2SX/ssoyriJKEOXEdw/GAWVaZUxcd69eoeOrQf4aqxjAn+mxo1qm/atL5BgxTJKkpQvVqvXj1LlPCaNWv2gQOH4uLi4DGqUKE8Nu4JEqZMmejs7LR69RosvcImuJYtW4wbNxpGkuryqSYRIAJmQAD/DbLg11XyVRH/qsYpwsC1KeVw44vlNDTOIjMbDiArP5JW/CYQRBsWEqZIECBb5nsOHzUcWyuunGZpfJHDDjDXI2nTDKO+O4qNjYU3q2TJEhcu/Hfch7571Ld8OpJW34RJvmkRGNh5IObXMLM2c4Uxbn049fBUuw3tBKRrW68Vbz3jFKG+NqWcN8gXy2lonEUmNxylR9Kq4T26du0a5tdw5gPezdWrV2XekNgSlymix3RIID4+HqsQsF5NGDtM6sGDh2FBtDiEdzrEQkMmAmZMwDitIgE4fBuKgl9zitBWm1LOu+aL5TQ0ziIzG44AWY21R/369YNtNG3aNOw/QkxIfPmJL32sujXOzwFppQoBxMfKkcOzadPmsIq6d/+9dOkfsYDay6t4nz69VGlOdYgAESACOiTAid3MKYIC2pRy9OeL5TQ0ziIzG44AWQ3z6MqVKy1atMDao1y5cqlyOoRxvkXSKm0IIAoRTrG9du0frPhBUMrExKSBAwecOXMSZ4akjQLUCxEgAkRAIMB8GwyIEPwa+ZwiVNamlPUln+CLla9v5DlmNhxGW43JNSw2wspW1pISRIBDAFGqV6xYxqlARUSACBCBtCEg+DbEfbHg18i8EZFyCBK7WBEWJ3EaKi1lAuUTfLHy9Y08x8yGw2ir4T0KDAw8fvw4JtRYY0oQASJABIgAERAI9Gnbp21d/OljVEAE3wZCXctoJQS/nn58uqIifNkJUbMlG/JL0alMK/bI14fTkEkwqoSZDUfMVg3zCKuOMmfO3KZNm7CwMLEIShMBIkAEiAARuHD6wukj+HPBqFBwYjeHx4TjR+bMECiPnIiYiLjEOI1LOcHwOPqgU05Do6LKlDGz4bBxIaHG5Jq3t3diYmJISMiWLVtwXqn8xv6HDx+KRcunp0yZsmPHjrt37yIQTuXKlWFvFSlSRL4acrZu3Tp69GhE80MEAVSrX7++ZDXKJAJEgAgQASLAIcCP3Qznx5v3b+Sbu9i6OFg7BHUJ0qyUEwyPrw+nobySxpBjZsMRI1XDPIIvESe347AIob2MD1DmUdwHS586dQrn2uKQLBwUOmLEiNq1a//vf/+TX6uL2Nw49Ra2VMOGDTds2NC4cWPEEShRogSTo0FCsadTA2HUhAikEKAPFX0OiICYwPHbx/FFwIK8IIby2ENjx9cZXzV/VXE1Ic0p5RShLb9UviPkIHYzfiSLhFJOEb8hp1SRTKFHzRpyZOqqSOd4BcU0EKurEWksR72wkBp3I9/w1atXiG4Mg8nPz0+mFPvjEDUnKChIyK9YsSIcV4sXL5apxh75YSGTkj4/fPgWG6kcHP6LwcMaUoIIaEMgJiYWE80FCjhnypRRGzlo++XLs2fPCr565dSoscfLiEjXnK4hoSFayqTmRMCABGAnNVreCKueS3mU2ttlL7OZBJU4pZwitOWXGnC85tG1nvDqSayWzJWGhVRj7ZGWqsg0xznqyHF2dpbJx2NwcHDNmjVZfp06dZDDHtVN4Ksrc+aM0dExeEPqtqX6REARAXyc8KGyts6ovW2kqAvKJwKmS4DtZoKFhLTMQDilnCII4ZfK9EKP6hLQE149iVV3dOrWV2NyDQbN06dPCxYsKJx8znqCpwerjvLmzSuzGolVkE9gng5BJn19fSWnzCIjI8URBJBGjoyQj6mXkAnvkUypzGO2bDYREXHPn4c7OjpgftBSdgeDTHV6JAI8AjCzERYVtlF8fJyHhx2vKpURgXRJAL88KApRDR6cUk4Rv2G6xKzjQfPha9yZnsRqrI/qDdUwjyZMmLBkyZLw8HAZ6YiXDUOnZ8+eWEMtU6ToESuQbt26dfbsWUUVlOZjZdL48eOVVhMqODhYI/H27fuwsFgcM6diK6pGBBQTSIbfCLaR8NFSXI1KiEA6InBgx4EP7z9kscliU9qGBRMShxESWDBfAh5lSjlFqMwvTUeg9TNUPeHVk1j9MPhOqhrm0cGDB3HmGjtFi4mB0wjzX/v371fRPOrVqxfWFZ0+fRrRt5kQccLd3f3FixcsB2nksEchMXz48AEDBghpeI9y584tU0HmEV9j+ME6pM+fKW6TDBt6VJtAxowZaE5NbWrUwNwJjO03NjIs0j2nu+sYV4SlhukjjFgIUe2X3w8rkMS+BJlSPDKfk0wRv6HMwiahLd3VIsB5L9rg1ZNYtYamcWU1zCMctYatZJI9FShQ4MiRI5JF4kyQ6t27986dO0+ePJkvXz5xkThdqVKlY8eOYfZNyIRk5IgrII0ITLhkMpU+4iuNvtWUUqIKRIAIEAGNCXz89JG5jgQhYheR2JcgU4pHzRoigLXG2lJDgQDnvWiDV09i0+atqbE0GyYkFvxIqoV8VY6kxZzaunXrsFcfLigsJ8KFI9wFge3bt4dDSEj37dsXnqqZM2ciQtK4ceMQaQkOJ8l+KZMIEAEiQASMhMDgCYMnzJtgW9dWszjUGgewxi/eRkLARNUQfDyK3prGePUkNs0gq2EeFS1aFFaLPCmssz5w4ICiAI/ikSxatAjru6tVq+bx9dq8ebNQAa6piIgIIY2IkTChsM6pdOnS27Zt27Vrl+QKbrFkShMBIkAEiIBhCTTr2KxVt1YJJRI0iEOtTQBrk4s0bdjXJN+7niJf60msvP56ylFjcg2hGgcOHNi5c+c5c+Y4OjoKCsHcgbPnwYMHf/75p1IV5U0r1gTTbSyNRLPUS5xDaSJABIiATghUzl85V95cW45v0Yk0EiImwI+hzI9DjS8InYeoFutGaUUE+G9N40DeehKraBQ6z1fDPMIM1/bt21evXr17925EvkagRcTEu3z58rt37xDakea/dP5uSCARMEsCwSeDW9RoIQwtQ4YMdg52WMxb8seSgS0D/ev4a7MOVB7XsrnL8LscvBryRbrKiY+LXzJryc0rN29du4WFyRX9K6ZzwwvxoDkhoVmpZBhloeGic4v+PPXnIP9BPXx7sNfEGrIcyYSkWMmapp6p25GqiFddaHoSq64amtVXY3INEYOOHj2K/WJYZoTl0qtWrcIdM2uDBw8+dOgQSjXTgFoRASKQDgnAGJqzes7MFTOHTBziG+B74dSF9g3at6nTJvpdSsBYXV0r5q7YumarrqRJynn7+u3s8bP/ufxP8VLFf/hBjV84JaWlk0w4iqYdn/bg9QPcZWYV8J0y58ycpM9JuCOtFhCOWLXkGH/l9DNSA74LNcwjaGltbY1JtLdv3968eRNRixC76M2bN9jPr8EmMgOOmbomAkTA4ARK/Fji57Y//9Lul/Y92o+fM/7sg7O/9v/17LGzvVv3Nrhuaing6uF68enFK+FXVgWtsspspVZbM6vs4+njmRF/fJSOi21oko+pveDcgg9JKVt2cEdaqShxBY5YcTUzSKefkRrwZalnHgmKZsyY0cvLCwuoixcvjrQBtaeuiQARMA8C+J9k9J+jy1cpf/LQyUtnLwmDiomOmTxsctXCVQtmKejt5t2rda+nj56y8W5dtRVfxmeOnpk1flalfJVQp7Z37T2b9rAKKH3+9Dn8UkgIP8+ePGOlD+4+6NiwYzHHYl5OXt2adXsZ+ZIVqZXAL4ceuTzUapLOK8PzIcQ3AgchJBJzIMFdNP/cfMYHadUdSByxTKB5JNLPSA37vpS4gvEa1F0KoEETwyKg3okAETASAi07tbx89vLx/cd9qvjANmpSpUl4aHjzTs0LFy8M82XtorWBlQKDLgXlyvMtouyU4VM+xH9o16MdhgCDqVebXh8TPgqLjTB5N2HgBGcX517D/4sMki17NmGkWCTUIqBFncZ1RkwbcefGnfVL1sfFxK0/tF4oxaExsdGIsM+7IJZXnC7LSpQpkSN3DqVkmOcDkMQhkfDIXEcCP8GB1LuqSg5FjlgzexvpZ6SGfXFKzCPsqEfkIWwjU0VLnDk+adIkHL42bNgwVepTHSJABIiAmEDRUkXx+Pj+Y9xnjp0Z+ih09/ndxUsXF+o069Csdunas8bNmrVyFmsV9Trq0PVDDo4OyGnbrW0d7zoTBk1o1KKRdRZrTN79OeZPFzcXJFh9IfHkwZMFGxc0at5IeMQK8TWL1jy897BAkQLICTkXwhaPyzRkj6GfQ1maEgKBFbtXKEXBPB/yMbVRJHYdCaKQ87vv73hBfMkcser+hs/vyOCl6WekBketxDwqVKhQixYthg4d2q5du6ZNm8Jakv+oYfkR1mgj3iPuzs7Oa9euNfioSAEiQARMkYC9gz3Ujo2JxXfArg27KlStgE1tWPssjMXG1qZMhTKnj5wWD61t97aCbYRMJNp0azN95HRsjqter7q4mkzaLYcbs41QVLl6ZZhHj/99LJhHxUoXY54kmYb0qCUBsedDEMUcSDfCbwirjsRdqOhA4ojVJuizWBMjSaefkRocuBLzCCEZT506NXr06D/++GPixIm2trbe3t5ubm5Zs2ZNSEjAGu179+49fpzyq56TkxOsqCFDhtjZ2Rl8VKQAESACpkgAhhHUhpH05tWbqDdRsISw5EhmIDKOhEJFC4krFC5WGI+hj5W4djzze4pbOWVzwiN6FDKzOmWtWrOquAKldUJA8HwgOrNM3EjkYDXS/Vf3JXtR6kDiixXOepOUbHKZ6WekxvBqlJhHUNHf3x/Hx96+fXvlypXHjx8/f/68eK1ctmzZAgMDmzRp0rx5c9q/ZgxvlHQgAqZL4O6Nu1A+f5H8+BpAokqNKj2GfIt8o8NxSe8p+Xo0RWJi4ru37/jdubq78itQqTwBThjl8OjwhE8J8k2Qk5CUEJcYh5CSkqXI5IiNiIlAqcaBDRX1aKj89DNSQxEW96vcPBJqY6uaEBc7Pj4+PDwcE2pZsmTJnj17jhw5xOIoTQSIABHQmMCmlZvQNqB+ANZQO2R1iIuNU+rF+ffuv7UDa7Me799J8UB45vvPOSS/GIDV5CSunL9Ca484fMJCM759LbEYaOVfIz5/eufo5IiT1ySb88MoR8ZEPol6It8wn3M+jm2E+nyxZmMbpauRyn8M0j5HVfOIaYb5NSxIwsVyKEEEiAAR0JIAgs1OGTYF29YC6gWU9y0PaU1aN1m9cPW+bfsaNG0gFv765WsXVxeWs27xunbd2wnLj7DZbf3f62FXIXS1UMHGzkapH4iJYglae8RQyCdgG1Ur5vExwTKlyHe6RfXRFif+sDg3JLXmYQuLMCwXE8wjdYNfezh4lMlVBnI0iAetfXRmSW1TB5Vy00Al7dtKdqr9SCXFMm0pwQiobR6xlpQgAkSACGhM4NbVWzvW7UDz+Nj4h/cfHt59GDGK/Gr5zVs/T5A5eOLgkPMhPVv2bNisYZmKZaysrFDhxIETOH5EvHPNycUJu/2FnfzY2B8WGjZ9yfQsNlkEIVjKvXnFZuxfK1i0IBYt1WxUE+u7leqs7tqjVQtWxbyLgdhPSZ/CnobNm5QyhGKlitVqVEtpXyZXAX6j/2wjiy8W/uMtfkhMuZ8bZGHxnT8JazBY8OtulbrJrBjjjBrzqiygdpV8VTTz/3HkSxbxtdVGJY3batxQcoAsU09imXxzSpB5ZE5vk8ZCBEyGwO5Nu/GDb01bO1v3XO4V/CpMbjm5Wt1qbABwCO04swPHmQVtDTq85zDO60D0xXK+5Vp1acXqIDF8ynCEkVyzcM3rF6/zFc43b+28xq0bswo4sST6bTS8UDBf8MVw7uE5Vcwj1lzFxJKZS2C6CZUReRLWGNJN2zc1S/PoG5MqUyys3qc84o702ZFwsizdEVmsVMpJICyCkYpbz5hYtjNLCKidNvvO+Npqo5LGbTVuyEhKJvQkVrIvU8+0xH8Zpj6GmJgYnDoZFXXfIXVXsKkPh/RPhwS+fEHUsIKvXjk1auzxMiLSNadrSGhIOuSg1pDhKxrYZeDmY5srVaukVkOqrA2Bm1czNSjvbgHX0Qh7i0zvLTDJhu+QJBuLydh1mGHf5ciSPybBGVNsejG2Sz9Lpix3htxRxYGE76NGyxvdjryN3f4IqO3l7rW3y159O5D42mqjksZtNW7If7N6Esvv1GhLsU8WEfOjo6MdHKRX/X/nDjXaYZBiRIAIEAEiYEQEBNdR6gKkFAtJcCB91Y85Y4QMwYH0tZD3t+DbECJGsnhIvAa6KONrq41KGrfVuCGfh57E8js13VIyj0z33ZHmRIAIEAGDEPhi4Tc5xWnELqSRA5cS/nx/bppQRZXT0+DbYGexCa1kTmRjvekwwddWG5U0bqtxQz4WPYnld2rSpWQemfTrI+WJABEgAmlOQOw6EjoXHEglfr0SfGLo/KFsWo1ppooDSezbEBqmgQNJxnUk9Mu01UYljdtq3JDRlkzoSaxkX+aRSeaRebxHGgURSHcEsFsNB5/RwqM0fvFwt8i6jgQN4EB6unJMn9abx26WVInvQBJ8GwifLdNWCKiNUpl8nTxKuo4EydAWwSbgzdJMJY2Ho3FDPhA9ieV3auqlau9c+/TpEw4SeffuHT46MoP38/OTyaFHIkAEVCSQnByXnJwJXz24Xke89vH0kWyIQ9HFB392Dux869otyZrI/LX/r/gRShFiMcArQFFN5C/buaxU2VJChaNBR0f0HKGoMvaanfjfCVY6acgk7EFjjzIJxHicungqy2zg0+BV5Cv2KJMYMXUE23eGA2Jb1fpuk5pM5b0X97p5uAmZ65esnztxrkwF9pi/cP5NR1MCTgpXn7Z9Lpy+8PVJ9u9WXVv1H9Of5Sp6EUKFuWvmMvsMB731bd+XNZRPXAq9xDJnT5i9cdlG9iiTqOhXcd66/wIcoKhlzZaP7j+SqcMe+47q2+a3NsLji4gXjSr8d84uqyBObDyyUThXDpk41W7yMMyISV/Z3bPvu7SPlQ3rPuz4/uN4/PQp2eJ96oY1VoZESQuLlNicqUYMbn8hlLW4OCX9weJDhQUVsM568sLJNRvWFIpvXLnRtUlXpHHMyKu4V8lfZM2g5F7JLPL10tlL8SM0lL9r8E8DwbgRktvio4XFfFl5grav41+nqISPYY6vFe5ZJAcl38pwy2eCj7zlxP5p/Bfe+nCyxc2vDVP/xjBZW8l/Ggo51EqOsP0vArgG/zQUis2WHPH7t8Di6eqfRoqhz73UMI9gfo4ZM+avv/6KjU05F0n+kjeY5OtQDhEgAvIELC3t8uSJw93yNK7X/QAAQABJREFUS4pDF/9uI8Mi5ashJ0du9v90SjmOa1VUE6XCEWYp9fD1k5zMqYkKSYlJqRVTbgkfEjiV7ey/O1cxOiqaU1kmKiNsI07lD+8/MB3wmxinJqp9+fztf7f38e85le0dU066ZZcSaNHf/f/GEQuBiR+/WQFI8yszBZCIjY7lVGan8ApNXr3gQcPYmWQw4YhFNVBllUGbX5nVRALvkVO5pE2lOt5tQjtfy+FoH/MlZv3s9R/jYXTIXi9iXyDr/v8+ueXIJJTdvankY7m1/VZPd08h8jU+zxwdNPingWDcuzrtuvvs7tApQ2V1tbB4GftSyPyzwZ/FyhYT0meCzkzdOPWLxZcX0SljkbnYPw0hkPeYK2MOnz8sU4e1VeufRp+Kfdp0bSNw0OE/DU8Pz61dt7LA4un5n4bMa8KjGuYRTqWdNGkSDqNt3759rly5EIZEXhzlEAEioDEBT8/IjBlTfnvGFmhnt2+BocUCMzvaPYh6zXLw6OLhyh5lEh9/yMAqv4+N59REwxcJ8axy1OdETuUstjasJhp+yZKJUzmDrbW4soOL0yfFv7TFJH9ilcPiYzli0W9o7Lv4qP++ZeMtv3Aq2zo7MrFomMnBllM5ySqjuDKnJkS9SvzAKiPNr8xqoiF64VSGhuLK0J9TGWNnld/EvpOsmfQ5Me5jrF1me1DN+PXzA9qSlaEeLrwpJhaPeI+cysWKFKxfpbIFflKvI5uOfxAZbUJm9JsoWG+fP2ecOtxj6nCEBhAuDwuLnELK2TUpQ8av2V//zmLtHv85k6AJPs8cHTT7p2Fvm9srpzNHLBRBZK4s1tAz5bK3d+dU/v6fhlXWbG6cymr907B3cGMcdPhPw9nVlYnF6NLVPw38Fvr2xbf/S1Nf73c3NeIe5c2bF37RkJAQHEP7nQxDP1DcI0O/AepfWwLJyVGWlk6458lTIywsInv2nEFBz7UVSu2JQCoBOA47BVe4E325mGP5lZUu6juMEIf63bsWHTooLF+92qJoUYWlVEAEdEsgLi6mRg1HTtwjNTxAkZGRPXr0MDbbSLe8SBoRMAYCGTNauCp0CRmDgqSDKRE4FXYYthE0xv3up8P+OesYSvuX/81WSffv7Ewfe2kylKsPAlmyKJGqxs61fPnywU+jRB4VEwEiQASIgNEQgOto1rXRGSxTZq1wRxo5RqMdKUIEjJeAGuYRXEdBQUEv+fa/8Y6UNCMCRIAIpDsCp8MP33hz+UtyykZj3JFGTrqjQAMmAuoTUDK5FhoaymQGBgaeOXOmcuXK2L/2448/yh9T4unpySpTgggQASJABAxLgLmOBPMIyggOJL8ctdN+BdKMGSOfPHlnYZHVwmKSYbFQ70RAFQJKzCNhObZYUMoqv06dxDlCGv/YxFtG5StQDhEgAkSACKQlAcF1JO6ROZDSfgXSjh2rIyPDUvepkXkkfieUNlICSswj7OFP+18yjBQVqUUEiAARMB0CguvI0iJDcupRaExx5GAFkkEcSEwHShAB4yegxDxatWqV8Y+BNCQCRIAIEAEZAolfEsPjQ2VsI9RBTkT8M5RmzphZpoleH1euPBAentS9e6akb/FHv3WYObOFk9O3R0oRAYMTUGIeifXDOiTEhJRfcoQ6iKMdFRVFa4/EuChNBIgAETAgAVg/f5e7HPpG4giXPNlc+bZRWJhFVJSE7rBgcv4XxFGilJ9VtGhJhDU6cUKhZDS/JXVAjjad8lWiUiLAIaCGeYSN/WPHjsW6bHlx8+bNQz4dKiJPhnKIABEgAgYhABOndYPcHz/mlu8drppjxxQaOmhYo4bFR4lDQSz4DeU7ks+BdSVpYOm1U3k10jLnbPjR8Zf6jPWZVyVHzbTsl/rSkoAaG/s50TI4RVrqR82JABEgAkRAAwJw/0iaOBCFfEnnkNCLxg01UJI1MUinrHf9JfDlOOPqiAfRd3CnL0r9cdaHZDXMI073z58/t7f/7tBHTmUqIgJEgAgQgfRG4ObNK1evBuOergbONg9SxCmTe+/KJ9cmTJjARnXy5EmWFhKYUHv27NmmTZsqVqwoU0SPRIAIEAEiQAQEAr/9FoiN/e7uOYODn6cTJnAXCSHLEU/BgBGn0gltnQ9TuXk0btw4oVfs8Id5JG8hoTRHjhzTpk3TuXIkkAgQASJABIiAiRJgriPob8CIUyZKz+BqKzePTmCnAfaCJicHBAR07Nixw/cHLmfMmNHZ2blo0aIZMuhmns7gREgBIkAEiAAR0DmBli1/jY2Ntrd31Llk4xQodh0JGpIDyTjflCKtlJtH/v7+QmNsW6tevbqfn58iWZRPBIgAESACRECSQN++YyXzzTVT7DoSxkgOJNN618rNIzYemEcsTQkiQASIABEgAkRAkoDgOqKQ5ZJwTCVTiXl0+vRp1UdCjiXVWVFNIkAEiIBeCSCaIsIUSe7t54eo1rihNsMxSKfaKMxva2why/naUqkkASXmUbVq1VQ/c43CQkoipkwiQASIQNoTQPRFxH6UjG/Ej0OtcUNtxmiQTrVRmN8WQcl3N7z8NkEiZHk2ayUhy/mSqTTNCCgxjxALW2weXbhw4dChQ4UKFfL19XVzc3vx4sX58+fv379fp04dVTb2wxc1Y8aMK1euRERE7Ny5s3HjxvLjxM44rHAS56Oyu7u7OIfSRIAIEAFzIqCPQzzAZ/du6WM6SpSw6NnTgtOpNmyvXLF49kxCwN9/V/nwITJ7dvetW89KFFukRNPGj9lcOWxz48dshpMOB6LEPGK7+oHmzJkzU6ZMWbJkSZcuXZjNhBnWpUuX9u3bd+TIkUrxxcfHly5dunPnzj///DO/8r1799jhbq6urvzKVEoEiAARMF0CejpPY+FCixkzpKkcOGARE2OBA8clp96srFJaJSZKtFV6qAhso6ZNJRqmZj2xsAj7+DFBKOYctcEpUiSa8omAzgmosRt/9OjRDRo06Nq1K7ONoA3Sv/32W7169VCqVDlUmzhxYpMmTZTWhEkEj5FwUcgApbioAhEgAqZLQE/naUge78oo3bwpbRuhAgwjSdsIRfzTSFBB0m/0tVNnW1sXR0dnPOL3akVHbXCKvsqhv4lAWhBQwzzCpFixYsUklUJ+SEiIZJFmmd7e3h4eHrVq1Tp37pxmEqgVESACRIAIGBOBGxMnvjp48AZUYpve5Y/a4BQZ01hIF/MnoIZ5ZGVlde3aNUkkyEepZJG6mbCKFi9evD31yp07N9aGX716VV7Ix48fY0SXfAXKIQJEgAgQASMkIGx6R4xE6CZESkSOoCenyAgHQiqZNwE1zKPatWsfPHhw6tSpiSLHK9JYkIT12lidrRNSRYoU6datW9myZStXrrxixQrcZ8+eLS8ZnTp+vWBFyVegHCJABIgAETBCAoJ/CDESoRuLlCjoySkywoGQSuZNQA3zCJvO4NrBEuw8efI0atQIC7RxR3rUqFE4c2369On6IOXj4/PgwQN5ycOHD4/+euFMXPkKlEMEiAARIALGRkDsHxJ0Yw4kTpGxjYL0SQ8ElOxcEyPIlSsXFhgNGzZsy5Yt+/btE4qsra3btWsHlxKWUYsr6yp9/fp12GTy0jKnXvL5lEMEiAARIAJGSWDWwYMxFx+G33C5LFZP7EDCUiTJIv+cupmdEAunNBHgE1DDPIIg2ECrVq3CTn5svIfvBrNbhQsXVn3VUVxcHHMFPX78GKYPjrP19PSEKygsLGzNmjXoYs6cOfny5fPy8kpISFi2bNnx48cPHz7MHwOVEgEiQASIgNETmHXoUFimi5ks+2VItvgi1haHb8y8OsrS0oJO4RBjobRhCahnHgm6ZsqUqQTCiql/wfnEQj4OGDAAAjp06AB7C4EfQ0NDBXlYzDRw4EBYSzY2NqVKlTp69Chron6H1IIIEAEiYOwE9HSeBv6TRnwjRVfJkhaIUaRB3CNoy7mULgT9/OWzjG0EaciJiH+WbIkV2t+ZTawIZ3QgDjWnXyoiAjongM/jf1sGdC46zQRiBxv8WFFR9x0c7NOsU+qICOiQQHJylKWlE+558tQIC0OY+JzBwc91KJ9E6YQAJ8y0luGeNZasKEQ1zJSyZS0QGVIy+pEQNZvT9tUri3//lWBWqJBF3bq8cNvgoEhsdPTJvHk/xn6JzluqoLxoHLWRbJGs6BQOD9tc8k0ohwhoQyA2NqZUKUfMg7EY1DLSlHiPAgICEPhx9erVWHiEtExj8SOqHcMBP3QRASJABMyRgJ5iWwuoNDtPA4aI4hDVFtu2pZwcoujCcNq0kfYeZcpkkZSkqJ3FokUW/fpJNxRiasMsw4/UVU0q87s8oz2FgwJ5f/ee0seDEvMIJ6DB7nn//j1oIM1hgmqcUioiAkSACJg0AaWxrbV0IGkAh79nF6UKzJSUrjjD4dhGaAivkuSUHIqEmNppzyFlPPq8MMfCYnz7etSgLzt9wjYi2UrMoy9fvs0Ei9NGNAJShQgQASJABIiA3gjIBPKmbXR6I21cgtWIe2RcipM2RIAIEAEiYDoEnj17/OTJA9xNR+UUTcXRmFiIJtMaAmmrGQE1zCOKvqgZYmpFBIgAESACzZtXrV69EO6mhYICeZvW+9KhtmqYRwiQXahQoV9//XX9+vXh4eE6VIJEEQEiQASIABEwNgJi15GgGzmQjO0d6U8fJWuPxB23b98eq7OXL1+Oo9CQX7BgQUQkwpGxuLu5uYlrUpoIEAEiQASIgJhA7dpNoqOjHB25cZPEDYwgzVYdMV1YjG9agcSYmGtCDfMI8RtBAdGuT5w4gWDWp06dWpJ6YRk/zpGFkbRgwQJzxUTjIgJEgAgQAW0IjB//lzbN076t4DqiQN5pT95IelRjck3QGCd+dO7ced26dViKdP/+/WnTprm4uNy9e3fx4sVGMiRSgwgQASKgcwJCbGtJsYj3w48lLdlK+0x+iGp+KWc4iHvEuRAZEuOVvAzFQVIZ7TMRqjs8PpQTyFv7LkiCMRNQw3vEhoEwSGfOnIEPCde1a9c+ffpka2vr6+vLKlCCCBABImBAAhoHoebojHA+CHyLcEHyF0wNlB48yIs0rSiWtBDemlOK7iTjGwkNEaRRUXhrBD3ic1i/XqFkfqd8DvJ8TDQHx5jsbnhZUSBvOuTERF+r6mqrYR5hQk0wiS5fvpyUlGRtbV2pUqWxY8diWs3Hx+eHH9QQpbp+VJMIEAEioBYB/YW3hg2kKOYhbKMePRSqOXiwxYwZCksnTbIYOVJhKaeAH8Aa1o+iuNhw8/BLYQBxQkpyOHC0NcUiRPE22kDepsjTtHRWw6apWbMmlhlVrFhx+PDhMIlgG1lZWZnWaElbIkAEzJ4AJx60/sI6S7pwGGrJg89Y6f/+x5LqJfgBrOFz4oS35peCoSJDUD0VRbW7dv3p7dtXzs7Zly3bI8qmJBEwUgJqmEcYAZaq3bx5E+e/2tnZ4RQ3b29vCq9upC+W1CICRIAIGBOB27evRkaG4bhlY1KKdCECCgmoYR69efMGu9WE+bWhQ4dCJOwkf39/HFULZ1IJnAFNFxEgAkSACBABIkAETJ+AGuaRk5NT49QLo379+jXsJMFa2rMnxVOaPXv2yMhI0wdCIyACRIAIEAHdEwgOfq57oSSRCOiNgBrmkVgHbOavWrUq9qwlJCTAVHqVeokrUJoIEAEiQASIABEgAiZKQD3zCJYQAmcLW9gQ9Ahjxmokd3f3Vq1aYX7NRBGQ2kSACBABIkAEiAAREBNQwzwqVarU7du30RgmEabSmjZtCpMIF0JmiyVSmggQASJABIgAESACJk1ADfMoLCwMS48Ek8jLy8ukh03KEwEiYK4EhHjQknva9RfWGbGkORc2rhw4oLC8eHGFRfwCIYC1opEibiTGq1mpPoKAb9u26v37eBsb26ZNO/LHRaVEwBgIqGEeYWaNtvEbwzsjHYgAEeAQQMAePYV15gShrlvXAtEdJSMYwfpp3dqiQgWFIaoRgNHZWWHw6+zZeQ05ka8hls+BUwq8krGahPjgHPicopkzRwkb+8k84lCiIuMhoIZ5RLaR8bw20oQIEAEOAX2EdeYH44aZMmGCQleNv39KEGpFcaghuV8/hW05AazRkBMXGw35HBSV8kcqiOXApyIiYB4E1DCPzGPANAoiQASIgAYE+MG4tQlCzZfMCWCtcUP+8PUkduzYeR8+vM+SxYbfO5USASMhQOaRkbwIUoMIEAEiYM4E6tb92ZyHR2MzOwIZzG5ENCAiQASIABEgAkSACGhFgMwjrfBRYyJABIgAESACRMD8CNDkmvm9UxoRESACRMDoCMTFxSJmHrb42NnZG51ypBARkCNA3iM5JJRBBIgAESACuiZQq1axUqUccde1YJJHBPRCgMwjvWAloUSACBABIkAEiIDpElAyuZYhQwYVwx2hGk6oNV0QpHnaEMiY0YN19MMPPzg62nt4uP34Y6mGDWsFBtZFDitNy0T+/OWfPn3++XOEnjr98OHD1Kl/bd68OzQ0zNk5a5061SdMGJIz5zcUeuqXxOqQAD8YNz9ENT8INV8yp63GDflY9CS2QgX/t29fOzu78HunUiJgJAQsMRnMUaVatWoqmkcQcuLECY4o/RXFxMQ4OjpGRd13cKApbf1h1o1kwTxq3745xH358iU6Ovbffx/eu/cQn8OCBfOtXbvAx6eMbnqSkoLe8+TJ9ejRZZlCvZpHCQkJNWo0vXDhCgzBKlUqPH367NKla9mzZzt/fl/+/HkETZKToywtnXDPk6dGWFiEu3vO4ODnMkoa9hGhAhEOR/7CVymiC5rTxRlpZCQvgDWnoVJEGrfVuCH/lelJLL9TKiUCaUkgNjYGs73R0dEODg6S/Sr5Zf3kyZOSzSiTCGhDYOXKueLmDx8+GTlyytate2rU+OXMmT3e3iXEpaaenjRpDmyjSpXKHTy4yc7OFsOZPXvxoEHju3btf/z4DpMYHb4sa9TghXVW+vVvEsOEkpyRWlmlDCIxUWIoONpMaYhqiWaiLEUBrEVVpJMaN5QW9zVXT2K/iqe/iYAJEKC1RybwksxexQIF8m7a9Hfnzq3fv/8Ao8GcxpuYmLhgwUqM6K+/Jgu2EdL9+3cvVar4qVPBV678YxKDVRpG2SRGoYqSnJHCMJK0jSAWx75KutZU6ZHqEAEiYJwEyDwyzveSHrX688+xtrY2167dOnv2onj8z56F9e49olChijY2eV1cijVq1O78+e9mx06ePI9Zs06d+kZEvMDdw6OkrW2+cuVqrVmzhclZtWqzMK+HNUZICD8BAbJhfJctW+/tHYDmOXKU6t598Lt30UyCZolz5y5HR8fA/itTpqRYwi+/NMBjUNARcSaliQARIAJEwEgIKJlck9cyODj46NGj4eHhH/Ebk+jCEqXly5eLMihJBNQj4OjoULduwPbtQSdPnsMaHaFxcHAI7KGoqHdFihSoX7/G69dvDh8+eejQCaxSatEiUNzB27fvKldu8PFjor9/ZdSHzQRT6fHj0LFjB6FawYJ5seAJBhMssF9+aSg0LFq0oFjC0KF/zJu3zN+/EqwZWGBLl667e/ffEyd2qr78TixNSN+4cRsJGdsoNacU7jdu/E+oRnciYPYEBg/uFBX1xskp24wZKf5UuoiAkRNQwzzCxrRWrVrt2LFDCO3F1nTjy0PIIfPIyF+28avn7e0F8+jOnQeCqjExsc2adcV9zZr5bdr8ImSGhFyvW7fVb78NDAjwzZ792y6YoKDDNWv67dixEgYQal6+fL1mzaYTJ85u1Kg2dsbB3sIPzCMXF2eZlU8My7p1265fP1akSIrNBDvM17fRmTMXT5w4FxBQRagDF1SXLv1YfUUJGFhsURG2qqFarlyym9SEnNDQ54qEUD4RMDMCZ88eiYwMw7YDMxsXDcdcCahhHs2cOXP79u2dO3fu2bNnuXLl+vXr16JFi9OnT0+dOrVmzZrTpk0zV0Y0rjQjkC2bM/qC70foceXKjZgvGzCgO7ONkF+unPeoUf0GDhy3fv32fv26Md0QhGLevEmCbYTM8uW9e/bsNH36/EWLVi9dOpNV4yTGjx8i2Eao4+KSrVu39oMHjz9z5gIzjwQXFEeCUCR2SsXFxSPTxiaLTCtBz9jYlFK6iAARIAJEwNgIqGEerV+/vkSJEsuWLRPGkDVr1gqpV/369X18fAICArp1+/ZdZWzjJH1MgoDgkmSTWYcPn4LaTZrUl1FemHq7dOm6OB+eJ2bcCPktWzaGeSSzkkncRCZdu7a/OKdQofx4hH3GMgUXFHukBBEgAqoT2L//H8TywK8xqjehmkTAgATUMI8ePHjQtWtXQVd8gSUlJQlpLy+vRo0aLVq0iMwjA75I8+j6zZu3GAgCJwrDQYggJKpW/UlydK9fp1Rml6dnLpYWEnnz5kYiPDxSJl/RY65cOcRF9vZ2eMRiJnGmumlhtxp25Mk0jI9/jxx7+5R9/nQRgfRAAKuO0sMwaYxmQ0AN88jKysrGJmVVBy47O7uXL18Kadzz5Mmzd+9e9kgJIqAZAWxbQ8PixQsLzfG7JhJYSc2mzMRixXNY4nyN00p/r4UjavnyDUrlQ7GhQ3sL1Tw9U1ZaPH8uG49byJE36ZQKN0gFPYVRNshY+J1yRsqPe4SGdBEBImBOBNQwj3Lnzv3sWcpv87iKFi2KVUfCimw8Xrhwwdk5ZdUIXURAYwLYAI9daWherZqvIATuHATUHjq0V9mypZWKlV/m/PTpc7TKkcNdaVsVKzx48EQcLEBRKyzNZuZRqVJeqHbt2k2Zyteu3UAOoh/J5BvnI4IEIuyhZGgfLaNmX7nCi0PNoaFxQ8jkh4TmjBRtORD4YvmlnJFSEREgAgYhoIZ55O/vv3v3bsEkwqLsQYMGNWzYEAuPzqZeWLKtdACwqGbMmHHlypWIiIidO3c2btxYsglCdQ8YMOD27dswyEaNGtWxY0fJapRpZgQQSBpTTlhSjQDTwtCwE+3YsTO7dh1QxTy6fv32v/8+EhYMCc03b96FhK+vDwOVKVOmT58+s0d1Ex07tsCPWq18fcsjYAHCgl+/fkscDXz79n2Qg5Pm1JJmwMr6CKMME6dpU4Vj2rbNomxZ6VKNG0IcJy62KsGvwUHy4otdv96iTZt0EXZcEo6QeexYUELCB2vrLDVq/BdZg1OZioiAwQmosUoOBhDsoTD8N2Bh0bt3b6QPHDiAxObNm8uXL4/9a0oHEx8fX7p06QULFnBqPn78uEGDBtWrV79+/To2x2G106FDhzj1qcgMCDx69LRly24rVmzAJNrSpbPYiH77rZ2rq8uMGQuXLFkrTLQJRYgxgdBHt27dZTWRQIU+fUa+f5+ypgcXAlIjXDUWyXXv3l7IwT1HDrcXL15pH+yRCVSawJT07793QjVEthTWGyGNQ0UQ8QhOJlXMPqVdmG6Fr85o6RFwSjlFkMUv5cTF1ib4NV8sVPo+Tty3IWvT6TcpppAaNap7r17NcTcFZUlHImChhvfoxx9/xPprgRl+C9+zZ09ISMjDhw+x8Ag715Su20DDeqkXn/rixYvz5cuHIAKoVqxYMXimZs+eXadOHX4rKjUtAgjYCIVh0CCmEVw+d+8+gFcSjp916xaULFmMjSVrVsedO1cFBrbv0WPI5MlzvLyKOjk5wr65evUmTJzt21eUKFGUVW7QoBZiMBYqVKlq1YqYp0O8IuweGDmyHwIBsDqNGtWZP395uXK14aCytrZGqMlBg3qyUj0loAN8YIgzWaRIZex9wyTgxYtXcSTtsmWz9dQjiSUCRIAIEAEtCahhHsn3hOhHuOTztclBVG5EUWISYBjBh8QeWeJj6iU8xsTEsHxKmAQBYQXPDz/84OBgD49Ou3bNfvqpDn4yZswoo3/FimX/+efEnDlL9u8/evp0MEpx7r2fX8XGjetj6k1cOVs2p/Pn9w0bNhELmGJi4rC+u0+fX2XmwiZPHgE7bM+eg1u27IELCv6bNDCPYIcdO7Zt6tS/Nm7cuXv3QezL69ChxYQJQ2Q2yonHQmkiYH4Eevce8/59nI1NyoZQuoiA8RNQwzzCV9e4ceNGjx4tP6pJkyaNHTsW3zfyRermREZGurm5sVZIw/r58OFDlizfBdabMmXK+PHjWTVKmAqBz59l93Ap1dzd3XXq1FH4UVoTq7ARX5tTDZN3CB2JH5k6jx59d4ibUFqtWmUNtJWRLDzi04uYk/iRLKVMIpAeCLRu/Vt6GCaN0WwIqLH2CL9241I0ck6Roiba5A8fPjz668X202kjkNoSASJABIgAESACREAgoIb3iIPs1atXMt4dTmV+kbu7+4sX3+IUI+3g4CAvPHPqxRdFpUSACBABIkAEiAAR0ICAcvNozZo1TC52k4kfkf/582c4b5CJ80ZYNW0SlSpV2r9/P5Nw5MgR5LBHShABIkAEiAARIAJEQN8ElJtHCDsknIGFO+Ie4RLrJMypwbuDZUnifMl0XFwcTiYRirCBH8YWgkl6enpipgzxAgTDq3v37vPnzx8yZAjiCBw/fnzLli379qVEiKGLCCgioMNFQoq6oHx9EMidcuiLwotTyimCOH4pJy424h5pHPyaLxYqQbjk3n5tOlXIzigL/Pzyv3gR5uaW8/TpR0apIClFBL4joNw8WrlyJVrADIK9gkCOgYGBYgFYrw0TBw4eJxX+X0EgAAQ0Epoj8CMSHTp0WLVqFaJEhoaGCvnY1Q97qH///nPnzs2VKxdOwKVd/WLglCYCZkMAUR8R+1EyTBHsCUUxITF8jRuirZ4igCsVywnGrSjUpNm8aGEgSUmJuHA3s3HRcMyVgKXqS6o7derUpEmTn36SPh/UgICwtc3R0TEq6j52iRtQDeqaCGhMIDk5ytLSCfc8eWqEhUW4u+cMDn6usTRqSASMkECHDnXfvHmZLZvr6tUHjVA9Uim9EYiNjSlVyhFbvLC+WXLsyr1HrJngRmKPlCACRIAIEAEioCIBsopUBEXVjISAGhv7BY1xVlrz5s1LlSpVsGBBIefu3bvTp08XDhsxklGRGkSACBABIkAEiAAR0JiAGt4jHAHRqlWrbVgsYGGBtdgI1Sj0ilVHI0eOxBY2rLDWWA9qSASIABEgAkSACBABIyGghvcIZ59t3bq1W7duUVFRgwYNYgNAYOuqVavS/jIGhBJEgAgQASJABIiASRNQw3uELWbly5dfuHAhBixs9Wcjx0QbmUeMBiWIABEgAkRAhsDkyYOjo6McHZ1GjJghU0SPRMAICajhPULIIniJJMeQLVu2N2/eSBZRJhEgAkSACBCBvXs3btmyHHdCQQRMgoAa5hHWG2ELnOSonj59mjVrVskiyiQCRIAIEAEiQASIgGkRUGNyrUyZMocOHUpISLC2thYP8u3btwcPHvTz8xNnUpoIEAEiQASIACOwbt2xz58/ZcyoxpcOa0sJIpD2BNTwHvXp0+f58+e//PIL7kzRhw8fIlYkvEooZZmUIAJEgAgQASIgJlCgQJHChb1wF2dSmggYLQE1DHkcJzJ06NBp06blyZPH1tYWQ3J1dcWSI8TdHj16dEBAgNEOkhQjAkSACBABIkAEiIDqBNTwHkHolClTML/WsGFDGxsbnLaGSEh169Y9cODA+PHjVe+SahIBIkAEiAARIAJEwJgJqOE9EoZRK/Uy5iGRbkSACBABImBsBK5eDU5M/GhllfnHHysZm26kDxGQJ6CS9yg4OBhzZ/b29ji5DdbRpUuX5AVRDhEgAkSACBABRQR+/71Zq1bVcVdUgfKJgFERUO49unnzZo0aNbBhTdD72LFj58+fh4Xk5eVlVCMhZYgAESACRIAIEAEioBMCyr1HU6dOhW2EU9UiUy+swsZpa1igrZPuSQgRIAJEgAikBwLt2v3eo8cw3NPDYGmMZkDAEvvO+MPw9PTMmzfv6dOnWTV/f/8nT54gFCTLMWwiJibG0dExKuq+g4O9YTWh3omAZgSSk6MsLZ1wz5OnRlhYhLt7zuDgb+EzNJNJrYgAESACREARgdjYmFKlHBGWCKuGJOso9x69ePGiYsWK4sYVKlRApjiH0kSACBABIkAEiAARMBsCys2jpKQkOzs78YAR9AiZ4hxKEwEiQASIABEgAkTAbAgoN4/MZqg0ECJABIgAESACRIAIqEJA+c41SFm3bt2FCxeYuAcPHiBdv359loOEpaXlvn37xDmUJgJEgAgQASIgEPjpp3KvXkVmz+6+Z08IMSECxk9AJfMI9pBgEonHg2NoxY8wj8SPlCYCRIAIEAEiwAjANoqMDGOPlCACRk5AuXn0+PFjIx8DqUcEiAARIAJGTgB+I2go3I1cVVKPCICAcvMIB9ASKSJABIgAESAC2hCgOTVt6FHbtCdAS7PTnjn1SASIABEgAkSACBg1ATKPjPr1kHJEgAgQASJABIhA2hMg8yjtmVOPRIAIEAEiQASIgFETUL72yKjVJ+WIABEgAkTAFAgsXDglLi7m/+2dCXxM9xbHE2ShkRCxhFhCbLGERO2lJfYqXT21t6g+1FrFa23V0kdbu1hqq1JL1V61FVUpSiny7Pu+RdJYEsT7yZ/b687MzeQmM5l7728+703/9/zX870jc+b8z/9cHx/ff/97kB7WyzWanQDNI7N/Aqg/CZAACTiBwLffTsbBfjxPkOaRE2hzivQT4OZa+hlyBBIgARIgARIgAUMRoPfIULfTGMo8evQwLm5nUtIVT8/8fn7V3N2zGkMvakECZiYwefKSpKRET08vM0Og7joiQPNIRzfLFEu9fn3N8eOfJCVdEtp6egaGhHwaENDMFMpTSRIwLoHw8BrGVY6aGZAAN9cMeFP1qxJso5iYLpJtBEWSki5DArl+leLKSYAESIAEdEeA5pHubplhF4w9NfiN3NwePavh48sTJ4ag9lk5r0iABAxCoEWLqvPmTYYy/ft3DA52x/9KlMgaFpYbT7EdPfqjixfPZYieS5fOWbFigXyof/3rxXfffVkuSWt5//7dAwa88+KLIWXL5njppZL//e+gO3duS4O0bdtg0qTPpEsW9EWA5pG+7peRV5sSb/RkT+1ZPR8lJl5E7bNCXpEACeiJwIkTR44ePYR3xaJ//vnHCxdOv/XWO0JepEjxZcuilyzZPmHCwgYNWq5Y8V3jxuW3b9+o6KXhEubRypXPmEcaBlF0Wb160alTx7p2HTB79tpOnXovXDi9c+fmUpvu3QfPmDE2Li5WkrCgIwKMPdLRzTL4UhGLraKheq1KR1aRAAm4AoG2beuLg/3R0efl65k1a1zz5q29vbMLIQqVK1cX5bp1G7dr9+9Wrer07Nlq27ZTOXP6yju6Qrlbt4/y5MkrVlK9+ot+frl7925z4MCeChUiIKxR4yVIfvhh7jvv9HaF1XINaSJA71GacLGxAwngnJrK6Oq1Kh1ZRQIk4LIEzp07tXv3r02avGFrhbly+Q8c+N9bt26uWvW9aPPo0aPp08e+9FKp0qW96tQp/s03X0t9x40bVq6cDza8sFtXurR3ZGTZTZtWi1rso+3cuXXz5jVi8w4tpV5r1y6tV680Or79dr0zZ05IcnsKkm0kGpcrVxmFK1cuSn2bNn0T5pF0yYKOCNB7pKObZfCl4gw/zqkhFtsi/MjdyysQtQbXn+qRgKEJwEWEbSZ4U+Ra/vbbpmzZsoWFVZULFeWaNeuhzZ9/Rr/9dldUDR/ea9Gimd27/6dSpWp79+744ouP4HBq06ab6PXgwX24mjp37le4cPD8+VO7dXt11aq9ZcpU+PTTKX36tM2ePcfgwWPRskCBINE+JmbfjRtjPvpo9MOHDz/7rC/aYGtPVEECU0yUFe9ZUl4KIS53796O9xIlykhV4eE1p037740b1xSGlNSABZclQPPIZW+N6RaG/EY4w49zam5u7jILCWX8uRnB7Eem+0BQYWMRGDx4jKVCf/21Ozi4lJeXWjIkLy/v3LkDrl3DDyc3eHfmzZs0cmSUMJVq1468e/fO+PHDW7fuCosFDZKSknr0+FhEMtWp0wjh0lOmfI4wppIlQ/E8k+ee85F27sRi4uNvrV79p7Bd7txJ+PDDTpcunQ8MfGw81a1b4sKFM6KZ4v311zuMHTtHIbx58/r48cMaNGgRHFxSqgoNDUN5//5d9eoxO4lERR8Fmkf6uE8mWSXyG4WGzpDnPYLfCLYR8x6Z5ANANc1G4OrVS/7+T2J3VHSHF8fd/fEvpd9+exyj3aTJ6w8ePBDta9WKjIr6AqfbgoKKCkmjRq+KQtasWRs2bLl+/XJxafU9NLSS5NcJCQlFm8uXn5hHM2euQh5Lq738/QMU8vv373/wwb8gHDlyqrwKhh0uoaZcyLIuCNA80sVtMtEiYQnlydNYJWs2c2qb6NNAVY1OIDHxXqp5tNHm1q0befMWAAx4aGAqhYcrrZNLl56YRx4eHvL9u4CA/Oqmia9vLomxp6cnyphOSOBwUtlck3qhgGY43g8X0aJFv+bLFyivEtrdu3dXLmRZFwQywTyaPHnymDFjLl++HBYWNnHixKpVlbvOc+bM6dSpk4QPftd79558XiUhCwYmgH20XLlqWlWQObWtYqGQBHRKAJHX58+fVl884pPgK0IQD5qhPdxIOPbv4fHYlJFexYuXFmV4ceQRTtevX1HYK1KXVAv2b6599ln/tWsXz5q1VmylyUfG5h0uc+fOIxeyrAsCzjaPFi1a1Ldv36ioqGrVqo0bN65Ro0ZHjhzJly+fApavry/kQih8qooGvDQhAZFTWxaW9CSnNvbjuPtmws8DVdYXgQ4dGt+4cTVPnnxz566TVg6zJjr6F+nSsgBbB8HX2Mxq3vxfqK1Zsz7eY2NvREb+k15I0QuJlETsEWKrsbOGCG7RABaV5BlSdLF6aefm2tSpo2fN+nrcuO9q1Xq8NsVLGH+S9aao5aUrE3C2efTVV1916dJFOIdgJK1Zs2bWrFkDBw5UMIJJVKBAAYWQl2YmYDuntjtyamM/jrHbZv54UHfXJ3D06EGR90i+1IiIWhMmjJCioVGFfag///wdhfj4uAMH/liwICohIX7atOWIqoawePFS7dp179u3XdeuH8LuwTm1U6eOwsCaPv1JgBE2yCZNGgkzCCfXvv12Cjbd0FfMGBJSFmfsN25cBX9S/vwF8T8ht/WO8262qiQ50nAjU3bLlm0xnVg2qooUKSHFM0EFrBwRTlIXFvRCwKnmEc4U7NmzZ9CgQYIODhpERkZGRz85RSlHlpCQULRo0eTk5PDw8M8//7xcuXLyWpQTU15CGB8fr6jlpfEIpJpT29Z+nPFQUCMS0CMBOG/wUmyKIZUiNp62bPmpdWscWX38Onv25Guv1cAvZBw0QwbtV155u337HgULFha1eB82bAKcMQsXTps4cUSOHD4oI7eQVJstm8f48QuHDu1+5MiBoKDgKVN+KFu2oqh9770BZ84c79evPTa8evUa2rv3MKmX5sKvv65H3+XL5+N/0iBjxsx+442O4hKqNWz4KoLEpVoW9ELA3VbomSMUuHjxYqFChXbs2FGjRg0x/oABA7Zu3bpz5zPPi4DBdOzYsYoVK8bFxY0dO3bbtm2HDh0KCnqSpkJ0HDZs2PDhw+WLjI096uubUy5h2UgErl798fDhf9vSqEyZKfnyPTmuYquNK8sfPYp1d8+N96JF61+4cKlAgUKKzMKuvHiujQTSQ2DkyH4xMX8uWLA5PYOIvkj2iId4HDqUkP6hMmQE7AxWrVpg3rwN1arVyZABOUgGEvj77/iKFf1gZiCYx+qwrpg1G8ZT+/btK1WqVLdu3WXLluXNm3fatGmK1cMFBa3E69y5c4paXhqPgHrWbPVa49GgRiRgGAJdu/bft29nTMx+w2gkKTJ37kTsHtI2koDoq+DUzbWAgAD4GK9c+efRWiirxxjhlGblypWPHz+uwIrjbHgphLw0MAHm1DbwzaVqZiaASKAxY+bcvHnNeBD8/PyHDp1gPL1MopFTvUfYeI6IiNi0aZOAi9AilKWNNqvEcfTgwIEDgYGBVmspNA8BRF4jp3aKvo+zwz19PS4zp/ZTGvwvCeiSQLNmbyL/dfqXjnAi19lZgzodOvQoXbp8+vXiCJlCwKneI2iIU/0dOnSoUqUK0h3hYP/t27fFKTbspiEsadSoUWgzYsSI6tWrh4SE3Lp1CxmSzpw507lz50yhw0ldigBzarvU7eBiSCBNBBYsmI6ndiCYWjwPJE192ZgEnE/A2eZRq1atrl27NmTIEKSFRHTRunXr8ufPD7XPnj0rnpiDcmxsLA7/o0Hu3LnhbUIod2jo41zvfLkaAc0JrB8+vHvy5Ii7d09lzx5cvPiQrFmzy1VTGRYWkr9/g4sX59y7d9rbu1jBgh2zZHkmO5x8HEVZZVhFS16SAAlkOAEcNBMH+2keZThbDugIAk49ueYIBTAmDvb7+fnx5JqD8NoaVnMC60OHOt648bN82Dx5GpUrN0dI1IdVr5WPqShr7qgYx0GXPLnmILAc1nUI1KgRJMwjnsp0nZti5pXo8uSamW+YXnSHtRET0yUp6ZK04KSky5BALkmsFixtIzSDtQQ5CurDqtdanU4INXdUGZNVJEACaSIwcmTUpEmL8Z6mXmxMAplFwNmba5mlJ+fNQALYpTp+/BP5wz1SBn/k5pZKAmvsqSn8RtKqIH/wIEFlWOypqdSqZM3WvFppbSyQAAmkn0D9+i+nfxCOQAJOI+DUk2tO04oTOZRAqgmsbc2OeCNbVZAfPtxD7o6StXyUmIiUonNUarEkWftnippX+8wovCABEiABEjATAZpHZrrbGaRrUtI/massh1SpRSy2ZXtJcu/eWalsWUAstqVQkqhMqlKF7uq10vgskAAJkAAJmIoAzSNT3e6MUVY9RbVKLc6pqazA27uIam0xlVqVSVWqMKB6rcqMrCIBEkgTgdjYGzduXMN7mnqxMQlkFgGaR5lFXsfzigTWiDSy0MHdy6sgai3kTwQ4w2+rCvIyZSZ5eiL/p/VhcYZfpVZlUs2rVVkqq0iABNJKoGnTsCpV8uE9rR3ZngQyhQDNo0zBru9JNSewRn4jnOG3qjzk2bL5qOTFRn4jlVosyeqwEGpera0BKScBEiABEjA8AZpHhr/FDlFQJLD29Cwgje7lFRgaOgNySWK1gPxGlhaSlPdIfVj1WqvTCaHmjipjsooESCBNBGrXblC/fnO8p6kXG5NAZhFgWsjMIm+EedWTX6vU4gw/zqkhFhvxRthTg99IjkM9vXVycpLxsmYzLaT8A8AyCZAACTiaQKppIWkeOfoWGHZ8nNI/f36am1vyUw2zBAW9J0UXWaZ/lFxESNKIDEbSKX1EFGHXLFW3k5glPX2frtMV/0vzyBXvCtdEAiRgXAKpmkfcXDPuzXekZim20VSZbYTJks+fnyoyG1naRqgWqbHTk8A6PX0dCYNjkwAJkAAJGI0AzSOj3VEn6IPtrRS/kZWpIL9/P04lNfaxYx9bS7ftduLEEOypWRnxqch28uvU+z4dg/8lARIgARIgAbsI0DyyCxMbyQkg9OdZv5G8MvngwXbya0X5/v3LCknK5eO82CqZr9GGya+tcaOMBHRDoHfvNu3bN8K7blbMhZqbAJ+5Zu77r0l79QTWiYkXNI2aSgJr9fTW6rXa1sNeJEACGUhg586tly9fKFCgUAaOyaFIwHEE6D1yHFvDjuztXUxFNy8vjX/+1BNYp6dWZbWsIgESIAESIAFLAjSPLJlQkgoBJLB2c7P1yclSvvy3Kv09PJAqyXpebJXM1xiQya9VqLKKBFyfwIYN//vrrzi8u/5SuUISAAFbX3KEQwI2CSCBNc7wW62G3MPDzzLxo2gMecmSI1PKcgvpcblEiREqma/RgMmvBUO+k4BOCfj45MyZ0xfvOl0/l202AjSPzHbHM0Zf5DcKCnr/WfMaeY/eF3mPVFJjpyeBdXr6ZozaHIUESIAESMAcBBiabYr7rJ6HWgWBSorqFAupx/79ryEsGoFBYWHLPD39paFgId2+fWrPnnpubvfc3LwjIjY/91ywqIWV4+MTsXdvwwcP4rJl8wsLW+Pt/c/DSdAGqQFw/A0h3ghjwlYd3FHSsOjr79/AeFmzJQVZIAESIAEScAUCzJrtCnfBsWvQnGlaPS/23r1NEhL2yZfu41MpPPwnIdm+vXhy8l15bZYs2WvXPgnJb7+VfvgwXl6VNatvrVpHhGTXrhqKk3GIBK9aNVrUatZFc0f5Oh1XZtZsx7HlyC5CYN26ZXfv3smePUfjxq+5yJK4DDMTSDVrNs0jg388RKbpZzMxPo71SfXxsU/zYiv5iB00S9tItBMWkqVtJGphIbm7eyhsI1ElLCRL20jUCgtJsy6aO4rZnfBO88gJkDlF5hKoUSNIHOyPjj6fuSvh7CQAAqmaR4w9MvLnRHOmafW82ElJNxV+Iwki5AkJxxV+I6kWcqu2ERpAjo4Kv5HUEXJMiie1PWvnof4R/q+ecVszBGl2FkiABEiABMxGgLFHRr7jqWaazpWrplX91fNiI97Iai8h3LsX8UZaXuodU4KcLlkb90nGbVu6aIZgbS7KSIAENBLo12/knTu3c+R4TmN/diMB5xKgeeRc3s6dTT2XtEqtLS+OWL5Kx5QG97VqqdZRfVKVWpUqrFO9Vqsi7EcCJKAk8MYbHZUiXpOACxPg5poL35x0L01zpmn1vNjqw7q5eWhduFpH9UlValWqsE71Wq2KsB8JkAAJkIC+CdA80vf9U1+95kzT6nmxcYZfZd7w8M0qtSpV6h1TEgcEasi4rRmCylJZRQIkQAIkYGwCNI+MfH81Z5pWz4uN/EY4oWYVHOQ+PiE4oWa1FnKcULNaBTk62vJaQY5JQ0I+TembtozbmiFYXSeFJEACJEACZiBA88jgd1lzpmn1vNjIb2RpIYlT/QCK/EaWFhIkkCO/kaWFJE71oyPyG1laSJCIvEeaddHc0eAfDqpHAk4kgIP9wcHueHfinJyKBLQTYN4j7ex01NMRWbOh/oMHCYcP97h376y3d5EyZSZly+YjZ3Lv3mUpNXZ4+Hp5auzExGt//tns/v0bHh55Klde4+WVV95RJWs2mmnWRXNH+docVGbeIweB5bCuQ4B5j1znXnAlIJBq3iOeXDPF5wQbTLbOvasbDSm7bF1tMYI9VL78HFu12A4rUgTG02mxNSZvhueEBAV1FlXyZ4aINpBUrrxS3l5eVtFF3syyrLmj5VCUkAAJpJVAuXLhgYGF/f2f+S2U1kHYngScRoDmkdNQu+JEjnvUhuKBJCdPDg8Kek88sFalyhUZcU0kQAIZQWDmTJu/eTJieI5BAhlMgOZRBgPV0XCWj9pISrocE9Ml1eeNpKqjtQeSJJ8/P1V0lApPx3lSJYynp0L+lwRIgARIgAQyjQBDszMNfeZOjD01bc/oSHXZ6g8kOX8+yuoI589PQ0erVRSSAAmQAAmQgJMJ0DxyMnBXmS7VR21oXqj6A0ksHpomzZOc0lG6ZIEESIAESIAEMo0AN9cyDX3mTqz+MA31WvWVqz+QRKWv5o4qY7KKBEjARQgMHdozLi7Wzy/38OETXWRJXAYJqBCg90gFjpGr1B+moV6rzsUycZF6e6lWc0dpBBZIgARclsD69T+uWPEd3l12hVwYCcgJ0DyS0zBR2XGP2lB/IIm1p4II7FlSOproFlBVEiABEiABlyXAzTWXvTWOXZh41AbOqaXYK4+eTvb4eR0lSoxA7VNJmv8rHkhicTzt8Tg42493W1XomObJ2IEESEAnBBYv/vXhw4dZs2r/26ITRblMgxCgeWSQG6lBDfGoDZxfS0q6JLp7eQXCNoJcw2jyLuKIPg6jubklP5VnkfIeQaJS9bQ9/0sCJGAoAoULBxtKHypjdAKZ8FCRyZMnjxkz5vLly2FhYRMnTqxataol5CVLlnzyySenT58uWbLkF1980bRpU8s2kiQ+Pt7Pzy829qivb05JyIKdBNSzZts5iNVmOKiPw2giNTY2zuTOIZUqq0MZXsiHihj+FlNBEiABlyLgcg8VWbRoUd++faOioqpVqzZu3LhGjRodOXIkX758cmo7duxo3br1qFGjXn755QULFrRs2XLv3r3ly5eXt2E5owg47lEbKg8kUanKKL04DgmQAAmQAAloJuBs7xGsoueff37SpElYcXJycuHChXv27Dlw4EC5Aq1atbp9+/bq1auFsHr16pUqVYJFJW8jL9N7JKfBsh4J0Hukx7vGNaeJwO+/b0lMTPTy8qpe/cU0dWRjEnAEgVS9R049uZaUlLRnz57IyEihapYsWVCOjo5WaA6J1AZV8DBZtlF04SUJkAAJkIArE+jTp23Hjo3x7sqL5NpIQCLg1NDs69ev4+RC/vz5pelRPnz4sHQpCghLUrSBRNEGv0LwEsK4uDgU4uMTFG14SQJ6IfDoUYK7eza8w6WKNeMdv2z0sniukwTsIcDPtj2U2MZpBBISHv+NffRIOritnNmp5pFy8nRcIzJp+PDh8gGKFg2XX7JMAvolcPXqpYoV/fS7fq6cBGwR4GfbFhnKM4XA33//jaNdVqd2qnkUEBCApBdXrlyRloJygQIFpEtRgCTVNoMGDUKIt2h/69atokWLnj171paSivHNeYkILUR6nTt3ztfX15wEUtWaiFJFhAaklColIkoVET9IRGQPAXvaaP7nBr8RbKOCBQvamsWp5pGnp2dERMSmTZtwGA0Lgq8V5R49eigWV6NGDch79+4t5Bs2bIBE0QbxfXjJhbCN+MUvB2K1DESkZJWMJCQiCYVKgZRU4IgqIkoVERqQUqqUiChVRJo/SOouFaeaR9ABLp8OHTpUqVIF6Y5wsB8n1Dp16gR5+/btCxUqhC0zlHv16lW3bt0vv/yyWbNm33///R9//DF9+nTI+SIBEiABEiABEiABJxBwtnmEQ/vXrl0bMmQIoq1xXH/dunUiChtbYzjIJhSuWbMm0h19/PHHgwcPRlrI5cuXM+mREz4KnIIESIAESIAESEAQcLZ5hFmxm2a5obZlyxb5LXkz5SWXqJSxyzZ06FDFXptKe3NWkVKq952IUkWEBqSUKiUiShURP0hEZA8Be9o47p+bs9NC2qMt25AACZAACZAACZBAJhJwalrITNSTU5MACZAACZAACZCAnQRoHtkJis1IgARIgARIgATMQoDmkVnuNPUkARIgARIgARKwk4ARzKPJkycXK1bM29sbz7vdtWuXnZqbp9m2bduaN2+O5Ffu7u44Bmgexe3XFBkl8KTknDlz5suXD0m5jhw5Yn9fk7ScOnVqxYoVRQoW5CH76aefTKK4NjVHjx6Nf25S8jZtgxiy17Bhw0BGepUpU8aQaqZfqQsXLrRt2zZPnjzZs2evUKECEtykf0wjjYAvfelTJArdu3fPWAV1bx4tWrQIuZRwcm3v3r1hYWF4fu3Vq1czlpHeR0NyKZCBEal3RRy3/q1bt+Kf1u+//44cpPfv32/YsCGgOW46PY4cFBSEr3w8Uhp/puvVq9eiRYtDhw7pUREnrHn37t3Tpk2DNemEufQ4Rbly5S49fW3fvl2PKjh6zbGxsbVq1fLw8MDvkJiYGGQBzJ07t6Mn1df4+Ff29EN0CX+3sXicd89gFZBXW9cvpJfEF5tQAc+7hY8EngBda+S4xeOj8+OPPzpufGOMLMxrGEzGUMdBWuCP9cyZMx00uK6HxWMKkK0Nf6+R2xYZbnWtiyMWj5+y+LXmiJGNNOZHH31Uu3ZtI2nkUF3wD61EiRJ4DkfGzqJv71FSUhJ+zkZGRgqbEYklUY6Ojs5gE5LDmYlAXFwc1PX39zeT0mnQFT9CkMse3jXLR/2kYRTjNsWvNaT7l/4oGVdR7ZodO3YMv2OLFy/epovkoBsAAA7vSURBVE0bJATWPpBxe65cuRLPloA7BNv9lStXnjFjhnF1Ta9mMAPmz5//zjvvYIstvWM921/f5tH169fxx1rk3RZ6oYx83M/qyCsSsJcAfn8gXgRubSZqt0R24MABHx8fJGHr1q0b3JChoaGWbUwugeGIXX7xcCSTo7ClPiJE58yZg+clIJrt1KlTL7zwAvxtthqbVn7y5EnwgRvy559/fv/99z/44IO5c+ealoa64gioxWPpO3bsqN5MQ20mZM3WsEp2IQHnEMBP/4MHDzIewirt0qVL79u3D961pUuX4smJ2H+khSQHde7cOTj5sa2GYyJyOctyAk2aNBGXiM2CqVS0aNHFixe/++678jYs43cavEeff/45UMB7hD9KUVFR+EdHMpYEvvnmG3yo4I+0rEqnRN/eo4CAgKxZs165ckWigHKBAgWkSxZIwH4CeNbN6tWrf/nlF4Qh29/LPC09PT1DQkIiIiLgHUH4yPjx482juz2aYqMfgWvh4eHZUl4wHydMmIAiPNz2dDdhm1y5cpUqVer48eMm1F1d5cDAQPlvj7Jly3IX0iqxM2fObNy4sXPnzlZr0ynUt3mEv9f4Y71p0yZBARY3ygyJSOdnwoTdEdAH2wgbRps3bw4ODjYhgbSqjH9riYmJae1l7Pb169fH/iMcbOKFX/+IrUEZP+GMrbhm7RISEk6cOAFTQPMIRu2I/X15epGjR4/CzWZUZdOj1+zZsxGehWi/9Axiq6/uN9dwqh8uR/wlwhG2cePGIWK0U6dOtrQ1pxx/g6TfZ9jsx99rxB0XKVLEnDSsao09tQULFqxYsQKpj0Tsmp+fH9KNWG1sTuGgQYPgwcbHBpEiYIVnSCMqwpwobGmND488ZO25555D0hq5xFZHU8n79++PNGz4sr948SJOscF2bN26takI2KNsnz59atasic21t956C8n8pqe87Oloqjb4kQbzCAYAfLQOUTxjD8JlymgTJ07EX214kmAhIXVNpqzBlSfFbpHio4PPkysv2PlrU/DBJf7VOX8ZrjwjDobgKw3/yvLmzQs3yfr16115ta6wNh7st3oXWrVqBXcRPkiFChVCGb/crDajcNWqVbCtcRICmTNhHRGIJQHxCw1uNsuqDJG4YxTL7wZKSIAESIAESIAESMC0BPQde2Ta20bFSYAESIAESIAEHEeA5pHj2HJkEiABEiABEiABXRKgeaTL28ZFkwAJkAAJkAAJOI4AzSPHseXIJEACJEACJEACuiRA80iXt42LJgESIAESIAEScBwBmkeOY8uRSYAESIAESIAEdEmA5pEubxsXTQIkQAIkQAIk4DgCNI8cx5YjkwAJkAAJkAAJ6JIAzSNd3jYumgT0SODFF190d3dXXzkaoJl6GyfXzpkzB6vCu7Z58bAjJIk+ffq0tu7292rbti0ym9+7d8/+LmxJAiRgiwDNI1tkKCcBoxHANzS+5qUXvrMLFy789ttv//XXX/armk5bwf6JMqUl4GSscRYbG/vpp5/ikSzFihVztEZDhgy5cOECrDFHT8TxScAMBBzzIDczkKOOJKBPAiVKlICbAWvHs4rxjMKFCxcuW7Zs06ZNeEi4PhVy6VV//fXXN2/e/PDDD52wylKlSrVo0WL06NE9e/bEA3GdMCOnIAEDE6D3yMA3l6qRgBUCISEhw1JeY8eO3b59+3/+85/ExES8W2lKUfoIPHjwYObMmbA7YZKmbyR7e8PwjYuL+/777+3twHYkQAI2CNA8sgGGYhIwBwF4GqDo7t27JXVXrFhRv3793Llze3t745nhsKIePnwoajt27NipUyeU8S5t0omqPXv29OjRA+39/PyyZ89eoUIFuDHu378vDau5kJSU9NVXX4WHh8MjkjNnzhdeeGHlypXy0bAqLObUqVMTJkzA483xkHOE4AwfPjw5OVne7M6dOwMGDMB+otBrxowZW7ZsQUfYimgmyihs3bpVUk0Rb7R+/fqaNWvmyJEjT548HTp0uHHjhnx8y/K6desuXbr05ptvWlYBcsOGDTEOFoN9t3bt2h08eFA0E+qcPHkS5OEQAszQ0FBh8QAFDFm0R6+KFSv+9NNPipGbNWuG5SmWrWjDSxIgAXsIcHPNHkpsQwIGJwCDQGg4aNAgmDWFChV67bXXYOj8+uuv2BjauXPnkiVL0KBly5a3bt3CVzs2cSpVqiSHAmtj1apVderUadq0KQwRWBsYClbXDz/8IG+W1jI8W40bN8ZomO7dd9+FvbVmzRrMPnHiRFhj8tGwTlg2L7/8cqNGjZYvXw6jB8bEZ599JtrAwkPVL7/8ArsN4VbY8OrXr588zAg2x9ChQ2FUwbSCgSJ6yXWETYapmzdvDgtp27Zt8+bNO3HiBNxv8jUoytiyhKR69eoKOaaGwefv7w+e+fLlO3fu3MaNGyMiImBcSi379u0L7Jgua9assI2wZhis0DomJgY2EOKvFyxYAA7/+9//5K4pxJNhnOjo6Nu3b3N/TYLJAgloIfCILxIgAXMQgH8FfyNgPcjVRTwvhC+99BKE8I6IBghLEm3ggOnWrRuES5cuFZLZs2fjEu/iUno/c+YM9pKkS3REPDJawoCQhHXr1oVEurRaQAM0k6oGDx4MySeffIIBhTA+Pr5KlSqwAxCGLCRw5KBNcHDwxYsXheTatWu5cuWCqwnWlZBgkwttmjRpIi3y0KFD8MFACKtItME7LuWzC7lQOVu2bJIuGESYVjBEpL6Wheeffz5LliwwZeRVMCIxC6y069evS3KYfZcvXxaXQh34ja5evSoksJPQBRrVrl1bujWLFi2CEM4/aRBR6NOnD+SbN29WyHlJAiSQJgLcXMNfEr5IwEQEjh8/LmKP4G6Bs2fEiBGwEoSXZdKkSQAxffp0yfEArxKcSXhHBLc6oyJFisDPIbVBl+7du+MSfhFJmNYCTKKpU6fCOwKnDgYU3WH0wKSDZwgR5fIBYUIFBgYKSUBAADwrf//995EjR4Rk/vz5KEBNaZHYsWrfvr18BPUy/DdS9DoGEUaMfFPSsvv58+dh02CzT141ZcoUXI4fPx47a5Ictlf+/PmlSxSwiZY3b14hqVq1avHixeG3w/qlW/P66697eHjs379f3gtlMQ6mVsh5SQIkkCYC3FxLEy42JgHdE8CWEKwNqIEvV3yV4lt/4MCBcGZAgoNs+PadNWuWQkmEvxw+fFghVFzCXoF1hW0gtBQeDtEAHh1FS/svYdzgYHzBggXFgqWOcA6hrFgSNpWkBigEBQXhHSaFEMKMgGqVK1eWt4G5A1tQLlEpq49vtSOCk8Qy5LW7du2CwSQcaXK5oizf10MVLD9EI8mFMNGwMWeJF3t2aA/XlGJAXpIACaSJAM2jNOFiYxLQPQFsriFk2KoaiMjBtpHCFhEtEctitYskfOONN7BthC2hVq1a4WsbthdME/hIsL0ltUlrAetBF+yC4WXZV7EkX19feRv4Y3ApBZVjSw5B2fIGKCscNopaxaX6+IrG4hJmpWWSRpwsQ2gXNt2sdpGEVqezFFoGv9+9exeDIEBbGooFEiABDQRoHmmAxi4kYEwC+PbFHpYGxwP2mGAbwfBC8LK0ewVfFMyj9JAS1gB2kRD5lJ5x0BdDCZ+TfJwrV67ILzO8jN0xy00ubLchzAj7hqlaSNrWI2xKaWNO2yDsRQIkkMovGAIiARIwD4Fq1aphP+jYsWMqKgvrR/LKiJbYsEMBJ6ok2wiXOPWmMo49VWXLloVZ88cff1j6SOzpLm8TFhYGb9O+ffvkwh07dsgvUYbJolBN0SBNl9iyhPfo7Nmz8l4IJIJHDYfs5MIMLItwK7FbmoHDcigSMBsBmkdmu+PUlwRsEvjggw9QhxNniow+8HbgALnoJkJbcBZdPgoOw+NSfsod22GjRo2St9FQxgbZ+++/jzNx/fv3V1hIyBKEg132j9mmTRs0/vjjj+G2Eb0QujR37lzFCNDO0t+jaGP/pQgwEufOpF4iYr1Xr17CzSPk2NPMKFcWpkOgUsmSJaUZWSABEtBAgJtrGqCxCwkYkwAyDOH8F54RhszaKMPogZ2Ek27wA40cORK+HKhdo0YNhNTgwV4ImhY7OLA54BHBa/HixciCiDQ/8JcgSxCcSenfFEMg1N69e5HvEdt2OGeHqCac5z9w4ABCrXGoHpd23gnksfz2228xCKKzcbwfpgmiyBs0aIA9QfkmV7169aAF0hGhGTxhr7zyCrIv2jmFZTOcnkP6og0bNsgzQyIvFKw9pHyEBfPqq68KjZAhCcLevXtbDpImCdx4SN8AmzJNvdiYBEjAkgDNI0smlJCAeQngnD+sEJgj+MJGbDUOnyOfEBIBCO8LuMC/AqMHEuSBFFHAMI9gSaxevRon4BD0jTgkfPHj6x9WSPrNIxzyQm7ob775BmkYkWES21KIp8aZfGRjStP+EVa4du1apDhChgLYdkgW8OWXX0IXmEciwkncchEshaRBkMPPhHNn6TGPkGoS8ViAgHSO8uP9Y8aMgZWJg36owu4bnD0wy2Crpf9jJ/IXvPfee+kfiiOQgMkJuCNLkskRUH0SIAFzEoBhh0xCMJtgyTmIAKzMyMhIWC2SfemgiTAsduhgmMKchXnnuFk4MgmYhADNI5PcaKpJAmYngI0/KW8kWODpHNgHhFcJqYOwXeg4OrC9Tp8+jWAs+S6eI6aDj61Lly6IZMfz6RwxPsckAVMR4OaaqW43lSUB8xJARA7MFMRI4eFliNHB9hnCvWFSONQ2Am5s2OH5aAiZsky8lLE3A0kZsONJ2yhjqXI00xKg98i0t56Kk4C5CHz33XdRUVE4gofEjD4+PnggGh4Ni9ggc1GgtiRAAvYRoHlkHye2IgESIAESIAESMA0B5j0yza2moiRAAiRAAiRAAvYRoHlkHye2IgESIAESIAESMA0BmkemudVUlARIgARIgARIwD4CNI/s48RWJEACJEACJEACpiFA88g0t5qKkgAJkAAJkAAJ2EeA5pF9nNiKBEiABEiABEjANARoHpnmVlNREiABEiABEiAB+wjQPLKPE1uRAAmQAAmQAAmYhgDNI9PcaipKAiRAAiRAAiRgH4H/A2MKGjwCOsYxAAAAAElFTkSuQmCC)"
      ],
      "metadata": {
        "id": "9ibEe8qymVfS"
      }
    },
    {
      "cell_type": "markdown",
      "metadata": {
        "id": "32nmAbuVYLPD"
      },
      "source": [
        "트리 구조는 `tree_` 속성을 통해 액세스할 수 있습니다:"
      ]
    },
    {
      "cell_type": "code",
      "execution_count": null,
      "metadata": {
        "colab": {
          "base_uri": "https://localhost:8080/"
        },
        "id": "CbI62HRbYLPD",
        "outputId": "d9fe94f6-2359-4625-dc59-b6ebb9dffd75"
      },
      "outputs": [
        {
          "output_type": "execute_result",
          "data": {
            "text/plain": [
              "<sklearn.tree._tree.Tree at 0x7f5ff89ce250>"
            ]
          },
          "metadata": {},
          "execution_count": 71
        }
      ],
      "source": [
        "tree_clf.tree_"
      ]
    },
    {
      "cell_type": "markdown",
      "metadata": {
        "id": "sup7Vyv_YLPD"
      },
      "source": [
        "자세한 내용은 이 클래스의 문서를 확인하세요:"
      ]
    },
    {
      "cell_type": "code",
      "execution_count": null,
      "metadata": {
        "tags": [],
        "id": "NWV6ypsjYLPD"
      },
      "outputs": [],
      "source": [
        "# help(sklearn.tree._tree.Tree)"
      ]
    },
    {
      "cell_type": "markdown",
      "metadata": {
        "id": "Jj7lcrOwYLPD"
      },
      "source": [
        "예시로 아래의 추가 자료 섹션을 참조하세요."
      ]
    },
    {
      "cell_type": "markdown",
      "metadata": {
        "id": "7mjUgFXQYLPD"
      },
      "source": [
        "# 클래스 확률 추정"
      ]
    },
    {
      "cell_type": "code",
      "execution_count": null,
      "metadata": {
        "colab": {
          "base_uri": "https://localhost:8080/"
        },
        "id": "AJL5d2rOYLPD",
        "outputId": "9df4a30e-9fcd-4f85-de80-0f8c6377356e"
      },
      "outputs": [
        {
          "output_type": "execute_result",
          "data": {
            "text/plain": [
              "array([[0.   , 0.907, 0.093]])"
            ]
          },
          "metadata": {},
          "execution_count": 73
        }
      ],
      "source": [
        "tree_clf.predict_proba([[5, 1.5]]).round(3)"
      ]
    },
    {
      "cell_type": "code",
      "execution_count": null,
      "metadata": {
        "colab": {
          "base_uri": "https://localhost:8080/"
        },
        "id": "2SxRgTFOYLPD",
        "outputId": "a90bf5bf-b779-4fb7-afe4-dfa95c27f9a4"
      },
      "outputs": [
        {
          "output_type": "execute_result",
          "data": {
            "text/plain": [
              "array([1])"
            ]
          },
          "metadata": {},
          "execution_count": 74
        }
      ],
      "source": [
        "tree_clf.predict([[5, 1.5]])"
      ]
    },
    {
      "cell_type": "markdown",
      "metadata": {
        "id": "FLP2GTqXYLPD"
      },
      "source": [
        "# 규제 매개변수"
      ]
    },
    {
      "cell_type": "code",
      "execution_count": null,
      "metadata": {
        "colab": {
          "base_uri": "https://localhost:8080/",
          "height": 80
        },
        "id": "jY6p9v_sYLPD",
        "outputId": "f50e2b60-cfe2-4bf2-fd51-a727d4893eaf"
      },
      "outputs": [
        {
          "output_type": "execute_result",
          "data": {
            "text/plain": [
              "DecisionTreeClassifier(min_samples_leaf=5, random_state=42)"
            ],
            "text/html": [
              "<style>#sk-container-id-10 {\n",
              "  /* Definition of color scheme common for light and dark mode */\n",
              "  --sklearn-color-text: black;\n",
              "  --sklearn-color-line: gray;\n",
              "  /* Definition of color scheme for unfitted estimators */\n",
              "  --sklearn-color-unfitted-level-0: #fff5e6;\n",
              "  --sklearn-color-unfitted-level-1: #f6e4d2;\n",
              "  --sklearn-color-unfitted-level-2: #ffe0b3;\n",
              "  --sklearn-color-unfitted-level-3: chocolate;\n",
              "  /* Definition of color scheme for fitted estimators */\n",
              "  --sklearn-color-fitted-level-0: #f0f8ff;\n",
              "  --sklearn-color-fitted-level-1: #d4ebff;\n",
              "  --sklearn-color-fitted-level-2: #b3dbfd;\n",
              "  --sklearn-color-fitted-level-3: cornflowerblue;\n",
              "\n",
              "  /* Specific color for light theme */\n",
              "  --sklearn-color-text-on-default-background: var(--sg-text-color, var(--theme-code-foreground, var(--jp-content-font-color1, black)));\n",
              "  --sklearn-color-background: var(--sg-background-color, var(--theme-background, var(--jp-layout-color0, white)));\n",
              "  --sklearn-color-border-box: var(--sg-text-color, var(--theme-code-foreground, var(--jp-content-font-color1, black)));\n",
              "  --sklearn-color-icon: #696969;\n",
              "\n",
              "  @media (prefers-color-scheme: dark) {\n",
              "    /* Redefinition of color scheme for dark theme */\n",
              "    --sklearn-color-text-on-default-background: var(--sg-text-color, var(--theme-code-foreground, var(--jp-content-font-color1, white)));\n",
              "    --sklearn-color-background: var(--sg-background-color, var(--theme-background, var(--jp-layout-color0, #111)));\n",
              "    --sklearn-color-border-box: var(--sg-text-color, var(--theme-code-foreground, var(--jp-content-font-color1, white)));\n",
              "    --sklearn-color-icon: #878787;\n",
              "  }\n",
              "}\n",
              "\n",
              "#sk-container-id-10 {\n",
              "  color: var(--sklearn-color-text);\n",
              "}\n",
              "\n",
              "#sk-container-id-10 pre {\n",
              "  padding: 0;\n",
              "}\n",
              "\n",
              "#sk-container-id-10 input.sk-hidden--visually {\n",
              "  border: 0;\n",
              "  clip: rect(1px 1px 1px 1px);\n",
              "  clip: rect(1px, 1px, 1px, 1px);\n",
              "  height: 1px;\n",
              "  margin: -1px;\n",
              "  overflow: hidden;\n",
              "  padding: 0;\n",
              "  position: absolute;\n",
              "  width: 1px;\n",
              "}\n",
              "\n",
              "#sk-container-id-10 div.sk-dashed-wrapped {\n",
              "  border: 1px dashed var(--sklearn-color-line);\n",
              "  margin: 0 0.4em 0.5em 0.4em;\n",
              "  box-sizing: border-box;\n",
              "  padding-bottom: 0.4em;\n",
              "  background-color: var(--sklearn-color-background);\n",
              "}\n",
              "\n",
              "#sk-container-id-10 div.sk-container {\n",
              "  /* jupyter's `normalize.less` sets `[hidden] { display: none; }`\n",
              "     but bootstrap.min.css set `[hidden] { display: none !important; }`\n",
              "     so we also need the `!important` here to be able to override the\n",
              "     default hidden behavior on the sphinx rendered scikit-learn.org.\n",
              "     See: https://github.com/scikit-learn/scikit-learn/issues/21755 */\n",
              "  display: inline-block !important;\n",
              "  position: relative;\n",
              "}\n",
              "\n",
              "#sk-container-id-10 div.sk-text-repr-fallback {\n",
              "  display: none;\n",
              "}\n",
              "\n",
              "div.sk-parallel-item,\n",
              "div.sk-serial,\n",
              "div.sk-item {\n",
              "  /* draw centered vertical line to link estimators */\n",
              "  background-image: linear-gradient(var(--sklearn-color-text-on-default-background), var(--sklearn-color-text-on-default-background));\n",
              "  background-size: 2px 100%;\n",
              "  background-repeat: no-repeat;\n",
              "  background-position: center center;\n",
              "}\n",
              "\n",
              "/* Parallel-specific style estimator block */\n",
              "\n",
              "#sk-container-id-10 div.sk-parallel-item::after {\n",
              "  content: \"\";\n",
              "  width: 100%;\n",
              "  border-bottom: 2px solid var(--sklearn-color-text-on-default-background);\n",
              "  flex-grow: 1;\n",
              "}\n",
              "\n",
              "#sk-container-id-10 div.sk-parallel {\n",
              "  display: flex;\n",
              "  align-items: stretch;\n",
              "  justify-content: center;\n",
              "  background-color: var(--sklearn-color-background);\n",
              "  position: relative;\n",
              "}\n",
              "\n",
              "#sk-container-id-10 div.sk-parallel-item {\n",
              "  display: flex;\n",
              "  flex-direction: column;\n",
              "}\n",
              "\n",
              "#sk-container-id-10 div.sk-parallel-item:first-child::after {\n",
              "  align-self: flex-end;\n",
              "  width: 50%;\n",
              "}\n",
              "\n",
              "#sk-container-id-10 div.sk-parallel-item:last-child::after {\n",
              "  align-self: flex-start;\n",
              "  width: 50%;\n",
              "}\n",
              "\n",
              "#sk-container-id-10 div.sk-parallel-item:only-child::after {\n",
              "  width: 0;\n",
              "}\n",
              "\n",
              "/* Serial-specific style estimator block */\n",
              "\n",
              "#sk-container-id-10 div.sk-serial {\n",
              "  display: flex;\n",
              "  flex-direction: column;\n",
              "  align-items: center;\n",
              "  background-color: var(--sklearn-color-background);\n",
              "  padding-right: 1em;\n",
              "  padding-left: 1em;\n",
              "}\n",
              "\n",
              "\n",
              "/* Toggleable style: style used for estimator/Pipeline/ColumnTransformer box that is\n",
              "clickable and can be expanded/collapsed.\n",
              "- Pipeline and ColumnTransformer use this feature and define the default style\n",
              "- Estimators will overwrite some part of the style using the `sk-estimator` class\n",
              "*/\n",
              "\n",
              "/* Pipeline and ColumnTransformer style (default) */\n",
              "\n",
              "#sk-container-id-10 div.sk-toggleable {\n",
              "  /* Default theme specific background. It is overwritten whether we have a\n",
              "  specific estimator or a Pipeline/ColumnTransformer */\n",
              "  background-color: var(--sklearn-color-background);\n",
              "}\n",
              "\n",
              "/* Toggleable label */\n",
              "#sk-container-id-10 label.sk-toggleable__label {\n",
              "  cursor: pointer;\n",
              "  display: block;\n",
              "  width: 100%;\n",
              "  margin-bottom: 0;\n",
              "  padding: 0.5em;\n",
              "  box-sizing: border-box;\n",
              "  text-align: center;\n",
              "}\n",
              "\n",
              "#sk-container-id-10 label.sk-toggleable__label-arrow:before {\n",
              "  /* Arrow on the left of the label */\n",
              "  content: \"▸\";\n",
              "  float: left;\n",
              "  margin-right: 0.25em;\n",
              "  color: var(--sklearn-color-icon);\n",
              "}\n",
              "\n",
              "#sk-container-id-10 label.sk-toggleable__label-arrow:hover:before {\n",
              "  color: var(--sklearn-color-text);\n",
              "}\n",
              "\n",
              "/* Toggleable content - dropdown */\n",
              "\n",
              "#sk-container-id-10 div.sk-toggleable__content {\n",
              "  max-height: 0;\n",
              "  max-width: 0;\n",
              "  overflow: hidden;\n",
              "  text-align: left;\n",
              "  /* unfitted */\n",
              "  background-color: var(--sklearn-color-unfitted-level-0);\n",
              "}\n",
              "\n",
              "#sk-container-id-10 div.sk-toggleable__content.fitted {\n",
              "  /* fitted */\n",
              "  background-color: var(--sklearn-color-fitted-level-0);\n",
              "}\n",
              "\n",
              "#sk-container-id-10 div.sk-toggleable__content pre {\n",
              "  margin: 0.2em;\n",
              "  border-radius: 0.25em;\n",
              "  color: var(--sklearn-color-text);\n",
              "  /* unfitted */\n",
              "  background-color: var(--sklearn-color-unfitted-level-0);\n",
              "}\n",
              "\n",
              "#sk-container-id-10 div.sk-toggleable__content.fitted pre {\n",
              "  /* unfitted */\n",
              "  background-color: var(--sklearn-color-fitted-level-0);\n",
              "}\n",
              "\n",
              "#sk-container-id-10 input.sk-toggleable__control:checked~div.sk-toggleable__content {\n",
              "  /* Expand drop-down */\n",
              "  max-height: 200px;\n",
              "  max-width: 100%;\n",
              "  overflow: auto;\n",
              "}\n",
              "\n",
              "#sk-container-id-10 input.sk-toggleable__control:checked~label.sk-toggleable__label-arrow:before {\n",
              "  content: \"▾\";\n",
              "}\n",
              "\n",
              "/* Pipeline/ColumnTransformer-specific style */\n",
              "\n",
              "#sk-container-id-10 div.sk-label input.sk-toggleable__control:checked~label.sk-toggleable__label {\n",
              "  color: var(--sklearn-color-text);\n",
              "  background-color: var(--sklearn-color-unfitted-level-2);\n",
              "}\n",
              "\n",
              "#sk-container-id-10 div.sk-label.fitted input.sk-toggleable__control:checked~label.sk-toggleable__label {\n",
              "  background-color: var(--sklearn-color-fitted-level-2);\n",
              "}\n",
              "\n",
              "/* Estimator-specific style */\n",
              "\n",
              "/* Colorize estimator box */\n",
              "#sk-container-id-10 div.sk-estimator input.sk-toggleable__control:checked~label.sk-toggleable__label {\n",
              "  /* unfitted */\n",
              "  background-color: var(--sklearn-color-unfitted-level-2);\n",
              "}\n",
              "\n",
              "#sk-container-id-10 div.sk-estimator.fitted input.sk-toggleable__control:checked~label.sk-toggleable__label {\n",
              "  /* fitted */\n",
              "  background-color: var(--sklearn-color-fitted-level-2);\n",
              "}\n",
              "\n",
              "#sk-container-id-10 div.sk-label label.sk-toggleable__label,\n",
              "#sk-container-id-10 div.sk-label label {\n",
              "  /* The background is the default theme color */\n",
              "  color: var(--sklearn-color-text-on-default-background);\n",
              "}\n",
              "\n",
              "/* On hover, darken the color of the background */\n",
              "#sk-container-id-10 div.sk-label:hover label.sk-toggleable__label {\n",
              "  color: var(--sklearn-color-text);\n",
              "  background-color: var(--sklearn-color-unfitted-level-2);\n",
              "}\n",
              "\n",
              "/* Label box, darken color on hover, fitted */\n",
              "#sk-container-id-10 div.sk-label.fitted:hover label.sk-toggleable__label.fitted {\n",
              "  color: var(--sklearn-color-text);\n",
              "  background-color: var(--sklearn-color-fitted-level-2);\n",
              "}\n",
              "\n",
              "/* Estimator label */\n",
              "\n",
              "#sk-container-id-10 div.sk-label label {\n",
              "  font-family: monospace;\n",
              "  font-weight: bold;\n",
              "  display: inline-block;\n",
              "  line-height: 1.2em;\n",
              "}\n",
              "\n",
              "#sk-container-id-10 div.sk-label-container {\n",
              "  text-align: center;\n",
              "}\n",
              "\n",
              "/* Estimator-specific */\n",
              "#sk-container-id-10 div.sk-estimator {\n",
              "  font-family: monospace;\n",
              "  border: 1px dotted var(--sklearn-color-border-box);\n",
              "  border-radius: 0.25em;\n",
              "  box-sizing: border-box;\n",
              "  margin-bottom: 0.5em;\n",
              "  /* unfitted */\n",
              "  background-color: var(--sklearn-color-unfitted-level-0);\n",
              "}\n",
              "\n",
              "#sk-container-id-10 div.sk-estimator.fitted {\n",
              "  /* fitted */\n",
              "  background-color: var(--sklearn-color-fitted-level-0);\n",
              "}\n",
              "\n",
              "/* on hover */\n",
              "#sk-container-id-10 div.sk-estimator:hover {\n",
              "  /* unfitted */\n",
              "  background-color: var(--sklearn-color-unfitted-level-2);\n",
              "}\n",
              "\n",
              "#sk-container-id-10 div.sk-estimator.fitted:hover {\n",
              "  /* fitted */\n",
              "  background-color: var(--sklearn-color-fitted-level-2);\n",
              "}\n",
              "\n",
              "/* Specification for estimator info (e.g. \"i\" and \"?\") */\n",
              "\n",
              "/* Common style for \"i\" and \"?\" */\n",
              "\n",
              ".sk-estimator-doc-link,\n",
              "a:link.sk-estimator-doc-link,\n",
              "a:visited.sk-estimator-doc-link {\n",
              "  float: right;\n",
              "  font-size: smaller;\n",
              "  line-height: 1em;\n",
              "  font-family: monospace;\n",
              "  background-color: var(--sklearn-color-background);\n",
              "  border-radius: 1em;\n",
              "  height: 1em;\n",
              "  width: 1em;\n",
              "  text-decoration: none !important;\n",
              "  margin-left: 1ex;\n",
              "  /* unfitted */\n",
              "  border: var(--sklearn-color-unfitted-level-1) 1pt solid;\n",
              "  color: var(--sklearn-color-unfitted-level-1);\n",
              "}\n",
              "\n",
              ".sk-estimator-doc-link.fitted,\n",
              "a:link.sk-estimator-doc-link.fitted,\n",
              "a:visited.sk-estimator-doc-link.fitted {\n",
              "  /* fitted */\n",
              "  border: var(--sklearn-color-fitted-level-1) 1pt solid;\n",
              "  color: var(--sklearn-color-fitted-level-1);\n",
              "}\n",
              "\n",
              "/* On hover */\n",
              "div.sk-estimator:hover .sk-estimator-doc-link:hover,\n",
              ".sk-estimator-doc-link:hover,\n",
              "div.sk-label-container:hover .sk-estimator-doc-link:hover,\n",
              ".sk-estimator-doc-link:hover {\n",
              "  /* unfitted */\n",
              "  background-color: var(--sklearn-color-unfitted-level-3);\n",
              "  color: var(--sklearn-color-background);\n",
              "  text-decoration: none;\n",
              "}\n",
              "\n",
              "div.sk-estimator.fitted:hover .sk-estimator-doc-link.fitted:hover,\n",
              ".sk-estimator-doc-link.fitted:hover,\n",
              "div.sk-label-container:hover .sk-estimator-doc-link.fitted:hover,\n",
              ".sk-estimator-doc-link.fitted:hover {\n",
              "  /* fitted */\n",
              "  background-color: var(--sklearn-color-fitted-level-3);\n",
              "  color: var(--sklearn-color-background);\n",
              "  text-decoration: none;\n",
              "}\n",
              "\n",
              "/* Span, style for the box shown on hovering the info icon */\n",
              ".sk-estimator-doc-link span {\n",
              "  display: none;\n",
              "  z-index: 9999;\n",
              "  position: relative;\n",
              "  font-weight: normal;\n",
              "  right: .2ex;\n",
              "  padding: .5ex;\n",
              "  margin: .5ex;\n",
              "  width: min-content;\n",
              "  min-width: 20ex;\n",
              "  max-width: 50ex;\n",
              "  color: var(--sklearn-color-text);\n",
              "  box-shadow: 2pt 2pt 4pt #999;\n",
              "  /* unfitted */\n",
              "  background: var(--sklearn-color-unfitted-level-0);\n",
              "  border: .5pt solid var(--sklearn-color-unfitted-level-3);\n",
              "}\n",
              "\n",
              ".sk-estimator-doc-link.fitted span {\n",
              "  /* fitted */\n",
              "  background: var(--sklearn-color-fitted-level-0);\n",
              "  border: var(--sklearn-color-fitted-level-3);\n",
              "}\n",
              "\n",
              ".sk-estimator-doc-link:hover span {\n",
              "  display: block;\n",
              "}\n",
              "\n",
              "/* \"?\"-specific style due to the `<a>` HTML tag */\n",
              "\n",
              "#sk-container-id-10 a.estimator_doc_link {\n",
              "  float: right;\n",
              "  font-size: 1rem;\n",
              "  line-height: 1em;\n",
              "  font-family: monospace;\n",
              "  background-color: var(--sklearn-color-background);\n",
              "  border-radius: 1rem;\n",
              "  height: 1rem;\n",
              "  width: 1rem;\n",
              "  text-decoration: none;\n",
              "  /* unfitted */\n",
              "  color: var(--sklearn-color-unfitted-level-1);\n",
              "  border: var(--sklearn-color-unfitted-level-1) 1pt solid;\n",
              "}\n",
              "\n",
              "#sk-container-id-10 a.estimator_doc_link.fitted {\n",
              "  /* fitted */\n",
              "  border: var(--sklearn-color-fitted-level-1) 1pt solid;\n",
              "  color: var(--sklearn-color-fitted-level-1);\n",
              "}\n",
              "\n",
              "/* On hover */\n",
              "#sk-container-id-10 a.estimator_doc_link:hover {\n",
              "  /* unfitted */\n",
              "  background-color: var(--sklearn-color-unfitted-level-3);\n",
              "  color: var(--sklearn-color-background);\n",
              "  text-decoration: none;\n",
              "}\n",
              "\n",
              "#sk-container-id-10 a.estimator_doc_link.fitted:hover {\n",
              "  /* fitted */\n",
              "  background-color: var(--sklearn-color-fitted-level-3);\n",
              "}\n",
              "</style><div id=\"sk-container-id-10\" class=\"sk-top-container\"><div class=\"sk-text-repr-fallback\"><pre>DecisionTreeClassifier(min_samples_leaf=5, random_state=42)</pre><b>In a Jupyter environment, please rerun this cell to show the HTML representation or trust the notebook. <br />On GitHub, the HTML representation is unable to render, please try loading this page with nbviewer.org.</b></div><div class=\"sk-container\" hidden><div class=\"sk-item\"><div class=\"sk-estimator fitted sk-toggleable\"><input class=\"sk-toggleable__control sk-hidden--visually\" id=\"sk-estimator-id-12\" type=\"checkbox\" checked><label for=\"sk-estimator-id-12\" class=\"sk-toggleable__label fitted sk-toggleable__label-arrow fitted\">&nbsp;&nbsp;DecisionTreeClassifier<a class=\"sk-estimator-doc-link fitted\" rel=\"noreferrer\" target=\"_blank\" href=\"https://scikit-learn.org/1.5/modules/generated/sklearn.tree.DecisionTreeClassifier.html\">?<span>Documentation for DecisionTreeClassifier</span></a><span class=\"sk-estimator-doc-link fitted\">i<span>Fitted</span></span></label><div class=\"sk-toggleable__content fitted\"><pre>DecisionTreeClassifier(min_samples_leaf=5, random_state=42)</pre></div> </div></div></div></div>"
            ]
          },
          "metadata": {},
          "execution_count": 75
        }
      ],
      "source": [
        "from sklearn.datasets import make_moons\n",
        "\n",
        "X_moons, y_moons = make_moons(n_samples=150, noise=0.2, random_state=42)\n",
        "\n",
        "tree_clf1 = DecisionTreeClassifier(random_state=42)\n",
        "tree_clf2 = DecisionTreeClassifier(min_samples_leaf=5, random_state=42)\n",
        "tree_clf1.fit(X_moons, y_moons)\n",
        "tree_clf2.fit(X_moons, y_moons)"
      ]
    },
    {
      "cell_type": "code",
      "execution_count": null,
      "metadata": {
        "colab": {
          "base_uri": "https://localhost:8080/",
          "height": 340
        },
        "id": "vFP0ZkyHYLPE",
        "outputId": "9790ebba-f9a9-4b0b-d802-7fc7c69e5a8d"
      },
      "outputs": [
        {
          "output_type": "display_data",
          "data": {
            "text/plain": [
              "<Figure size 1000x400 with 2 Axes>"
            ],
            "image/png": "[encoded data removed]"
          },
          "metadata": {}
        }
      ],
      "source": [
        "# 추가 코드 - 이 셀은 그림 6-3을 생성하고 저장합니다.\n",
        "\n",
        "def plot_decision_boundary(clf, X, y, axes, cmap):\n",
        "    x1, x2 = np.meshgrid(np.linspace(axes[0], axes[1], 100),\n",
        "                         np.linspace(axes[2], axes[3], 100))\n",
        "    X_new = np.c_[x1.ravel(), x2.ravel()]\n",
        "    y_pred = clf.predict(X_new).reshape(x1.shape)\n",
        "\n",
        "    plt.contourf(x1, x2, y_pred, alpha=0.3, cmap=cmap)\n",
        "    plt.contour(x1, x2, y_pred, cmap=\"Greys\", alpha=0.8)\n",
        "    colors = {\"Wistia\": [\"#78785c\", \"#c47b27\"], \"Pastel1\": [\"red\", \"blue\"]}\n",
        "    markers = (\"o\", \"^\")\n",
        "    for idx in (0, 1):\n",
        "        plt.plot(X[:, 0][y == idx], X[:, 1][y == idx],\n",
        "                 color=colors[cmap][idx], marker=markers[idx], linestyle=\"none\")\n",
        "    plt.axis(axes)\n",
        "    plt.xlabel(r\"$x_1$\")\n",
        "    plt.ylabel(r\"$x_2$\", rotation=0)\n",
        "\n",
        "fig, axes = plt.subplots(ncols=2, figsize=(10, 4), sharey=True)\n",
        "plt.sca(axes[0])\n",
        "plot_decision_boundary(tree_clf1, X_moons, y_moons,\n",
        "                       axes=[-1.5, 2.4, -1, 1.5], cmap=\"Wistia\")\n",
        "plt.title(\"No restrictions\")\n",
        "plt.sca(axes[1])\n",
        "plot_decision_boundary(tree_clf2, X_moons, y_moons,\n",
        "                       axes=[-1.5, 2.4, -1, 1.5], cmap=\"Wistia\")\n",
        "plt.title(f\"min_samples_leaf = {tree_clf2.min_samples_leaf}\")\n",
        "plt.ylabel(\"\")\n",
        "save_fig(\"min_samples_leaf_plot\")\n",
        "plt.show()"
      ]
    },
    {
      "cell_type": "code",
      "execution_count": null,
      "metadata": {
        "colab": {
          "base_uri": "https://localhost:8080/"
        },
        "id": "x2KF9GluYLPE",
        "outputId": "af185ebf-692f-441b-df0d-4703af84086e"
      },
      "outputs": [
        {
          "output_type": "execute_result",
          "data": {
            "text/plain": [
              "0.898"
            ]
          },
          "metadata": {},
          "execution_count": 77
        }
      ],
      "source": [
        "X_moons_test, y_moons_test = make_moons(n_samples=1000, noise=0.2,\n",
        "                                        random_state=43)\n",
        "tree_clf1.score(X_moons_test, y_moons_test)"
      ]
    },
    {
      "cell_type": "code",
      "execution_count": null,
      "metadata": {
        "colab": {
          "base_uri": "https://localhost:8080/"
        },
        "id": "1HnIT7yhYLPE",
        "outputId": "2dd83899-6b78-4bff-8dd3-30ae58d510b3"
      },
      "outputs": [
        {
          "output_type": "execute_result",
          "data": {
            "text/plain": [
              "0.92"
            ]
          },
          "metadata": {},
          "execution_count": 78
        }
      ],
      "source": [
        "tree_clf2.score(X_moons_test, y_moons_test)"
      ]
    },
    {
      "cell_type": "markdown",
      "metadata": {
        "id": "GfbYkcWxYLPE"
      },
      "source": [
        "# 회귀"
      ]
    },
    {
      "cell_type": "markdown",
      "metadata": {
        "id": "ntcuGocqYLPE"
      },
      "source": [
        "간단한 2차방정식 훈련 세트를 준비해 보겠습니다:"
      ]
    },
    {
      "cell_type": "markdown",
      "metadata": {
        "id": "ppxaVk2hYLPE"
      },
      "source": [
        "**코드 샘플:**"
      ]
    },
    {
      "cell_type": "code",
      "execution_count": null,
      "metadata": {
        "colab": {
          "base_uri": "https://localhost:8080/",
          "height": 80
        },
        "id": "9kKie0KSYLPE",
        "outputId": "23f96049-18e6-4b4a-87c6-8899ebd2abca"
      },
      "outputs": [
        {
          "output_type": "execute_result",
          "data": {
            "text/plain": [
              "DecisionTreeRegressor(max_depth=2, random_state=42)"
            ],
            "text/html": [
              "<style>#sk-container-id-11 {\n",
              "  /* Definition of color scheme common for light and dark mode */\n",
              "  --sklearn-color-text: black;\n",
              "  --sklearn-color-line: gray;\n",
              "  /* Definition of color scheme for unfitted estimators */\n",
              "  --sklearn-color-unfitted-level-0: #fff5e6;\n",
              "  --sklearn-color-unfitted-level-1: #f6e4d2;\n",
              "  --sklearn-color-unfitted-level-2: #ffe0b3;\n",
              "  --sklearn-color-unfitted-level-3: chocolate;\n",
              "  /* Definition of color scheme for fitted estimators */\n",
              "  --sklearn-color-fitted-level-0: #f0f8ff;\n",
              "  --sklearn-color-fitted-level-1: #d4ebff;\n",
              "  --sklearn-color-fitted-level-2: #b3dbfd;\n",
              "  --sklearn-color-fitted-level-3: cornflowerblue;\n",
              "\n",
              "  /* Specific color for light theme */\n",
              "  --sklearn-color-text-on-default-background: var(--sg-text-color, var(--theme-code-foreground, var(--jp-content-font-color1, black)));\n",
              "  --sklearn-color-background: var(--sg-background-color, var(--theme-background, var(--jp-layout-color0, white)));\n",
              "  --sklearn-color-border-box: var(--sg-text-color, var(--theme-code-foreground, var(--jp-content-font-color1, black)));\n",
              "  --sklearn-color-icon: #696969;\n",
              "\n",
              "  @media (prefers-color-scheme: dark) {\n",
              "    /* Redefinition of color scheme for dark theme */\n",
              "    --sklearn-color-text-on-default-background: var(--sg-text-color, var(--theme-code-foreground, var(--jp-content-font-color1, white)));\n",
              "    --sklearn-color-background: var(--sg-background-color, var(--theme-background, var(--jp-layout-color0, #111)));\n",
              "    --sklearn-color-border-box: var(--sg-text-color, var(--theme-code-foreground, var(--jp-content-font-color1, white)));\n",
              "    --sklearn-color-icon: #878787;\n",
              "  }\n",
              "}\n",
              "\n",
              "#sk-container-id-11 {\n",
              "  color: var(--sklearn-color-text);\n",
              "}\n",
              "\n",
              "#sk-container-id-11 pre {\n",
              "  padding: 0;\n",
              "}\n",
              "\n",
              "#sk-container-id-11 input.sk-hidden--visually {\n",
              "  border: 0;\n",
              "  clip: rect(1px 1px 1px 1px);\n",
              "  clip: rect(1px, 1px, 1px, 1px);\n",
              "  height: 1px;\n",
              "  margin: -1px;\n",
              "  overflow: hidden;\n",
              "  padding: 0;\n",
              "  position: absolute;\n",
              "  width: 1px;\n",
              "}\n",
              "\n",
              "#sk-container-id-11 div.sk-dashed-wrapped {\n",
              "  border: 1px dashed var(--sklearn-color-line);\n",
              "  margin: 0 0.4em 0.5em 0.4em;\n",
              "  box-sizing: border-box;\n",
              "  padding-bottom: 0.4em;\n",
              "  background-color: var(--sklearn-color-background);\n",
              "}\n",
              "\n",
              "#sk-container-id-11 div.sk-container {\n",
              "  /* jupyter's `normalize.less` sets `[hidden] { display: none; }`\n",
              "     but bootstrap.min.css set `[hidden] { display: none !important; }`\n",
              "     so we also need the `!important` here to be able to override the\n",
              "     default hidden behavior on the sphinx rendered scikit-learn.org.\n",
              "     See: https://github.com/scikit-learn/scikit-learn/issues/21755 */\n",
              "  display: inline-block !important;\n",
              "  position: relative;\n",
              "}\n",
              "\n",
              "#sk-container-id-11 div.sk-text-repr-fallback {\n",
              "  display: none;\n",
              "}\n",
              "\n",
              "div.sk-parallel-item,\n",
              "div.sk-serial,\n",
              "div.sk-item {\n",
              "  /* draw centered vertical line to link estimators */\n",
              "  background-image: linear-gradient(var(--sklearn-color-text-on-default-background), var(--sklearn-color-text-on-default-background));\n",
              "  background-size: 2px 100%;\n",
              "  background-repeat: no-repeat;\n",
              "  background-position: center center;\n",
              "}\n",
              "\n",
              "/* Parallel-specific style estimator block */\n",
              "\n",
              "#sk-container-id-11 div.sk-parallel-item::after {\n",
              "  content: \"\";\n",
              "  width: 100%;\n",
              "  border-bottom: 2px solid var(--sklearn-color-text-on-default-background);\n",
              "  flex-grow: 1;\n",
              "}\n",
              "\n",
              "#sk-container-id-11 div.sk-parallel {\n",
              "  display: flex;\n",
              "  align-items: stretch;\n",
              "  justify-content: center;\n",
              "  background-color: var(--sklearn-color-background);\n",
              "  position: relative;\n",
              "}\n",
              "\n",
              "#sk-container-id-11 div.sk-parallel-item {\n",
              "  display: flex;\n",
              "  flex-direction: column;\n",
              "}\n",
              "\n",
              "#sk-container-id-11 div.sk-parallel-item:first-child::after {\n",
              "  align-self: flex-end;\n",
              "  width: 50%;\n",
              "}\n",
              "\n",
              "#sk-container-id-11 div.sk-parallel-item:last-child::after {\n",
              "  align-self: flex-start;\n",
              "  width: 50%;\n",
              "}\n",
              "\n",
              "#sk-container-id-11 div.sk-parallel-item:only-child::after {\n",
              "  width: 0;\n",
              "}\n",
              "\n",
              "/* Serial-specific style estimator block */\n",
              "\n",
              "#sk-container-id-11 div.sk-serial {\n",
              "  display: flex;\n",
              "  flex-direction: column;\n",
              "  align-items: center;\n",
              "  background-color: var(--sklearn-color-background);\n",
              "  padding-right: 1em;\n",
              "  padding-left: 1em;\n",
              "}\n",
              "\n",
              "\n",
              "/* Toggleable style: style used for estimator/Pipeline/ColumnTransformer box that is\n",
              "clickable and can be expanded/collapsed.\n",
              "- Pipeline and ColumnTransformer use this feature and define the default style\n",
              "- Estimators will overwrite some part of the style using the `sk-estimator` class\n",
              "*/\n",
              "\n",
              "/* Pipeline and ColumnTransformer style (default) */\n",
              "\n",
              "#sk-container-id-11 div.sk-toggleable {\n",
              "  /* Default theme specific background. It is overwritten whether we have a\n",
              "  specific estimator or a Pipeline/ColumnTransformer */\n",
              "  background-color: var(--sklearn-color-background);\n",
              "}\n",
              "\n",
              "/* Toggleable label */\n",
              "#sk-container-id-11 label.sk-toggleable__label {\n",
              "  cursor: pointer;\n",
              "  display: block;\n",
              "  width: 100%;\n",
              "  margin-bottom: 0;\n",
              "  padding: 0.5em;\n",
              "  box-sizing: border-box;\n",
              "  text-align: center;\n",
              "}\n",
              "\n",
              "#sk-container-id-11 label.sk-toggleable__label-arrow:before {\n",
              "  /* Arrow on the left of the label */\n",
              "  content: \"▸\";\n",
              "  float: left;\n",
              "  margin-right: 0.25em;\n",
              "  color: var(--sklearn-color-icon);\n",
              "}\n",
              "\n",
              "#sk-container-id-11 label.sk-toggleable__label-arrow:hover:before {\n",
              "  color: var(--sklearn-color-text);\n",
              "}\n",
              "\n",
              "/* Toggleable content - dropdown */\n",
              "\n",
              "#sk-container-id-11 div.sk-toggleable__content {\n",
              "  max-height: 0;\n",
              "  max-width: 0;\n",
              "  overflow: hidden;\n",
              "  text-align: left;\n",
              "  /* unfitted */\n",
              "  background-color: var(--sklearn-color-unfitted-level-0);\n",
              "}\n",
              "\n",
              "#sk-container-id-11 div.sk-toggleable__content.fitted {\n",
              "  /* fitted */\n",
              "  background-color: var(--sklearn-color-fitted-level-0);\n",
              "}\n",
              "\n",
              "#sk-container-id-11 div.sk-toggleable__content pre {\n",
              "  margin: 0.2em;\n",
              "  border-radius: 0.25em;\n",
              "  color: var(--sklearn-color-text);\n",
              "  /* unfitted */\n",
              "  background-color: var(--sklearn-color-unfitted-level-0);\n",
              "}\n",
              "\n",
              "#sk-container-id-11 div.sk-toggleable__content.fitted pre {\n",
              "  /* unfitted */\n",
              "  background-color: var(--sklearn-color-fitted-level-0);\n",
              "}\n",
              "\n",
              "#sk-container-id-11 input.sk-toggleable__control:checked~div.sk-toggleable__content {\n",
              "  /* Expand drop-down */\n",
              "  max-height: 200px;\n",
              "  max-width: 100%;\n",
              "  overflow: auto;\n",
              "}\n",
              "\n",
              "#sk-container-id-11 input.sk-toggleable__control:checked~label.sk-toggleable__label-arrow:before {\n",
              "  content: \"▾\";\n",
              "}\n",
              "\n",
              "/* Pipeline/ColumnTransformer-specific style */\n",
              "\n",
              "#sk-container-id-11 div.sk-label input.sk-toggleable__control:checked~label.sk-toggleable__label {\n",
              "  color: var(--sklearn-color-text);\n",
              "  background-color: var(--sklearn-color-unfitted-level-2);\n",
              "}\n",
              "\n",
              "#sk-container-id-11 div.sk-label.fitted input.sk-toggleable__control:checked~label.sk-toggleable__label {\n",
              "  background-color: var(--sklearn-color-fitted-level-2);\n",
              "}\n",
              "\n",
              "/* Estimator-specific style */\n",
              "\n",
              "/* Colorize estimator box */\n",
              "#sk-container-id-11 div.sk-estimator input.sk-toggleable__control:checked~label.sk-toggleable__label {\n",
              "  /* unfitted */\n",
              "  background-color: var(--sklearn-color-unfitted-level-2);\n",
              "}\n",
              "\n",
              "#sk-container-id-11 div.sk-estimator.fitted input.sk-toggleable__control:checked~label.sk-toggleable__label {\n",
              "  /* fitted */\n",
              "  background-color: var(--sklearn-color-fitted-level-2);\n",
              "}\n",
              "\n",
              "#sk-container-id-11 div.sk-label label.sk-toggleable__label,\n",
              "#sk-container-id-11 div.sk-label label {\n",
              "  /* The background is the default theme color */\n",
              "  color: var(--sklearn-color-text-on-default-background);\n",
              "}\n",
              "\n",
              "/* On hover, darken the color of the background */\n",
              "#sk-container-id-11 div.sk-label:hover label.sk-toggleable__label {\n",
              "  color: var(--sklearn-color-text);\n",
              "  background-color: var(--sklearn-color-unfitted-level-2);\n",
              "}\n",
              "\n",
              "/* Label box, darken color on hover, fitted */\n",
              "#sk-container-id-11 div.sk-label.fitted:hover label.sk-toggleable__label.fitted {\n",
              "  color: var(--sklearn-color-text);\n",
              "  background-color: var(--sklearn-color-fitted-level-2);\n",
              "}\n",
              "\n",
              "/* Estimator label */\n",
              "\n",
              "#sk-container-id-11 div.sk-label label {\n",
              "  font-family: monospace;\n",
              "  font-weight: bold;\n",
              "  display: inline-block;\n",
              "  line-height: 1.2em;\n",
              "}\n",
              "\n",
              "#sk-container-id-11 div.sk-label-container {\n",
              "  text-align: center;\n",
              "}\n",
              "\n",
              "/* Estimator-specific */\n",
              "#sk-container-id-11 div.sk-estimator {\n",
              "  font-family: monospace;\n",
              "  border: 1px dotted var(--sklearn-color-border-box);\n",
              "  border-radius: 0.25em;\n",
              "  box-sizing: border-box;\n",
              "  margin-bottom: 0.5em;\n",
              "  /* unfitted */\n",
              "  background-color: var(--sklearn-color-unfitted-level-0);\n",
              "}\n",
              "\n",
              "#sk-container-id-11 div.sk-estimator.fitted {\n",
              "  /* fitted */\n",
              "  background-color: var(--sklearn-color-fitted-level-0);\n",
              "}\n",
              "\n",
              "/* on hover */\n",
              "#sk-container-id-11 div.sk-estimator:hover {\n",
              "  /* unfitted */\n",
              "  background-color: var(--sklearn-color-unfitted-level-2);\n",
              "}\n",
              "\n",
              "#sk-container-id-11 div.sk-estimator.fitted:hover {\n",
              "  /* fitted */\n",
              "  background-color: var(--sklearn-color-fitted-level-2);\n",
              "}\n",
              "\n",
              "/* Specification for estimator info (e.g. \"i\" and \"?\") */\n",
              "\n",
              "/* Common style for \"i\" and \"?\" */\n",
              "\n",
              ".sk-estimator-doc-link,\n",
              "a:link.sk-estimator-doc-link,\n",
              "a:visited.sk-estimator-doc-link {\n",
              "  float: right;\n",
              "  font-size: smaller;\n",
              "  line-height: 1em;\n",
              "  font-family: monospace;\n",
              "  background-color: var(--sklearn-color-background);\n",
              "  border-radius: 1em;\n",
              "  height: 1em;\n",
              "  width: 1em;\n",
              "  text-decoration: none !important;\n",
              "  margin-left: 1ex;\n",
              "  /* unfitted */\n",
              "  border: var(--sklearn-color-unfitted-level-1) 1pt solid;\n",
              "  color: var(--sklearn-color-unfitted-level-1);\n",
              "}\n",
              "\n",
              ".sk-estimator-doc-link.fitted,\n",
              "a:link.sk-estimator-doc-link.fitted,\n",
              "a:visited.sk-estimator-doc-link.fitted {\n",
              "  /* fitted */\n",
              "  border: var(--sklearn-color-fitted-level-1) 1pt solid;\n",
              "  color: var(--sklearn-color-fitted-level-1);\n",
              "}\n",
              "\n",
              "/* On hover */\n",
              "div.sk-estimator:hover .sk-estimator-doc-link:hover,\n",
              ".sk-estimator-doc-link:hover,\n",
              "div.sk-label-container:hover .sk-estimator-doc-link:hover,\n",
              ".sk-estimator-doc-link:hover {\n",
              "  /* unfitted */\n",
              "  background-color: var(--sklearn-color-unfitted-level-3);\n",
              "  color: var(--sklearn-color-background);\n",
              "  text-decoration: none;\n",
              "}\n",
              "\n",
              "div.sk-estimator.fitted:hover .sk-estimator-doc-link.fitted:hover,\n",
              ".sk-estimator-doc-link.fitted:hover,\n",
              "div.sk-label-container:hover .sk-estimator-doc-link.fitted:hover,\n",
              ".sk-estimator-doc-link.fitted:hover {\n",
              "  /* fitted */\n",
              "  background-color: var(--sklearn-color-fitted-level-3);\n",
              "  color: var(--sklearn-color-background);\n",
              "  text-decoration: none;\n",
              "}\n",
              "\n",
              "/* Span, style for the box shown on hovering the info icon */\n",
              ".sk-estimator-doc-link span {\n",
              "  display: none;\n",
              "  z-index: 9999;\n",
              "  position: relative;\n",
              "  font-weight: normal;\n",
              "  right: .2ex;\n",
              "  padding: .5ex;\n",
              "  margin: .5ex;\n",
              "  width: min-content;\n",
              "  min-width: 20ex;\n",
              "  max-width: 50ex;\n",
              "  color: var(--sklearn-color-text);\n",
              "  box-shadow: 2pt 2pt 4pt #999;\n",
              "  /* unfitted */\n",
              "  background: var(--sklearn-color-unfitted-level-0);\n",
              "  border: .5pt solid var(--sklearn-color-unfitted-level-3);\n",
              "}\n",
              "\n",
              ".sk-estimator-doc-link.fitted span {\n",
              "  /* fitted */\n",
              "  background: var(--sklearn-color-fitted-level-0);\n",
              "  border: var(--sklearn-color-fitted-level-3);\n",
              "}\n",
              "\n",
              ".sk-estimator-doc-link:hover span {\n",
              "  display: block;\n",
              "}\n",
              "\n",
              "/* \"?\"-specific style due to the `<a>` HTML tag */\n",
              "\n",
              "#sk-container-id-11 a.estimator_doc_link {\n",
              "  float: right;\n",
              "  font-size: 1rem;\n",
              "  line-height: 1em;\n",
              "  font-family: monospace;\n",
              "  background-color: var(--sklearn-color-background);\n",
              "  border-radius: 1rem;\n",
              "  height: 1rem;\n",
              "  width: 1rem;\n",
              "  text-decoration: none;\n",
              "  /* unfitted */\n",
              "  color: var(--sklearn-color-unfitted-level-1);\n",
              "  border: var(--sklearn-color-unfitted-level-1) 1pt solid;\n",
              "}\n",
              "\n",
              "#sk-container-id-11 a.estimator_doc_link.fitted {\n",
              "  /* fitted */\n",
              "  border: var(--sklearn-color-fitted-level-1) 1pt solid;\n",
              "  color: var(--sklearn-color-fitted-level-1);\n",
              "}\n",
              "\n",
              "/* On hover */\n",
              "#sk-container-id-11 a.estimator_doc_link:hover {\n",
              "  /* unfitted */\n",
              "  background-color: var(--sklearn-color-unfitted-level-3);\n",
              "  color: var(--sklearn-color-background);\n",
              "  text-decoration: none;\n",
              "}\n",
              "\n",
              "#sk-container-id-11 a.estimator_doc_link.fitted:hover {\n",
              "  /* fitted */\n",
              "  background-color: var(--sklearn-color-fitted-level-3);\n",
              "}\n",
              "</style><div id=\"sk-container-id-11\" class=\"sk-top-container\"><div class=\"sk-text-repr-fallback\"><pre>DecisionTreeRegressor(max_depth=2, random_state=42)</pre><b>In a Jupyter environment, please rerun this cell to show the HTML representation or trust the notebook. <br />On GitHub, the HTML representation is unable to render, please try loading this page with nbviewer.org.</b></div><div class=\"sk-container\" hidden><div class=\"sk-item\"><div class=\"sk-estimator fitted sk-toggleable\"><input class=\"sk-toggleable__control sk-hidden--visually\" id=\"sk-estimator-id-13\" type=\"checkbox\" checked><label for=\"sk-estimator-id-13\" class=\"sk-toggleable__label fitted sk-toggleable__label-arrow fitted\">&nbsp;&nbsp;DecisionTreeRegressor<a class=\"sk-estimator-doc-link fitted\" rel=\"noreferrer\" target=\"_blank\" href=\"https://scikit-learn.org/1.5/modules/generated/sklearn.tree.DecisionTreeRegressor.html\">?<span>Documentation for DecisionTreeRegressor</span></a><span class=\"sk-estimator-doc-link fitted\">i<span>Fitted</span></span></label><div class=\"sk-toggleable__content fitted\"><pre>DecisionTreeRegressor(max_depth=2, random_state=42)</pre></div> </div></div></div></div>"
            ]
          },
          "metadata": {},
          "execution_count": 79
        }
      ],
      "source": [
        "from sklearn.tree import DecisionTreeRegressor\n",
        "\n",
        "np.random.seed(42)\n",
        "X_quad = np.random.rand(200, 1) - 0.5  # 간단한 랜덤한 입력 특성\n",
        "y_quad = X_quad ** 2 + 0.025 * np.random.randn(200, 1)\n",
        "\n",
        "tree_reg = DecisionTreeRegressor(max_depth=2, random_state=42)\n",
        "tree_reg.fit(X_quad, y_quad)"
      ]
    },
    {
      "cell_type": "code",
      "execution_count": null,
      "metadata": {
        "colab": {
          "base_uri": "https://localhost:8080/",
          "height": 401
        },
        "id": "OHFhNTb1YLPE",
        "outputId": "517e198c-754d-470b-e996-ffa7eea39404"
      },
      "outputs": [
        {
          "output_type": "execute_result",
          "data": {
            "image/svg+xml": "<?xml version=\"1.0\" encoding=\"UTF-8\" standalone=\"no\"?>\n<!DOCTYPE svg PUBLIC \"-//W3C//DTD SVG 1.1//EN\"\n \"http://www.w3.org/Graphics/SVG/1.1/DTD/svg11.dtd\">\n<!-- Generated by graphviz version 2.43.0 (0)\n -->\n<!-- Title: Tree Pages: 1 -->\n<svg width=\"666pt\" height=\"269pt\"\n viewBox=\"0.00 0.00 666.00 269.00\" xmlns=\"http://www.w3.org/2000/svg\" xmlns:xlink=\"http://www.w3.org/1999/xlink\">\n<g id=\"graph0\" class=\"graph\" transform=\"scale(1 1) rotate(0) translate(4 265)\">\n<title>Tree</title>\n<polygon fill=\"white\" stroke=\"transparent\" points=\"-4,4 -4,-265 662,-265 662,4 -4,4\"/>\n<!-- 0 -->\n<g id=\"node1\" class=\"node\">\n<title>0</title>\n<path fill=\"#f6d6be\" stroke=\"black\" d=\"M392,-261C392,-261 265,-261 265,-261 259,-261 253,-255 253,-249 253,-249 253,-205 253,-205 253,-199 259,-193 265,-193 265,-193 392,-193 392,-193 398,-193 404,-199 404,-205 404,-205 404,-249 404,-249 404,-255 398,-261 392,-261\"/>\n<text text-anchor=\"middle\" x=\"328.5\" y=\"-245.8\" font-family=\"Helvetica,sans-Serif\" font-size=\"14.00\">x1 &lt;= &#45;0.303</text>\n<text text-anchor=\"middle\" x=\"328.5\" y=\"-230.8\" font-family=\"Helvetica,sans-Serif\" font-size=\"14.00\">squared_error = 0.006</text>\n<text text-anchor=\"middle\" x=\"328.5\" y=\"-215.8\" font-family=\"Helvetica,sans-Serif\" font-size=\"14.00\">samples = 200</text>\n<text text-anchor=\"middle\" x=\"328.5\" y=\"-200.8\" font-family=\"Helvetica,sans-Serif\" font-size=\"14.00\">value = 0.088</text>\n</g>\n<!-- 1 -->\n<g id=\"node2\" class=\"node\">\n<title>1</title>\n<path fill=\"#eb9d65\" stroke=\"black\" d=\"M308,-157C308,-157 181,-157 181,-157 175,-157 169,-151 169,-145 169,-145 169,-101 169,-101 169,-95 175,-89 181,-89 181,-89 308,-89 308,-89 314,-89 320,-95 320,-101 320,-101 320,-145 320,-145 320,-151 314,-157 308,-157\"/>\n<text text-anchor=\"middle\" x=\"244.5\" y=\"-141.8\" font-family=\"Helvetica,sans-Serif\" font-size=\"14.00\">x1 &lt;= &#45;0.408</text>\n<text text-anchor=\"middle\" x=\"244.5\" y=\"-126.8\" font-family=\"Helvetica,sans-Serif\" font-size=\"14.00\">squared_error = 0.002</text>\n<text text-anchor=\"middle\" x=\"244.5\" y=\"-111.8\" font-family=\"Helvetica,sans-Serif\" font-size=\"14.00\">samples = 44</text>\n<text text-anchor=\"middle\" x=\"244.5\" y=\"-96.8\" font-family=\"Helvetica,sans-Serif\" font-size=\"14.00\">value = 0.172</text>\n</g>\n<!-- 0&#45;&gt;1 -->\n<g id=\"edge1\" class=\"edge\">\n<title>0&#45;&gt;1</title>\n<path fill=\"none\" stroke=\"black\" d=\"M301.23,-192.88C293.97,-184.07 286.03,-174.43 278.46,-165.24\"/>\n<polygon fill=\"black\" stroke=\"black\" points=\"280.98,-162.79 271.92,-157.3 275.58,-167.24 280.98,-162.79\"/>\n<text text-anchor=\"middle\" x=\"269.51\" y=\"-178.48\" font-family=\"Helvetica,sans-Serif\" font-size=\"14.00\">True</text>\n</g>\n<!-- 4 -->\n<g id=\"node5\" class=\"node\">\n<title>4</title>\n<path fill=\"#fae6d7\" stroke=\"black\" d=\"M477,-157C477,-157 350,-157 350,-157 344,-157 338,-151 338,-145 338,-145 338,-101 338,-101 338,-95 344,-89 350,-89 350,-89 477,-89 477,-89 483,-89 489,-95 489,-101 489,-101 489,-145 489,-145 489,-151 483,-157 477,-157\"/>\n<text text-anchor=\"middle\" x=\"413.5\" y=\"-141.8\" font-family=\"Helvetica,sans-Serif\" font-size=\"14.00\">x1 &lt;= 0.272</text>\n<text text-anchor=\"middle\" x=\"413.5\" y=\"-126.8\" font-family=\"Helvetica,sans-Serif\" font-size=\"14.00\">squared_error = 0.005</text>\n<text text-anchor=\"middle\" x=\"413.5\" y=\"-111.8\" font-family=\"Helvetica,sans-Serif\" font-size=\"14.00\">samples = 156</text>\n<text text-anchor=\"middle\" x=\"413.5\" y=\"-96.8\" font-family=\"Helvetica,sans-Serif\" font-size=\"14.00\">value = 0.065</text>\n</g>\n<!-- 0&#45;&gt;4 -->\n<g id=\"edge4\" class=\"edge\">\n<title>0&#45;&gt;4</title>\n<path fill=\"none\" stroke=\"black\" d=\"M356.1,-192.88C363.45,-184.07 371.47,-174.43 379.14,-165.24\"/>\n<polygon fill=\"black\" stroke=\"black\" points=\"382.04,-167.22 385.75,-157.3 376.66,-162.74 382.04,-167.22\"/>\n<text text-anchor=\"middle\" x=\"388.01\" y=\"-178.5\" font-family=\"Helvetica,sans-Serif\" font-size=\"14.00\">False</text>\n</g>\n<!-- 2 -->\n<g id=\"node3\" class=\"node\">\n<title>2</title>\n<path fill=\"#e58139\" stroke=\"black\" d=\"M139,-53C139,-53 12,-53 12,-53 6,-53 0,-47 0,-41 0,-41 0,-12 0,-12 0,-6 6,0 12,0 12,0 139,0 139,0 145,0 151,-6 151,-12 151,-12 151,-41 151,-41 151,-47 145,-53 139,-53\"/>\n<text text-anchor=\"middle\" x=\"75.5\" y=\"-37.8\" font-family=\"Helvetica,sans-Serif\" font-size=\"14.00\">squared_error = 0.001</text>\n<text text-anchor=\"middle\" x=\"75.5\" y=\"-22.8\" font-family=\"Helvetica,sans-Serif\" font-size=\"14.00\">samples = 20</text>\n<text text-anchor=\"middle\" x=\"75.5\" y=\"-7.8\" font-family=\"Helvetica,sans-Serif\" font-size=\"14.00\">value = 0.213</text>\n</g>\n<!-- 1&#45;&gt;2 -->\n<g id=\"edge2\" class=\"edge\">\n<title>1&#45;&gt;2</title>\n<path fill=\"none\" stroke=\"black\" d=\"M185.39,-88.95C167.48,-78.93 147.89,-67.98 130.27,-58.13\"/>\n<polygon fill=\"black\" stroke=\"black\" points=\"131.69,-54.91 121.26,-53.09 128.28,-61.02 131.69,-54.91\"/>\n</g>\n<!-- 3 -->\n<g id=\"node4\" class=\"node\">\n<title>3</title>\n<path fill=\"#f0b489\" stroke=\"black\" d=\"M308,-53C308,-53 181,-53 181,-53 175,-53 169,-47 169,-41 169,-41 169,-12 169,-12 169,-6 175,0 181,0 181,0 308,0 308,0 314,0 320,-6 320,-12 320,-12 320,-41 320,-41 320,-47 314,-53 308,-53\"/>\n<text text-anchor=\"middle\" x=\"244.5\" y=\"-37.8\" font-family=\"Helvetica,sans-Serif\" font-size=\"14.00\">squared_error = 0.001</text>\n<text text-anchor=\"middle\" x=\"244.5\" y=\"-22.8\" font-family=\"Helvetica,sans-Serif\" font-size=\"14.00\">samples = 24</text>\n<text text-anchor=\"middle\" x=\"244.5\" y=\"-7.8\" font-family=\"Helvetica,sans-Serif\" font-size=\"14.00\">value = 0.138</text>\n</g>\n<!-- 1&#45;&gt;3 -->\n<g id=\"edge3\" class=\"edge\">\n<title>1&#45;&gt;3</title>\n<path fill=\"none\" stroke=\"black\" d=\"M244.5,-88.95C244.5,-80.72 244.5,-71.85 244.5,-63.48\"/>\n<polygon fill=\"black\" stroke=\"black\" points=\"248,-63.24 244.5,-53.24 241,-63.24 248,-63.24\"/>\n</g>\n<!-- 5 -->\n<g id=\"node6\" class=\"node\">\n<title>5</title>\n<path fill=\"#ffffff\" stroke=\"black\" d=\"M477,-53C477,-53 350,-53 350,-53 344,-53 338,-47 338,-41 338,-41 338,-12 338,-12 338,-6 344,0 350,0 350,0 477,0 477,0 483,0 489,-6 489,-12 489,-12 489,-41 489,-41 489,-47 483,-53 477,-53\"/>\n<text text-anchor=\"middle\" x=\"413.5\" y=\"-37.8\" font-family=\"Helvetica,sans-Serif\" font-size=\"14.00\">squared_error = 0.001</text>\n<text text-anchor=\"middle\" x=\"413.5\" y=\"-22.8\" font-family=\"Helvetica,sans-Serif\" font-size=\"14.00\">samples = 110</text>\n<text text-anchor=\"middle\" x=\"413.5\" y=\"-7.8\" font-family=\"Helvetica,sans-Serif\" font-size=\"14.00\">value = 0.028</text>\n</g>\n<!-- 4&#45;&gt;5 -->\n<g id=\"edge5\" class=\"edge\">\n<title>4&#45;&gt;5</title>\n<path fill=\"none\" stroke=\"black\" d=\"M413.5,-88.95C413.5,-80.72 413.5,-71.85 413.5,-63.48\"/>\n<polygon fill=\"black\" stroke=\"black\" points=\"417,-63.24 413.5,-53.24 410,-63.24 417,-63.24\"/>\n</g>\n<!-- 6 -->\n<g id=\"node7\" class=\"node\">\n<title>6</title>\n<path fill=\"#edaa79\" stroke=\"black\" d=\"M646,-53C646,-53 519,-53 519,-53 513,-53 507,-47 507,-41 507,-41 507,-12 507,-12 507,-6 513,0 519,0 519,0 646,0 646,0 652,0 658,-6 658,-12 658,-12 658,-41 658,-41 658,-47 652,-53 646,-53\"/>\n<text text-anchor=\"middle\" x=\"582.5\" y=\"-37.8\" font-family=\"Helvetica,sans-Serif\" font-size=\"14.00\">squared_error = 0.002</text>\n<text text-anchor=\"middle\" x=\"582.5\" y=\"-22.8\" font-family=\"Helvetica,sans-Serif\" font-size=\"14.00\">samples = 46</text>\n<text text-anchor=\"middle\" x=\"582.5\" y=\"-7.8\" font-family=\"Helvetica,sans-Serif\" font-size=\"14.00\">value = 0.154</text>\n</g>\n<!-- 4&#45;&gt;6 -->\n<g id=\"edge6\" class=\"edge\">\n<title>4&#45;&gt;6</title>\n<path fill=\"none\" stroke=\"black\" d=\"M472.61,-88.95C490.52,-78.93 510.11,-67.98 527.73,-58.13\"/>\n<polygon fill=\"black\" stroke=\"black\" points=\"529.72,-61.02 536.74,-53.09 526.31,-54.91 529.72,-61.02\"/>\n</g>\n</g>\n</svg>\n",
            "text/plain": [
              "<graphviz.sources.Source at 0x7f5ff9cc0610>"
            ]
          },
          "metadata": {},
          "execution_count": 80
        }
      ],
      "source": [
        "# 추가 코드 - export_graphviz()를 사용하는 방법을 이미 살펴봤습니다.\n",
        "export_graphviz(\n",
        "    tree_reg,\n",
        "    out_file=str(IMAGES_PATH / \"regression_tree.dot\"),\n",
        "    feature_names=[\"x1\"],\n",
        "    rounded=True,\n",
        "    filled=True\n",
        ")\n",
        "Source.from_file(IMAGES_PATH / \"regression_tree.dot\")"
      ]
    },
    {
      "cell_type": "code",
      "execution_count": null,
      "metadata": {
        "colab": {
          "base_uri": "https://localhost:8080/",
          "height": 80
        },
        "id": "iBJC1AnSYLPI",
        "outputId": "2c0380ba-fba3-4baa-daff-b42202ded274"
      },
      "outputs": [
        {
          "output_type": "execute_result",
          "data": {
            "text/plain": [
              "DecisionTreeRegressor(max_depth=3, random_state=42)"
            ],
            "text/html": [
              "<style>#sk-container-id-12 {\n",
              "  /* Definition of color scheme common for light and dark mode */\n",
              "  --sklearn-color-text: black;\n",
              "  --sklearn-color-line: gray;\n",
              "  /* Definition of color scheme for unfitted estimators */\n",
              "  --sklearn-color-unfitted-level-0: #fff5e6;\n",
              "  --sklearn-color-unfitted-level-1: #f6e4d2;\n",
              "  --sklearn-color-unfitted-level-2: #ffe0b3;\n",
              "  --sklearn-color-unfitted-level-3: chocolate;\n",
              "  /* Definition of color scheme for fitted estimators */\n",
              "  --sklearn-color-fitted-level-0: #f0f8ff;\n",
              "  --sklearn-color-fitted-level-1: #d4ebff;\n",
              "  --sklearn-color-fitted-level-2: #b3dbfd;\n",
              "  --sklearn-color-fitted-level-3: cornflowerblue;\n",
              "\n",
              "  /* Specific color for light theme */\n",
              "  --sklearn-color-text-on-default-background: var(--sg-text-color, var(--theme-code-foreground, var(--jp-content-font-color1, black)));\n",
              "  --sklearn-color-background: var(--sg-background-color, var(--theme-background, var(--jp-layout-color0, white)));\n",
              "  --sklearn-color-border-box: var(--sg-text-color, var(--theme-code-foreground, var(--jp-content-font-color1, black)));\n",
              "  --sklearn-color-icon: #696969;\n",
              "\n",
              "  @media (prefers-color-scheme: dark) {\n",
              "    /* Redefinition of color scheme for dark theme */\n",
              "    --sklearn-color-text-on-default-background: var(--sg-text-color, var(--theme-code-foreground, var(--jp-content-font-color1, white)));\n",
              "    --sklearn-color-background: var(--sg-background-color, var(--theme-background, var(--jp-layout-color0, #111)));\n",
              "    --sklearn-color-border-box: var(--sg-text-color, var(--theme-code-foreground, var(--jp-content-font-color1, white)));\n",
              "    --sklearn-color-icon: #878787;\n",
              "  }\n",
              "}\n",
              "\n",
              "#sk-container-id-12 {\n",
              "  color: var(--sklearn-color-text);\n",
              "}\n",
              "\n",
              "#sk-container-id-12 pre {\n",
              "  padding: 0;\n",
              "}\n",
              "\n",
              "#sk-container-id-12 input.sk-hidden--visually {\n",
              "  border: 0;\n",
              "  clip: rect(1px 1px 1px 1px);\n",
              "  clip: rect(1px, 1px, 1px, 1px);\n",
              "  height: 1px;\n",
              "  margin: -1px;\n",
              "  overflow: hidden;\n",
              "  padding: 0;\n",
              "  position: absolute;\n",
              "  width: 1px;\n",
              "}\n",
              "\n",
              "#sk-container-id-12 div.sk-dashed-wrapped {\n",
              "  border: 1px dashed var(--sklearn-color-line);\n",
              "  margin: 0 0.4em 0.5em 0.4em;\n",
              "  box-sizing: border-box;\n",
              "  padding-bottom: 0.4em;\n",
              "  background-color: var(--sklearn-color-background);\n",
              "}\n",
              "\n",
              "#sk-container-id-12 div.sk-container {\n",
              "  /* jupyter's `normalize.less` sets `[hidden] { display: none; }`\n",
              "     but bootstrap.min.css set `[hidden] { display: none !important; }`\n",
              "     so we also need the `!important` here to be able to override the\n",
              "     default hidden behavior on the sphinx rendered scikit-learn.org.\n",
              "     See: https://github.com/scikit-learn/scikit-learn/issues/21755 */\n",
              "  display: inline-block !important;\n",
              "  position: relative;\n",
              "}\n",
              "\n",
              "#sk-container-id-12 div.sk-text-repr-fallback {\n",
              "  display: none;\n",
              "}\n",
              "\n",
              "div.sk-parallel-item,\n",
              "div.sk-serial,\n",
              "div.sk-item {\n",
              "  /* draw centered vertical line to link estimators */\n",
              "  background-image: linear-gradient(var(--sklearn-color-text-on-default-background), var(--sklearn-color-text-on-default-background));\n",
              "  background-size: 2px 100%;\n",
              "  background-repeat: no-repeat;\n",
              "  background-position: center center;\n",
              "}\n",
              "\n",
              "/* Parallel-specific style estimator block */\n",
              "\n",
              "#sk-container-id-12 div.sk-parallel-item::after {\n",
              "  content: \"\";\n",
              "  width: 100%;\n",
              "  border-bottom: 2px solid var(--sklearn-color-text-on-default-background);\n",
              "  flex-grow: 1;\n",
              "}\n",
              "\n",
              "#sk-container-id-12 div.sk-parallel {\n",
              "  display: flex;\n",
              "  align-items: stretch;\n",
              "  justify-content: center;\n",
              "  background-color: var(--sklearn-color-background);\n",
              "  position: relative;\n",
              "}\n",
              "\n",
              "#sk-container-id-12 div.sk-parallel-item {\n",
              "  display: flex;\n",
              "  flex-direction: column;\n",
              "}\n",
              "\n",
              "#sk-container-id-12 div.sk-parallel-item:first-child::after {\n",
              "  align-self: flex-end;\n",
              "  width: 50%;\n",
              "}\n",
              "\n",
              "#sk-container-id-12 div.sk-parallel-item:last-child::after {\n",
              "  align-self: flex-start;\n",
              "  width: 50%;\n",
              "}\n",
              "\n",
              "#sk-container-id-12 div.sk-parallel-item:only-child::after {\n",
              "  width: 0;\n",
              "}\n",
              "\n",
              "/* Serial-specific style estimator block */\n",
              "\n",
              "#sk-container-id-12 div.sk-serial {\n",
              "  display: flex;\n",
              "  flex-direction: column;\n",
              "  align-items: center;\n",
              "  background-color: var(--sklearn-color-background);\n",
              "  padding-right: 1em;\n",
              "  padding-left: 1em;\n",
              "}\n",
              "\n",
              "\n",
              "/* Toggleable style: style used for estimator/Pipeline/ColumnTransformer box that is\n",
              "clickable and can be expanded/collapsed.\n",
              "- Pipeline and ColumnTransformer use this feature and define the default style\n",
              "- Estimators will overwrite some part of the style using the `sk-estimator` class\n",
              "*/\n",
              "\n",
              "/* Pipeline and ColumnTransformer style (default) */\n",
              "\n",
              "#sk-container-id-12 div.sk-toggleable {\n",
              "  /* Default theme specific background. It is overwritten whether we have a\n",
              "  specific estimator or a Pipeline/ColumnTransformer */\n",
              "  background-color: var(--sklearn-color-background);\n",
              "}\n",
              "\n",
              "/* Toggleable label */\n",
              "#sk-container-id-12 label.sk-toggleable__label {\n",
              "  cursor: pointer;\n",
              "  display: block;\n",
              "  width: 100%;\n",
              "  margin-bottom: 0;\n",
              "  padding: 0.5em;\n",
              "  box-sizing: border-box;\n",
              "  text-align: center;\n",
              "}\n",
              "\n",
              "#sk-container-id-12 label.sk-toggleable__label-arrow:before {\n",
              "  /* Arrow on the left of the label */\n",
              "  content: \"▸\";\n",
              "  float: left;\n",
              "  margin-right: 0.25em;\n",
              "  color: var(--sklearn-color-icon);\n",
              "}\n",
              "\n",
              "#sk-container-id-12 label.sk-toggleable__label-arrow:hover:before {\n",
              "  color: var(--sklearn-color-text);\n",
              "}\n",
              "\n",
              "/* Toggleable content - dropdown */\n",
              "\n",
              "#sk-container-id-12 div.sk-toggleable__content {\n",
              "  max-height: 0;\n",
              "  max-width: 0;\n",
              "  overflow: hidden;\n",
              "  text-align: left;\n",
              "  /* unfitted */\n",
              "  background-color: var(--sklearn-color-unfitted-level-0);\n",
              "}\n",
              "\n",
              "#sk-container-id-12 div.sk-toggleable__content.fitted {\n",
              "  /* fitted */\n",
              "  background-color: var(--sklearn-color-fitted-level-0);\n",
              "}\n",
              "\n",
              "#sk-container-id-12 div.sk-toggleable__content pre {\n",
              "  margin: 0.2em;\n",
              "  border-radius: 0.25em;\n",
              "  color: var(--sklearn-color-text);\n",
              "  /* unfitted */\n",
              "  background-color: var(--sklearn-color-unfitted-level-0);\n",
              "}\n",
              "\n",
              "#sk-container-id-12 div.sk-toggleable__content.fitted pre {\n",
              "  /* unfitted */\n",
              "  background-color: var(--sklearn-color-fitted-level-0);\n",
              "}\n",
              "\n",
              "#sk-container-id-12 input.sk-toggleable__control:checked~div.sk-toggleable__content {\n",
              "  /* Expand drop-down */\n",
              "  max-height: 200px;\n",
              "  max-width: 100%;\n",
              "  overflow: auto;\n",
              "}\n",
              "\n",
              "#sk-container-id-12 input.sk-toggleable__control:checked~label.sk-toggleable__label-arrow:before {\n",
              "  content: \"▾\";\n",
              "}\n",
              "\n",
              "/* Pipeline/ColumnTransformer-specific style */\n",
              "\n",
              "#sk-container-id-12 div.sk-label input.sk-toggleable__control:checked~label.sk-toggleable__label {\n",
              "  color: var(--sklearn-color-text);\n",
              "  background-color: var(--sklearn-color-unfitted-level-2);\n",
              "}\n",
              "\n",
              "#sk-container-id-12 div.sk-label.fitted input.sk-toggleable__control:checked~label.sk-toggleable__label {\n",
              "  background-color: var(--sklearn-color-fitted-level-2);\n",
              "}\n",
              "\n",
              "/* Estimator-specific style */\n",
              "\n",
              "/* Colorize estimator box */\n",
              "#sk-container-id-12 div.sk-estimator input.sk-toggleable__control:checked~label.sk-toggleable__label {\n",
              "  /* unfitted */\n",
              "  background-color: var(--sklearn-color-unfitted-level-2);\n",
              "}\n",
              "\n",
              "#sk-container-id-12 div.sk-estimator.fitted input.sk-toggleable__control:checked~label.sk-toggleable__label {\n",
              "  /* fitted */\n",
              "  background-color: var(--sklearn-color-fitted-level-2);\n",
              "}\n",
              "\n",
              "#sk-container-id-12 div.sk-label label.sk-toggleable__label,\n",
              "#sk-container-id-12 div.sk-label label {\n",
              "  /* The background is the default theme color */\n",
              "  color: var(--sklearn-color-text-on-default-background);\n",
              "}\n",
              "\n",
              "/* On hover, darken the color of the background */\n",
              "#sk-container-id-12 div.sk-label:hover label.sk-toggleable__label {\n",
              "  color: var(--sklearn-color-text);\n",
              "  background-color: var(--sklearn-color-unfitted-level-2);\n",
              "}\n",
              "\n",
              "/* Label box, darken color on hover, fitted */\n",
              "#sk-container-id-12 div.sk-label.fitted:hover label.sk-toggleable__label.fitted {\n",
              "  color: var(--sklearn-color-text);\n",
              "  background-color: var(--sklearn-color-fitted-level-2);\n",
              "}\n",
              "\n",
              "/* Estimator label */\n",
              "\n",
              "#sk-container-id-12 div.sk-label label {\n",
              "  font-family: monospace;\n",
              "  font-weight: bold;\n",
              "  display: inline-block;\n",
              "  line-height: 1.2em;\n",
              "}\n",
              "\n",
              "#sk-container-id-12 div.sk-label-container {\n",
              "  text-align: center;\n",
              "}\n",
              "\n",
              "/* Estimator-specific */\n",
              "#sk-container-id-12 div.sk-estimator {\n",
              "  font-family: monospace;\n",
              "  border: 1px dotted var(--sklearn-color-border-box);\n",
              "  border-radius: 0.25em;\n",
              "  box-sizing: border-box;\n",
              "  margin-bottom: 0.5em;\n",
              "  /* unfitted */\n",
              "  background-color: var(--sklearn-color-unfitted-level-0);\n",
              "}\n",
              "\n",
              "#sk-container-id-12 div.sk-estimator.fitted {\n",
              "  /* fitted */\n",
              "  background-color: var(--sklearn-color-fitted-level-0);\n",
              "}\n",
              "\n",
              "/* on hover */\n",
              "#sk-container-id-12 div.sk-estimator:hover {\n",
              "  /* unfitted */\n",
              "  background-color: var(--sklearn-color-unfitted-level-2);\n",
              "}\n",
              "\n",
              "#sk-container-id-12 div.sk-estimator.fitted:hover {\n",
              "  /* fitted */\n",
              "  background-color: var(--sklearn-color-fitted-level-2);\n",
              "}\n",
              "\n",
              "/* Specification for estimator info (e.g. \"i\" and \"?\") */\n",
              "\n",
              "/* Common style for \"i\" and \"?\" */\n",
              "\n",
              ".sk-estimator-doc-link,\n",
              "a:link.sk-estimator-doc-link,\n",
              "a:visited.sk-estimator-doc-link {\n",
              "  float: right;\n",
              "  font-size: smaller;\n",
              "  line-height: 1em;\n",
              "  font-family: monospace;\n",
              "  background-color: var(--sklearn-color-background);\n",
              "  border-radius: 1em;\n",
              "  height: 1em;\n",
              "  width: 1em;\n",
              "  text-decoration: none !important;\n",
              "  margin-left: 1ex;\n",
              "  /* unfitted */\n",
              "  border: var(--sklearn-color-unfitted-level-1) 1pt solid;\n",
              "  color: var(--sklearn-color-unfitted-level-1);\n",
              "}\n",
              "\n",
              ".sk-estimator-doc-link.fitted,\n",
              "a:link.sk-estimator-doc-link.fitted,\n",
              "a:visited.sk-estimator-doc-link.fitted {\n",
              "  /* fitted */\n",
              "  border: var(--sklearn-color-fitted-level-1) 1pt solid;\n",
              "  color: var(--sklearn-color-fitted-level-1);\n",
              "}\n",
              "\n",
              "/* On hover */\n",
              "div.sk-estimator:hover .sk-estimator-doc-link:hover,\n",
              ".sk-estimator-doc-link:hover,\n",
              "div.sk-label-container:hover .sk-estimator-doc-link:hover,\n",
              ".sk-estimator-doc-link:hover {\n",
              "  /* unfitted */\n",
              "  background-color: var(--sklearn-color-unfitted-level-3);\n",
              "  color: var(--sklearn-color-background);\n",
              "  text-decoration: none;\n",
              "}\n",
              "\n",
              "div.sk-estimator.fitted:hover .sk-estimator-doc-link.fitted:hover,\n",
              ".sk-estimator-doc-link.fitted:hover,\n",
              "div.sk-label-container:hover .sk-estimator-doc-link.fitted:hover,\n",
              ".sk-estimator-doc-link.fitted:hover {\n",
              "  /* fitted */\n",
              "  background-color: var(--sklearn-color-fitted-level-3);\n",
              "  color: var(--sklearn-color-background);\n",
              "  text-decoration: none;\n",
              "}\n",
              "\n",
              "/* Span, style for the box shown on hovering the info icon */\n",
              ".sk-estimator-doc-link span {\n",
              "  display: none;\n",
              "  z-index: 9999;\n",
              "  position: relative;\n",
              "  font-weight: normal;\n",
              "  right: .2ex;\n",
              "  padding: .5ex;\n",
              "  margin: .5ex;\n",
              "  width: min-content;\n",
              "  min-width: 20ex;\n",
              "  max-width: 50ex;\n",
              "  color: var(--sklearn-color-text);\n",
              "  box-shadow: 2pt 2pt 4pt #999;\n",
              "  /* unfitted */\n",
              "  background: var(--sklearn-color-unfitted-level-0);\n",
              "  border: .5pt solid var(--sklearn-color-unfitted-level-3);\n",
              "}\n",
              "\n",
              ".sk-estimator-doc-link.fitted span {\n",
              "  /* fitted */\n",
              "  background: var(--sklearn-color-fitted-level-0);\n",
              "  border: var(--sklearn-color-fitted-level-3);\n",
              "}\n",
              "\n",
              ".sk-estimator-doc-link:hover span {\n",
              "  display: block;\n",
              "}\n",
              "\n",
              "/* \"?\"-specific style due to the `<a>` HTML tag */\n",
              "\n",
              "#sk-container-id-12 a.estimator_doc_link {\n",
              "  float: right;\n",
              "  font-size: 1rem;\n",
              "  line-height: 1em;\n",
              "  font-family: monospace;\n",
              "  background-color: var(--sklearn-color-background);\n",
              "  border-radius: 1rem;\n",
              "  height: 1rem;\n",
              "  width: 1rem;\n",
              "  text-decoration: none;\n",
              "  /* unfitted */\n",
              "  color: var(--sklearn-color-unfitted-level-1);\n",
              "  border: var(--sklearn-color-unfitted-level-1) 1pt solid;\n",
              "}\n",
              "\n",
              "#sk-container-id-12 a.estimator_doc_link.fitted {\n",
              "  /* fitted */\n",
              "  border: var(--sklearn-color-fitted-level-1) 1pt solid;\n",
              "  color: var(--sklearn-color-fitted-level-1);\n",
              "}\n",
              "\n",
              "/* On hover */\n",
              "#sk-container-id-12 a.estimator_doc_link:hover {\n",
              "  /* unfitted */\n",
              "  background-color: var(--sklearn-color-unfitted-level-3);\n",
              "  color: var(--sklearn-color-background);\n",
              "  text-decoration: none;\n",
              "}\n",
              "\n",
              "#sk-container-id-12 a.estimator_doc_link.fitted:hover {\n",
              "  /* fitted */\n",
              "  background-color: var(--sklearn-color-fitted-level-3);\n",
              "}\n",
              "</style><div id=\"sk-container-id-12\" class=\"sk-top-container\"><div class=\"sk-text-repr-fallback\"><pre>DecisionTreeRegressor(max_depth=3, random_state=42)</pre><b>In a Jupyter environment, please rerun this cell to show the HTML representation or trust the notebook. <br />On GitHub, the HTML representation is unable to render, please try loading this page with nbviewer.org.</b></div><div class=\"sk-container\" hidden><div class=\"sk-item\"><div class=\"sk-estimator fitted sk-toggleable\"><input class=\"sk-toggleable__control sk-hidden--visually\" id=\"sk-estimator-id-14\" type=\"checkbox\" checked><label for=\"sk-estimator-id-14\" class=\"sk-toggleable__label fitted sk-toggleable__label-arrow fitted\">&nbsp;&nbsp;DecisionTreeRegressor<a class=\"sk-estimator-doc-link fitted\" rel=\"noreferrer\" target=\"_blank\" href=\"https://scikit-learn.org/1.5/modules/generated/sklearn.tree.DecisionTreeRegressor.html\">?<span>Documentation for DecisionTreeRegressor</span></a><span class=\"sk-estimator-doc-link fitted\">i<span>Fitted</span></span></label><div class=\"sk-toggleable__content fitted\"><pre>DecisionTreeRegressor(max_depth=3, random_state=42)</pre></div> </div></div></div></div>"
            ]
          },
          "metadata": {},
          "execution_count": 81
        }
      ],
      "source": [
        "tree_reg2 = DecisionTreeRegressor(max_depth=3, random_state=42)\n",
        "tree_reg2.fit(X_quad, y_quad)"
      ]
    },
    {
      "cell_type": "code",
      "execution_count": null,
      "metadata": {
        "colab": {
          "base_uri": "https://localhost:8080/"
        },
        "id": "tSJaXLfVYLPI",
        "outputId": "3362ddb9-e558-493f-c5d3-cc5158cdf780"
      },
      "outputs": [
        {
          "output_type": "execute_result",
          "data": {
            "text/plain": [
              "array([-0.30265072, -0.40830374, -2.        , -2.        ,  0.27175756,\n",
              "       -2.        , -2.        ])"
            ]
          },
          "metadata": {},
          "execution_count": 82
        }
      ],
      "source": [
        "tree_reg.tree_.threshold"
      ]
    },
    {
      "cell_type": "code",
      "execution_count": null,
      "metadata": {
        "colab": {
          "base_uri": "https://localhost:8080/"
        },
        "id": "peU0sLJ2YLPI",
        "outputId": "905a74cf-6e37-46a2-db7c-252dc9c59222"
      },
      "outputs": [
        {
          "output_type": "execute_result",
          "data": {
            "text/plain": [
              "array([-0.30265072, -0.40830374, -0.45416115, -2.        , -2.        ,\n",
              "       -0.37022041, -2.        , -2.        ,  0.27175756, -0.21270403,\n",
              "       -2.        , -2.        ,  0.40399227, -2.        , -2.        ])"
            ]
          },
          "metadata": {},
          "execution_count": 83
        }
      ],
      "source": [
        "tree_reg2.tree_.threshold"
      ]
    },
    {
      "cell_type": "code",
      "execution_count": null,
      "metadata": {
        "colab": {
          "base_uri": "https://localhost:8080/",
          "height": 340
        },
        "id": "t0gVG_wVYLPI",
        "outputId": "d8444975-eb33-4eaf-f115-0cfe5abe16a5"
      },
      "outputs": [
        {
          "output_type": "display_data",
          "data": {
            "text/plain": [
              "<Figure size 1000x400 with 2 Axes>"
            ],
            "image/png": "[encoded data removed]"
          },
          "metadata": {}
        }
      ],
      "source": [
        "# 추가 코드 - 이 셀은 그림 6-5를 생성하고 저장합니다.\n",
        "\n",
        "def plot_regression_predictions(tree_reg, X, y, axes=[-0.5, 0.5, -0.05, 0.25]):\n",
        "    x1 = np.linspace(axes[0], axes[1], 500).reshape(-1, 1)\n",
        "    y_pred = tree_reg.predict(x1)\n",
        "    plt.axis(axes)\n",
        "    plt.xlabel(\"$x_1$\")\n",
        "    plt.plot(X, y, \"b.\")\n",
        "    plt.plot(x1, y_pred, \"r.-\", linewidth=2, label=r\"$\\hat{y}$\")\n",
        "\n",
        "fig, axes = plt.subplots(ncols=2, figsize=(10, 4), sharey=True)\n",
        "plt.sca(axes[0])\n",
        "plot_regression_predictions(tree_reg, X_quad, y_quad)\n",
        "\n",
        "th0, th1a, th1b = tree_reg.tree_.threshold[[0, 1, 4]]\n",
        "for split, style in ((th0, \"k-\"), (th1a, \"k--\"), (th1b, \"k--\")):\n",
        "    plt.plot([split, split], [-0.05, 0.25], style, linewidth=2)\n",
        "plt.text(th0, 0.16, \"Depth=0\", fontsize=15)\n",
        "plt.text(th1a + 0.01, -0.01, \"Depth=1\", horizontalalignment=\"center\", fontsize=13)\n",
        "plt.text(th1b + 0.01, -0.01, \"Depth=1\", fontsize=13)\n",
        "plt.ylabel(\"$y$\", rotation=0)\n",
        "plt.legend(loc=\"upper center\", fontsize=16)\n",
        "plt.title(\"max_depth=2\")\n",
        "\n",
        "plt.sca(axes[1])\n",
        "th2s = tree_reg2.tree_.threshold[[2, 5, 9, 12]]\n",
        "plot_regression_predictions(tree_reg2, X_quad, y_quad)\n",
        "for split, style in ((th0, \"k-\"), (th1a, \"k--\"), (th1b, \"k--\")):\n",
        "    plt.plot([split, split], [-0.05, 0.25], style, linewidth=2)\n",
        "for split in th2s:\n",
        "    plt.plot([split, split], [-0.05, 0.25], \"k:\", linewidth=1)\n",
        "plt.text(th2s[2] + 0.01, 0.15, \"Depth=2\", fontsize=13)\n",
        "plt.title(\"max_depth=3\")\n",
        "\n",
        "save_fig(\"tree_regression_plot\")\n",
        "plt.show()"
      ]
    },
    {
      "cell_type": "code",
      "execution_count": null,
      "metadata": {
        "colab": {
          "base_uri": "https://localhost:8080/",
          "height": 340
        },
        "id": "Vgm206zYYLPJ",
        "outputId": "6bebc232-c32d-4312-af2f-340b6ccdd6e8"
      },
      "outputs": [
        {
          "output_type": "display_data",
          "data": {
            "text/plain": [
              "<Figure size 1000x400 with 2 Axes>"
            ],
            "image/png": "[encoded data removed]"
          },
          "metadata": {}
        }
      ],
      "source": [
        "# 추가 코드 - 이 셀은 그림 6-6을 생성하고 저장합니다.\n",
        "\n",
        "tree_reg1 = DecisionTreeRegressor(random_state=42)\n",
        "tree_reg2 = DecisionTreeRegressor(random_state=42, min_samples_leaf=10)\n",
        "tree_reg1.fit(X_quad, y_quad)\n",
        "tree_reg2.fit(X_quad, y_quad)\n",
        "\n",
        "x1 = np.linspace(-0.5, 0.5, 500).reshape(-1, 1)\n",
        "y_pred1 = tree_reg1.predict(x1)\n",
        "y_pred2 = tree_reg2.predict(x1)\n",
        "\n",
        "fig, axes = plt.subplots(ncols=2, figsize=(10, 4), sharey=True)\n",
        "\n",
        "plt.sca(axes[0])\n",
        "plt.plot(X_quad, y_quad, \"b.\")\n",
        "plt.plot(x1, y_pred1, \"r.-\", linewidth=2, label=r\"$\\hat{y}$\")\n",
        "plt.axis([-0.5, 0.5, -0.05, 0.25])\n",
        "plt.xlabel(\"$x_1$\")\n",
        "plt.ylabel(\"$y$\", rotation=0)\n",
        "plt.legend(loc=\"upper center\")\n",
        "plt.title(\"No restrictions\")\n",
        "\n",
        "plt.sca(axes[1])\n",
        "plt.plot(X_quad, y_quad, \"b.\")\n",
        "plt.plot(x1, y_pred2, \"r.-\", linewidth=2, label=r\"$\\hat{y}$\")\n",
        "plt.axis([-0.5, 0.5, -0.05, 0.25])\n",
        "plt.xlabel(\"$x_1$\")\n",
        "plt.title(f\"min_samples_leaf={tree_reg2.min_samples_leaf}\")\n",
        "\n",
        "save_fig(\"tree_regression_regularization_plot\")\n",
        "plt.show()"
      ]
    },
    {
      "cell_type": "markdown",
      "metadata": {
        "id": "E3n-_dz8YLPJ"
      },
      "source": [
        "# 축 방향에 대한 민감성"
      ]
    },
    {
      "cell_type": "markdown",
      "metadata": {
        "id": "Drcymb5NYLPJ"
      },
      "source": [
        "데이터셋을 회전하면 결정 경계가 완전히 달라집니다:"
      ]
    },
    {
      "cell_type": "code",
      "execution_count": null,
      "metadata": {
        "colab": {
          "base_uri": "https://localhost:8080/",
          "height": 340
        },
        "id": "lkU3rJoSYLPJ",
        "outputId": "6d8ee604-ebf2-4f9e-ba78-0752a8a6140c"
      },
      "outputs": [
        {
          "output_type": "display_data",
          "data": {
            "text/plain": [
              "<Figure size 1000x400 with 2 Axes>"
            ],
            "image/png": "[encoded data removed]"
          },
          "metadata": {}
        }
      ],
      "source": [
        "# 추가 코드 - 이 셀은 그림 6-7을 생성하고 저장합니다.\n",
        "\n",
        "np.random.seed(6)\n",
        "X_square = np.random.rand(100, 2) - 0.5\n",
        "y_square = (X_square[:, 0] > 0).astype(np.int64)\n",
        "\n",
        "angle = np.pi / 4  # 45 도\n",
        "rotation_matrix = np.array([[np.cos(angle), -np.sin(angle)],\n",
        "                            [np.sin(angle), np.cos(angle)]])\n",
        "X_rotated_square = X_square.dot(rotation_matrix)\n",
        "\n",
        "tree_clf_square = DecisionTreeClassifier(random_state=42)\n",
        "tree_clf_square.fit(X_square, y_square)\n",
        "tree_clf_rotated_square = DecisionTreeClassifier(random_state=42)\n",
        "tree_clf_rotated_square.fit(X_rotated_square, y_square)\n",
        "\n",
        "fig, axes = plt.subplots(ncols=2, figsize=(10, 4), sharey=True)\n",
        "plt.sca(axes[0])\n",
        "plot_decision_boundary(tree_clf_square, X_square, y_square,\n",
        "                       axes=[-0.7, 0.7, -0.7, 0.7], cmap=\"Pastel1\")\n",
        "plt.sca(axes[1])\n",
        "plot_decision_boundary(tree_clf_rotated_square, X_rotated_square, y_square,\n",
        "                       axes=[-0.7, 0.7, -0.7, 0.7], cmap=\"Pastel1\")\n",
        "plt.ylabel(\"\")\n",
        "\n",
        "save_fig(\"sensitivity_to_rotation_plot\")\n",
        "plt.show()"
      ]
    },
    {
      "cell_type": "code",
      "execution_count": null,
      "metadata": {
        "colab": {
          "base_uri": "https://localhost:8080/",
          "height": 80
        },
        "id": "UsWhO-vtYLPJ",
        "outputId": "dcd44773-7399-4226-cfbc-01ae17bcd07d"
      },
      "outputs": [
        {
          "output_type": "execute_result",
          "data": {
            "text/plain": [
              "DecisionTreeClassifier(max_depth=2, random_state=42)"
            ],
            "text/html": [
              "<style>#sk-container-id-13 {\n",
              "  /* Definition of color scheme common for light and dark mode */\n",
              "  --sklearn-color-text: black;\n",
              "  --sklearn-color-line: gray;\n",
              "  /* Definition of color scheme for unfitted estimators */\n",
              "  --sklearn-color-unfitted-level-0: #fff5e6;\n",
              "  --sklearn-color-unfitted-level-1: #f6e4d2;\n",
              "  --sklearn-color-unfitted-level-2: #ffe0b3;\n",
              "  --sklearn-color-unfitted-level-3: chocolate;\n",
              "  /* Definition of color scheme for fitted estimators */\n",
              "  --sklearn-color-fitted-level-0: #f0f8ff;\n",
              "  --sklearn-color-fitted-level-1: #d4ebff;\n",
              "  --sklearn-color-fitted-level-2: #b3dbfd;\n",
              "  --sklearn-color-fitted-level-3: cornflowerblue;\n",
              "\n",
              "  /* Specific color for light theme */\n",
              "  --sklearn-color-text-on-default-background: var(--sg-text-color, var(--theme-code-foreground, var(--jp-content-font-color1, black)));\n",
              "  --sklearn-color-background: var(--sg-background-color, var(--theme-background, var(--jp-layout-color0, white)));\n",
              "  --sklearn-color-border-box: var(--sg-text-color, var(--theme-code-foreground, var(--jp-content-font-color1, black)));\n",
              "  --sklearn-color-icon: #696969;\n",
              "\n",
              "  @media (prefers-color-scheme: dark) {\n",
              "    /* Redefinition of color scheme for dark theme */\n",
              "    --sklearn-color-text-on-default-background: var(--sg-text-color, var(--theme-code-foreground, var(--jp-content-font-color1, white)));\n",
              "    --sklearn-color-background: var(--sg-background-color, var(--theme-background, var(--jp-layout-color0, #111)));\n",
              "    --sklearn-color-border-box: var(--sg-text-color, var(--theme-code-foreground, var(--jp-content-font-color1, white)));\n",
              "    --sklearn-color-icon: #878787;\n",
              "  }\n",
              "}\n",
              "\n",
              "#sk-container-id-13 {\n",
              "  color: var(--sklearn-color-text);\n",
              "}\n",
              "\n",
              "#sk-container-id-13 pre {\n",
              "  padding: 0;\n",
              "}\n",
              "\n",
              "#sk-container-id-13 input.sk-hidden--visually {\n",
              "  border: 0;\n",
              "  clip: rect(1px 1px 1px 1px);\n",
              "  clip: rect(1px, 1px, 1px, 1px);\n",
              "  height: 1px;\n",
              "  margin: -1px;\n",
              "  overflow: hidden;\n",
              "  padding: 0;\n",
              "  position: absolute;\n",
              "  width: 1px;\n",
              "}\n",
              "\n",
              "#sk-container-id-13 div.sk-dashed-wrapped {\n",
              "  border: 1px dashed var(--sklearn-color-line);\n",
              "  margin: 0 0.4em 0.5em 0.4em;\n",
              "  box-sizing: border-box;\n",
              "  padding-bottom: 0.4em;\n",
              "  background-color: var(--sklearn-color-background);\n",
              "}\n",
              "\n",
              "#sk-container-id-13 div.sk-container {\n",
              "  /* jupyter's `normalize.less` sets `[hidden] { display: none; }`\n",
              "     but bootstrap.min.css set `[hidden] { display: none !important; }`\n",
              "     so we also need the `!important` here to be able to override the\n",
              "     default hidden behavior on the sphinx rendered scikit-learn.org.\n",
              "     See: https://github.com/scikit-learn/scikit-learn/issues/21755 */\n",
              "  display: inline-block !important;\n",
              "  position: relative;\n",
              "}\n",
              "\n",
              "#sk-container-id-13 div.sk-text-repr-fallback {\n",
              "  display: none;\n",
              "}\n",
              "\n",
              "div.sk-parallel-item,\n",
              "div.sk-serial,\n",
              "div.sk-item {\n",
              "  /* draw centered vertical line to link estimators */\n",
              "  background-image: linear-gradient(var(--sklearn-color-text-on-default-background), var(--sklearn-color-text-on-default-background));\n",
              "  background-size: 2px 100%;\n",
              "  background-repeat: no-repeat;\n",
              "  background-position: center center;\n",
              "}\n",
              "\n",
              "/* Parallel-specific style estimator block */\n",
              "\n",
              "#sk-container-id-13 div.sk-parallel-item::after {\n",
              "  content: \"\";\n",
              "  width: 100%;\n",
              "  border-bottom: 2px solid var(--sklearn-color-text-on-default-background);\n",
              "  flex-grow: 1;\n",
              "}\n",
              "\n",
              "#sk-container-id-13 div.sk-parallel {\n",
              "  display: flex;\n",
              "  align-items: stretch;\n",
              "  justify-content: center;\n",
              "  background-color: var(--sklearn-color-background);\n",
              "  position: relative;\n",
              "}\n",
              "\n",
              "#sk-container-id-13 div.sk-parallel-item {\n",
              "  display: flex;\n",
              "  flex-direction: column;\n",
              "}\n",
              "\n",
              "#sk-container-id-13 div.sk-parallel-item:first-child::after {\n",
              "  align-self: flex-end;\n",
              "  width: 50%;\n",
              "}\n",
              "\n",
              "#sk-container-id-13 div.sk-parallel-item:last-child::after {\n",
              "  align-self: flex-start;\n",
              "  width: 50%;\n",
              "}\n",
              "\n",
              "#sk-container-id-13 div.sk-parallel-item:only-child::after {\n",
              "  width: 0;\n",
              "}\n",
              "\n",
              "/* Serial-specific style estimator block */\n",
              "\n",
              "#sk-container-id-13 div.sk-serial {\n",
              "  display: flex;\n",
              "  flex-direction: column;\n",
              "  align-items: center;\n",
              "  background-color: var(--sklearn-color-background);\n",
              "  padding-right: 1em;\n",
              "  padding-left: 1em;\n",
              "}\n",
              "\n",
              "\n",
              "/* Toggleable style: style used for estimator/Pipeline/ColumnTransformer box that is\n",
              "clickable and can be expanded/collapsed.\n",
              "- Pipeline and ColumnTransformer use this feature and define the default style\n",
              "- Estimators will overwrite some part of the style using the `sk-estimator` class\n",
              "*/\n",
              "\n",
              "/* Pipeline and ColumnTransformer style (default) */\n",
              "\n",
              "#sk-container-id-13 div.sk-toggleable {\n",
              "  /* Default theme specific background. It is overwritten whether we have a\n",
              "  specific estimator or a Pipeline/ColumnTransformer */\n",
              "  background-color: var(--sklearn-color-background);\n",
              "}\n",
              "\n",
              "/* Toggleable label */\n",
              "#sk-container-id-13 label.sk-toggleable__label {\n",
              "  cursor: pointer;\n",
              "  display: block;\n",
              "  width: 100%;\n",
              "  margin-bottom: 0;\n",
              "  padding: 0.5em;\n",
              "  box-sizing: border-box;\n",
              "  text-align: center;\n",
              "}\n",
              "\n",
              "#sk-container-id-13 label.sk-toggleable__label-arrow:before {\n",
              "  /* Arrow on the left of the label */\n",
              "  content: \"▸\";\n",
              "  float: left;\n",
              "  margin-right: 0.25em;\n",
              "  color: var(--sklearn-color-icon);\n",
              "}\n",
              "\n",
              "#sk-container-id-13 label.sk-toggleable__label-arrow:hover:before {\n",
              "  color: var(--sklearn-color-text);\n",
              "}\n",
              "\n",
              "/* Toggleable content - dropdown */\n",
              "\n",
              "#sk-container-id-13 div.sk-toggleable__content {\n",
              "  max-height: 0;\n",
              "  max-width: 0;\n",
              "  overflow: hidden;\n",
              "  text-align: left;\n",
              "  /* unfitted */\n",
              "  background-color: var(--sklearn-color-unfitted-level-0);\n",
              "}\n",
              "\n",
              "#sk-container-id-13 div.sk-toggleable__content.fitted {\n",
              "  /* fitted */\n",
              "  background-color: var(--sklearn-color-fitted-level-0);\n",
              "}\n",
              "\n",
              "#sk-container-id-13 div.sk-toggleable__content pre {\n",
              "  margin: 0.2em;\n",
              "  border-radius: 0.25em;\n",
              "  color: var(--sklearn-color-text);\n",
              "  /* unfitted */\n",
              "  background-color: var(--sklearn-color-unfitted-level-0);\n",
              "}\n",
              "\n",
              "#sk-container-id-13 div.sk-toggleable__content.fitted pre {\n",
              "  /* unfitted */\n",
              "  background-color: var(--sklearn-color-fitted-level-0);\n",
              "}\n",
              "\n",
              "#sk-container-id-13 input.sk-toggleable__control:checked~div.sk-toggleable__content {\n",
              "  /* Expand drop-down */\n",
              "  max-height: 200px;\n",
              "  max-width: 100%;\n",
              "  overflow: auto;\n",
              "}\n",
              "\n",
              "#sk-container-id-13 input.sk-toggleable__control:checked~label.sk-toggleable__label-arrow:before {\n",
              "  content: \"▾\";\n",
              "}\n",
              "\n",
              "/* Pipeline/ColumnTransformer-specific style */\n",
              "\n",
              "#sk-container-id-13 div.sk-label input.sk-toggleable__control:checked~label.sk-toggleable__label {\n",
              "  color: var(--sklearn-color-text);\n",
              "  background-color: var(--sklearn-color-unfitted-level-2);\n",
              "}\n",
              "\n",
              "#sk-container-id-13 div.sk-label.fitted input.sk-toggleable__control:checked~label.sk-toggleable__label {\n",
              "  background-color: var(--sklearn-color-fitted-level-2);\n",
              "}\n",
              "\n",
              "/* Estimator-specific style */\n",
              "\n",
              "/* Colorize estimator box */\n",
              "#sk-container-id-13 div.sk-estimator input.sk-toggleable__control:checked~label.sk-toggleable__label {\n",
              "  /* unfitted */\n",
              "  background-color: var(--sklearn-color-unfitted-level-2);\n",
              "}\n",
              "\n",
              "#sk-container-id-13 div.sk-estimator.fitted input.sk-toggleable__control:checked~label.sk-toggleable__label {\n",
              "  /* fitted */\n",
              "  background-color: var(--sklearn-color-fitted-level-2);\n",
              "}\n",
              "\n",
              "#sk-container-id-13 div.sk-label label.sk-toggleable__label,\n",
              "#sk-container-id-13 div.sk-label label {\n",
              "  /* The background is the default theme color */\n",
              "  color: var(--sklearn-color-text-on-default-background);\n",
              "}\n",
              "\n",
              "/* On hover, darken the color of the background */\n",
              "#sk-container-id-13 div.sk-label:hover label.sk-toggleable__label {\n",
              "  color: var(--sklearn-color-text);\n",
              "  background-color: var(--sklearn-color-unfitted-level-2);\n",
              "}\n",
              "\n",
              "/* Label box, darken color on hover, fitted */\n",
              "#sk-container-id-13 div.sk-label.fitted:hover label.sk-toggleable__label.fitted {\n",
              "  color: var(--sklearn-color-text);\n",
              "  background-color: var(--sklearn-color-fitted-level-2);\n",
              "}\n",
              "\n",
              "/* Estimator label */\n",
              "\n",
              "#sk-container-id-13 div.sk-label label {\n",
              "  font-family: monospace;\n",
              "  font-weight: bold;\n",
              "  display: inline-block;\n",
              "  line-height: 1.2em;\n",
              "}\n",
              "\n",
              "#sk-container-id-13 div.sk-label-container {\n",
              "  text-align: center;\n",
              "}\n",
              "\n",
              "/* Estimator-specific */\n",
              "#sk-container-id-13 div.sk-estimator {\n",
              "  font-family: monospace;\n",
              "  border: 1px dotted var(--sklearn-color-border-box);\n",
              "  border-radius: 0.25em;\n",
              "  box-sizing: border-box;\n",
              "  margin-bottom: 0.5em;\n",
              "  /* unfitted */\n",
              "  background-color: var(--sklearn-color-unfitted-level-0);\n",
              "}\n",
              "\n",
              "#sk-container-id-13 div.sk-estimator.fitted {\n",
              "  /* fitted */\n",
              "  background-color: var(--sklearn-color-fitted-level-0);\n",
              "}\n",
              "\n",
              "/* on hover */\n",
              "#sk-container-id-13 div.sk-estimator:hover {\n",
              "  /* unfitted */\n",
              "  background-color: var(--sklearn-color-unfitted-level-2);\n",
              "}\n",
              "\n",
              "#sk-container-id-13 div.sk-estimator.fitted:hover {\n",
              "  /* fitted */\n",
              "  background-color: var(--sklearn-color-fitted-level-2);\n",
              "}\n",
              "\n",
              "/* Specification for estimator info (e.g. \"i\" and \"?\") */\n",
              "\n",
              "/* Common style for \"i\" and \"?\" */\n",
              "\n",
              ".sk-estimator-doc-link,\n",
              "a:link.sk-estimator-doc-link,\n",
              "a:visited.sk-estimator-doc-link {\n",
              "  float: right;\n",
              "  font-size: smaller;\n",
              "  line-height: 1em;\n",
              "  font-family: monospace;\n",
              "  background-color: var(--sklearn-color-background);\n",
              "  border-radius: 1em;\n",
              "  height: 1em;\n",
              "  width: 1em;\n",
              "  text-decoration: none !important;\n",
              "  margin-left: 1ex;\n",
              "  /* unfitted */\n",
              "  border: var(--sklearn-color-unfitted-level-1) 1pt solid;\n",
              "  color: var(--sklearn-color-unfitted-level-1);\n",
              "}\n",
              "\n",
              ".sk-estimator-doc-link.fitted,\n",
              "a:link.sk-estimator-doc-link.fitted,\n",
              "a:visited.sk-estimator-doc-link.fitted {\n",
              "  /* fitted */\n",
              "  border: var(--sklearn-color-fitted-level-1) 1pt solid;\n",
              "  color: var(--sklearn-color-fitted-level-1);\n",
              "}\n",
              "\n",
              "/* On hover */\n",
              "div.sk-estimator:hover .sk-estimator-doc-link:hover,\n",
              ".sk-estimator-doc-link:hover,\n",
              "div.sk-label-container:hover .sk-estimator-doc-link:hover,\n",
              ".sk-estimator-doc-link:hover {\n",
              "  /* unfitted */\n",
              "  background-color: var(--sklearn-color-unfitted-level-3);\n",
              "  color: var(--sklearn-color-background);\n",
              "  text-decoration: none;\n",
              "}\n",
              "\n",
              "div.sk-estimator.fitted:hover .sk-estimator-doc-link.fitted:hover,\n",
              ".sk-estimator-doc-link.fitted:hover,\n",
              "div.sk-label-container:hover .sk-estimator-doc-link.fitted:hover,\n",
              ".sk-estimator-doc-link.fitted:hover {\n",
              "  /* fitted */\n",
              "  background-color: var(--sklearn-color-fitted-level-3);\n",
              "  color: var(--sklearn-color-background);\n",
              "  text-decoration: none;\n",
              "}\n",
              "\n",
              "/* Span, style for the box shown on hovering the info icon */\n",
              ".sk-estimator-doc-link span {\n",
              "  display: none;\n",
              "  z-index: 9999;\n",
              "  position: relative;\n",
              "  font-weight: normal;\n",
              "  right: .2ex;\n",
              "  padding: .5ex;\n",
              "  margin: .5ex;\n",
              "  width: min-content;\n",
              "  min-width: 20ex;\n",
              "  max-width: 50ex;\n",
              "  color: var(--sklearn-color-text);\n",
              "  box-shadow: 2pt 2pt 4pt #999;\n",
              "  /* unfitted */\n",
              "  background: var(--sklearn-color-unfitted-level-0);\n",
              "  border: .5pt solid var(--sklearn-color-unfitted-level-3);\n",
              "}\n",
              "\n",
              ".sk-estimator-doc-link.fitted span {\n",
              "  /* fitted */\n",
              "  background: var(--sklearn-color-fitted-level-0);\n",
              "  border: var(--sklearn-color-fitted-level-3);\n",
              "}\n",
              "\n",
              ".sk-estimator-doc-link:hover span {\n",
              "  display: block;\n",
              "}\n",
              "\n",
              "/* \"?\"-specific style due to the `<a>` HTML tag */\n",
              "\n",
              "#sk-container-id-13 a.estimator_doc_link {\n",
              "  float: right;\n",
              "  font-size: 1rem;\n",
              "  line-height: 1em;\n",
              "  font-family: monospace;\n",
              "  background-color: var(--sklearn-color-background);\n",
              "  border-radius: 1rem;\n",
              "  height: 1rem;\n",
              "  width: 1rem;\n",
              "  text-decoration: none;\n",
              "  /* unfitted */\n",
              "  color: var(--sklearn-color-unfitted-level-1);\n",
              "  border: var(--sklearn-color-unfitted-level-1) 1pt solid;\n",
              "}\n",
              "\n",
              "#sk-container-id-13 a.estimator_doc_link.fitted {\n",
              "  /* fitted */\n",
              "  border: var(--sklearn-color-fitted-level-1) 1pt solid;\n",
              "  color: var(--sklearn-color-fitted-level-1);\n",
              "}\n",
              "\n",
              "/* On hover */\n",
              "#sk-container-id-13 a.estimator_doc_link:hover {\n",
              "  /* unfitted */\n",
              "  background-color: var(--sklearn-color-unfitted-level-3);\n",
              "  color: var(--sklearn-color-background);\n",
              "  text-decoration: none;\n",
              "}\n",
              "\n",
              "#sk-container-id-13 a.estimator_doc_link.fitted:hover {\n",
              "  /* fitted */\n",
              "  background-color: var(--sklearn-color-fitted-level-3);\n",
              "}\n",
              "</style><div id=\"sk-container-id-13\" class=\"sk-top-container\"><div class=\"sk-text-repr-fallback\"><pre>DecisionTreeClassifier(max_depth=2, random_state=42)</pre><b>In a Jupyter environment, please rerun this cell to show the HTML representation or trust the notebook. <br />On GitHub, the HTML representation is unable to render, please try loading this page with nbviewer.org.</b></div><div class=\"sk-container\" hidden><div class=\"sk-item\"><div class=\"sk-estimator fitted sk-toggleable\"><input class=\"sk-toggleable__control sk-hidden--visually\" id=\"sk-estimator-id-15\" type=\"checkbox\" checked><label for=\"sk-estimator-id-15\" class=\"sk-toggleable__label fitted sk-toggleable__label-arrow fitted\">&nbsp;&nbsp;DecisionTreeClassifier<a class=\"sk-estimator-doc-link fitted\" rel=\"noreferrer\" target=\"_blank\" href=\"https://scikit-learn.org/1.5/modules/generated/sklearn.tree.DecisionTreeClassifier.html\">?<span>Documentation for DecisionTreeClassifier</span></a><span class=\"sk-estimator-doc-link fitted\">i<span>Fitted</span></span></label><div class=\"sk-toggleable__content fitted\"><pre>DecisionTreeClassifier(max_depth=2, random_state=42)</pre></div> </div></div></div></div>"
            ]
          },
          "metadata": {},
          "execution_count": 87
        }
      ],
      "source": [
        "from sklearn.decomposition import PCA\n",
        "from sklearn.pipeline import make_pipeline\n",
        "from sklearn.preprocessing import StandardScaler\n",
        "\n",
        "pca_pipeline = make_pipeline(StandardScaler(), PCA())\n",
        "X_iris_rotated = pca_pipeline.fit_transform(X_iris)\n",
        "tree_clf_pca = DecisionTreeClassifier(max_depth=2, random_state=42)\n",
        "tree_clf_pca.fit(X_iris_rotated, y_iris)"
      ]
    },
    {
      "cell_type": "code",
      "execution_count": null,
      "metadata": {
        "colab": {
          "base_uri": "https://localhost:8080/",
          "height": 939
        },
        "id": "ta5fSsRZYLPJ",
        "outputId": "8c19fa62-d649-4792-ec19-6544cb3c80df"
      },
      "outputs": [
        {
          "output_type": "error",
          "ename": "ValueError",
          "evalue": "['#fafab0', '#9898ff', '#a0faa0'] is not a valid value for cmap; supported values are 'Accent', 'Accent_r', 'Blues', 'Blues_r', 'BrBG', 'BrBG_r', 'BuGn', 'BuGn_r', 'BuPu', 'BuPu_r', 'CMRmap', 'CMRmap_r', 'Dark2', 'Dark2_r', 'GnBu', 'GnBu_r', 'Greens', 'Greens_r', 'Greys', 'Greys_r', 'OrRd', 'OrRd_r', 'Oranges', 'Oranges_r', 'PRGn', 'PRGn_r', 'Paired', 'Paired_r', 'Pastel1', 'Pastel1_r', 'Pastel2', 'Pastel2_r', 'PiYG', 'PiYG_r', 'PuBu', 'PuBuGn', 'PuBuGn_r', 'PuBu_r', 'PuOr', 'PuOr_r', 'PuRd', 'PuRd_r', 'Purples', 'Purples_r', 'RdBu', 'RdBu_r', 'RdGy', 'RdGy_r', 'RdPu', 'RdPu_r', 'RdYlBu', 'RdYlBu_r', 'RdYlGn', 'RdYlGn_r', 'Reds', 'Reds_r', 'Set1', 'Set1_r', 'Set2', 'Set2_r', 'Set3', 'Set3_r', 'Spectral', 'Spectral_r', 'Wistia', 'Wistia_r', 'YlGn', 'YlGnBu', 'YlGnBu_r', 'YlGn_r', 'YlOrBr', 'YlOrBr_r', 'YlOrRd', 'YlOrRd_r', 'afmhot', 'afmhot_r', 'autumn', 'autumn_r', 'binary', 'binary_r', 'bone', 'bone_r', 'brg', 'brg_r', 'bwr', 'bwr_r', 'cividis', 'cividis_r', 'cool', 'cool_r', 'coolwarm', 'coolwarm_r', 'copper', 'copper_r', 'cubehelix', 'cubehelix_r', 'flag', 'flag_r', 'gist_earth', 'gist_earth_r', 'gist_gray', 'gist_gray_r', 'gist_heat', 'gist_heat_r', 'gist_ncar', 'gist_ncar_r', 'gist_rainbow', 'gist_rainbow_r', 'gist_stern', 'gist_stern_r', 'gist_yarg', 'gist_yarg_r', 'gnuplot', 'gnuplot2', 'gnuplot2_r', 'gnuplot_r', 'gray', 'gray_r', 'hot', 'hot_r', 'hsv', 'hsv_r', 'inferno', 'inferno_r', 'jet', 'jet_r', 'magma', 'magma_r', 'nipy_spectral', 'nipy_spectral_r', 'ocean', 'ocean_r', 'pink', 'pink_r', 'plasma', 'plasma_r', 'prism', 'prism_r', 'rainbow', 'rainbow_r', 'seismic', 'seismic_r', 'spring', 'spring_r', 'summer', 'summer_r', 'tab10', 'tab10_r', 'tab20', 'tab20_r', 'tab20b', 'tab20b_r', 'tab20c', 'tab20c_r', 'terrain', 'terrain_r', 'turbo', 'turbo_r', 'twilight', 'twilight_r', 'twilight_shifted', 'twilight_shifted_r', 'viridis', 'viridis_r', 'winter', 'winter_r'",
          "traceback": [
            "\u001b[0;31m---------------------------------------------------------------------------\u001b[0m",
            "\u001b[0;31mValueError\u001b[0m                                Traceback (most recent call last)",
            "\u001b[0;32m<ipython-input-89-67dbe9f886d4>\u001b[0m in \u001b[0;36m<cell line: 11>\u001b[0;34m()\u001b[0m\n\u001b[1;32m      9\u001b[0m \u001b[0my_pred\u001b[0m \u001b[0;34m=\u001b[0m \u001b[0mtree_clf_pca\u001b[0m\u001b[0;34m.\u001b[0m\u001b[0mpredict\u001b[0m\u001b[0;34m(\u001b[0m\u001b[0mX_iris_pca_all\u001b[0m\u001b[0;34m)\u001b[0m\u001b[0;34m.\u001b[0m\u001b[0mreshape\u001b[0m\u001b[0;34m(\u001b[0m\u001b[0mz0s\u001b[0m\u001b[0;34m.\u001b[0m\u001b[0mshape\u001b[0m\u001b[0;34m)\u001b[0m\u001b[0;34m\u001b[0m\u001b[0;34m\u001b[0m\u001b[0m\n\u001b[1;32m     10\u001b[0m \u001b[0;34m\u001b[0m\u001b[0m\n\u001b[0;32m---> 11\u001b[0;31m \u001b[0mplt\u001b[0m\u001b[0;34m.\u001b[0m\u001b[0mcontourf\u001b[0m\u001b[0;34m(\u001b[0m\u001b[0mz0s\u001b[0m\u001b[0;34m,\u001b[0m \u001b[0mz1s\u001b[0m\u001b[0;34m,\u001b[0m \u001b[0my_pred\u001b[0m\u001b[0;34m,\u001b[0m \u001b[0malpha\u001b[0m\u001b[0;34m=\u001b[0m\u001b[0;36m0.3\u001b[0m\u001b[0;34m,\u001b[0m \u001b[0mcmap\u001b[0m\u001b[0;34m=\u001b[0m\u001b[0mcustom_cmap\u001b[0m\u001b[0;34m)\u001b[0m\u001b[0;34m\u001b[0m\u001b[0;34m\u001b[0m\u001b[0m\n\u001b[0m\u001b[1;32m     12\u001b[0m \u001b[0;32mfor\u001b[0m \u001b[0midx\u001b[0m\u001b[0;34m,\u001b[0m \u001b[0;34m(\u001b[0m\u001b[0mname\u001b[0m\u001b[0;34m,\u001b[0m \u001b[0mstyle\u001b[0m\u001b[0;34m)\u001b[0m \u001b[0;32min\u001b[0m \u001b[0menumerate\u001b[0m\u001b[0;34m(\u001b[0m\u001b[0mzip\u001b[0m\u001b[0;34m(\u001b[0m\u001b[0miris\u001b[0m\u001b[0;34m.\u001b[0m\u001b[0mtarget_names\u001b[0m\u001b[0;34m,\u001b[0m \u001b[0;34m(\u001b[0m\u001b[0;34m\"yo\"\u001b[0m\u001b[0;34m,\u001b[0m \u001b[0;34m\"bs\"\u001b[0m\u001b[0;34m,\u001b[0m \u001b[0;34m\"g^\"\u001b[0m\u001b[0;34m)\u001b[0m\u001b[0;34m)\u001b[0m\u001b[0;34m)\u001b[0m\u001b[0;34m:\u001b[0m\u001b[0;34m\u001b[0m\u001b[0;34m\u001b[0m\u001b[0m\n\u001b[1;32m     13\u001b[0m     plt.plot(X_iris_rotated[:, 0][y_iris == idx],\n",
            "\u001b[0;32m/usr/local/lib/python3.10/dist-packages/matplotlib/pyplot.py\u001b[0m in \u001b[0;36mcontourf\u001b[0;34m(data, *args, **kwargs)\u001b[0m\n\u001b[1;32m   2535\u001b[0m \u001b[0;34m@\u001b[0m\u001b[0m_copy_docstring_and_deprecators\u001b[0m\u001b[0;34m(\u001b[0m\u001b[0mAxes\u001b[0m\u001b[0;34m.\u001b[0m\u001b[0mcontourf\u001b[0m\u001b[0;34m)\u001b[0m\u001b[0;34m\u001b[0m\u001b[0;34m\u001b[0m\u001b[0m\n\u001b[1;32m   2536\u001b[0m \u001b[0;32mdef\u001b[0m \u001b[0mcontourf\u001b[0m\u001b[0;34m(\u001b[0m\u001b[0;34m*\u001b[0m\u001b[0margs\u001b[0m\u001b[0;34m,\u001b[0m \u001b[0mdata\u001b[0m\u001b[0;34m=\u001b[0m\u001b[0;32mNone\u001b[0m\u001b[0;34m,\u001b[0m \u001b[0;34m**\u001b[0m\u001b[0mkwargs\u001b[0m\u001b[0;34m)\u001b[0m\u001b[0;34m:\u001b[0m\u001b[0;34m\u001b[0m\u001b[0;34m\u001b[0m\u001b[0m\n\u001b[0;32m-> 2537\u001b[0;31m     __ret = gca().contourf(\n\u001b[0m\u001b[1;32m   2538\u001b[0m         \u001b[0;34m*\u001b[0m\u001b[0margs\u001b[0m\u001b[0;34m,\u001b[0m \u001b[0;34m**\u001b[0m\u001b[0;34m(\u001b[0m\u001b[0;34m{\u001b[0m\u001b[0;34m\"data\"\u001b[0m\u001b[0;34m:\u001b[0m \u001b[0mdata\u001b[0m\u001b[0;34m}\u001b[0m \u001b[0;32mif\u001b[0m \u001b[0mdata\u001b[0m \u001b[0;32mis\u001b[0m \u001b[0;32mnot\u001b[0m \u001b[0;32mNone\u001b[0m \u001b[0;32melse\u001b[0m \u001b[0;34m{\u001b[0m\u001b[0;34m}\u001b[0m\u001b[0;34m)\u001b[0m\u001b[0;34m,\u001b[0m\u001b[0;34m\u001b[0m\u001b[0;34m\u001b[0m\u001b[0m\n\u001b[1;32m   2539\u001b[0m         **kwargs)\n",
            "\u001b[0;32m/usr/local/lib/python3.10/dist-packages/matplotlib/__init__.py\u001b[0m in \u001b[0;36minner\u001b[0;34m(ax, data, *args, **kwargs)\u001b[0m\n\u001b[1;32m   1440\u001b[0m     \u001b[0;32mdef\u001b[0m \u001b[0minner\u001b[0m\u001b[0;34m(\u001b[0m\u001b[0max\u001b[0m\u001b[0;34m,\u001b[0m \u001b[0;34m*\u001b[0m\u001b[0margs\u001b[0m\u001b[0;34m,\u001b[0m \u001b[0mdata\u001b[0m\u001b[0;34m=\u001b[0m\u001b[0;32mNone\u001b[0m\u001b[0;34m,\u001b[0m \u001b[0;34m**\u001b[0m\u001b[0mkwargs\u001b[0m\u001b[0;34m)\u001b[0m\u001b[0;34m:\u001b[0m\u001b[0;34m\u001b[0m\u001b[0;34m\u001b[0m\u001b[0m\n\u001b[1;32m   1441\u001b[0m         \u001b[0;32mif\u001b[0m \u001b[0mdata\u001b[0m \u001b[0;32mis\u001b[0m \u001b[0;32mNone\u001b[0m\u001b[0;34m:\u001b[0m\u001b[0;34m\u001b[0m\u001b[0;34m\u001b[0m\u001b[0m\n\u001b[0;32m-> 1442\u001b[0;31m             \u001b[0;32mreturn\u001b[0m \u001b[0mfunc\u001b[0m\u001b[0;34m(\u001b[0m\u001b[0max\u001b[0m\u001b[0;34m,\u001b[0m \u001b[0;34m*\u001b[0m\u001b[0mmap\u001b[0m\u001b[0;34m(\u001b[0m\u001b[0msanitize_sequence\u001b[0m\u001b[0;34m,\u001b[0m \u001b[0margs\u001b[0m\u001b[0;34m)\u001b[0m\u001b[0;34m,\u001b[0m \u001b[0;34m**\u001b[0m\u001b[0mkwargs\u001b[0m\u001b[0;34m)\u001b[0m\u001b[0;34m\u001b[0m\u001b[0;34m\u001b[0m\u001b[0m\n\u001b[0m\u001b[1;32m   1443\u001b[0m \u001b[0;34m\u001b[0m\u001b[0m\n\u001b[1;32m   1444\u001b[0m         \u001b[0mbound\u001b[0m \u001b[0;34m=\u001b[0m \u001b[0mnew_sig\u001b[0m\u001b[0;34m.\u001b[0m\u001b[0mbind\u001b[0m\u001b[0;34m(\u001b[0m\u001b[0max\u001b[0m\u001b[0;34m,\u001b[0m \u001b[0;34m*\u001b[0m\u001b[0margs\u001b[0m\u001b[0;34m,\u001b[0m \u001b[0;34m**\u001b[0m\u001b[0mkwargs\u001b[0m\u001b[0;34m)\u001b[0m\u001b[0;34m\u001b[0m\u001b[0;34m\u001b[0m\u001b[0m\n",
            "\u001b[0;32m/usr/local/lib/python3.10/dist-packages/matplotlib/axes/_axes.py\u001b[0m in \u001b[0;36mcontourf\u001b[0;34m(self, *args, **kwargs)\u001b[0m\n\u001b[1;32m   6465\u001b[0m         \"\"\"\n\u001b[1;32m   6466\u001b[0m         \u001b[0mkwargs\u001b[0m\u001b[0;34m[\u001b[0m\u001b[0;34m'filled'\u001b[0m\u001b[0;34m]\u001b[0m \u001b[0;34m=\u001b[0m \u001b[0;32mTrue\u001b[0m\u001b[0;34m\u001b[0m\u001b[0;34m\u001b[0m\u001b[0m\n\u001b[0;32m-> 6467\u001b[0;31m         \u001b[0mcontours\u001b[0m \u001b[0;34m=\u001b[0m \u001b[0mmcontour\u001b[0m\u001b[0;34m.\u001b[0m\u001b[0mQuadContourSet\u001b[0m\u001b[0;34m(\u001b[0m\u001b[0mself\u001b[0m\u001b[0;34m,\u001b[0m \u001b[0;34m*\u001b[0m\u001b[0margs\u001b[0m\u001b[0;34m,\u001b[0m \u001b[0;34m**\u001b[0m\u001b[0mkwargs\u001b[0m\u001b[0;34m)\u001b[0m\u001b[0;34m\u001b[0m\u001b[0;34m\u001b[0m\u001b[0m\n\u001b[0m\u001b[1;32m   6468\u001b[0m         \u001b[0mself\u001b[0m\u001b[0;34m.\u001b[0m\u001b[0m_request_autoscale_view\u001b[0m\u001b[0;34m(\u001b[0m\u001b[0;34m)\u001b[0m\u001b[0;34m\u001b[0m\u001b[0;34m\u001b[0m\u001b[0m\n\u001b[1;32m   6469\u001b[0m         \u001b[0;32mreturn\u001b[0m \u001b[0mcontours\u001b[0m\u001b[0;34m\u001b[0m\u001b[0;34m\u001b[0m\u001b[0m\n",
            "\u001b[0;32m/usr/local/lib/python3.10/dist-packages/matplotlib/contour.py\u001b[0m in \u001b[0;36m__init__\u001b[0;34m(self, ax, levels, filled, linewidths, linestyles, hatches, alpha, origin, extent, cmap, colors, norm, vmin, vmax, extend, antialiased, nchunk, locator, transform, negative_linestyles, *args, **kwargs)\u001b[0m\n\u001b[1;32m    813\u001b[0m             \u001b[0mkw\u001b[0m\u001b[0;34m[\u001b[0m\u001b[0;34m'norm'\u001b[0m\u001b[0;34m]\u001b[0m \u001b[0;34m=\u001b[0m \u001b[0mnorm\u001b[0m\u001b[0;34m\u001b[0m\u001b[0;34m\u001b[0m\u001b[0m\n\u001b[1;32m    814\u001b[0m         \u001b[0;31m# sets self.cmap, norm if needed;\u001b[0m\u001b[0;34m\u001b[0m\u001b[0;34m\u001b[0m\u001b[0m\n\u001b[0;32m--> 815\u001b[0;31m         \u001b[0mcm\u001b[0m\u001b[0;34m.\u001b[0m\u001b[0mScalarMappable\u001b[0m\u001b[0;34m.\u001b[0m\u001b[0m__init__\u001b[0m\u001b[0;34m(\u001b[0m\u001b[0mself\u001b[0m\u001b[0;34m,\u001b[0m \u001b[0;34m**\u001b[0m\u001b[0mkw\u001b[0m\u001b[0;34m)\u001b[0m\u001b[0;34m\u001b[0m\u001b[0;34m\u001b[0m\u001b[0m\n\u001b[0m\u001b[1;32m    816\u001b[0m         \u001b[0;32mif\u001b[0m \u001b[0mvmin\u001b[0m \u001b[0;32mis\u001b[0m \u001b[0;32mnot\u001b[0m \u001b[0;32mNone\u001b[0m\u001b[0;34m:\u001b[0m\u001b[0;34m\u001b[0m\u001b[0;34m\u001b[0m\u001b[0m\n\u001b[1;32m    817\u001b[0m             \u001b[0mself\u001b[0m\u001b[0;34m.\u001b[0m\u001b[0mnorm\u001b[0m\u001b[0;34m.\u001b[0m\u001b[0mvmin\u001b[0m \u001b[0;34m=\u001b[0m \u001b[0mvmin\u001b[0m\u001b[0;34m\u001b[0m\u001b[0;34m\u001b[0m\u001b[0m\n",
            "\u001b[0;32m/usr/local/lib/python3.10/dist-packages/matplotlib/cm.py\u001b[0m in \u001b[0;36m__init__\u001b[0;34m(self, norm, cmap)\u001b[0m\n\u001b[1;32m    398\u001b[0m         \u001b[0mself\u001b[0m\u001b[0;34m.\u001b[0m\u001b[0mset_norm\u001b[0m\u001b[0;34m(\u001b[0m\u001b[0mnorm\u001b[0m\u001b[0;34m)\u001b[0m  \u001b[0;31m# The Normalize instance of this ScalarMappable.\u001b[0m\u001b[0;34m\u001b[0m\u001b[0;34m\u001b[0m\u001b[0m\n\u001b[1;32m    399\u001b[0m         \u001b[0mself\u001b[0m\u001b[0;34m.\u001b[0m\u001b[0mcmap\u001b[0m \u001b[0;34m=\u001b[0m \u001b[0;32mNone\u001b[0m  \u001b[0;31m# So that the setter knows we're initializing.\u001b[0m\u001b[0;34m\u001b[0m\u001b[0;34m\u001b[0m\u001b[0m\n\u001b[0;32m--> 400\u001b[0;31m         \u001b[0mself\u001b[0m\u001b[0;34m.\u001b[0m\u001b[0mset_cmap\u001b[0m\u001b[0;34m(\u001b[0m\u001b[0mcmap\u001b[0m\u001b[0;34m)\u001b[0m  \u001b[0;31m# The Colormap instance of this ScalarMappable.\u001b[0m\u001b[0;34m\u001b[0m\u001b[0;34m\u001b[0m\u001b[0m\n\u001b[0m\u001b[1;32m    401\u001b[0m         \u001b[0;31m#: The last colorbar associated with this ScalarMappable. May be None.\u001b[0m\u001b[0;34m\u001b[0m\u001b[0;34m\u001b[0m\u001b[0m\n\u001b[1;32m    402\u001b[0m         \u001b[0mself\u001b[0m\u001b[0;34m.\u001b[0m\u001b[0mcolorbar\u001b[0m \u001b[0;34m=\u001b[0m \u001b[0;32mNone\u001b[0m\u001b[0;34m\u001b[0m\u001b[0;34m\u001b[0m\u001b[0m\n",
            "\u001b[0;32m/usr/local/lib/python3.10/dist-packages/matplotlib/cm.py\u001b[0m in \u001b[0;36mset_cmap\u001b[0;34m(self, cmap)\u001b[0m\n\u001b[1;32m    583\u001b[0m         \u001b[0min_init\u001b[0m \u001b[0;34m=\u001b[0m \u001b[0mself\u001b[0m\u001b[0;34m.\u001b[0m\u001b[0mcmap\u001b[0m \u001b[0;32mis\u001b[0m \u001b[0;32mNone\u001b[0m\u001b[0;34m\u001b[0m\u001b[0;34m\u001b[0m\u001b[0m\n\u001b[1;32m    584\u001b[0m \u001b[0;34m\u001b[0m\u001b[0m\n\u001b[0;32m--> 585\u001b[0;31m         \u001b[0mself\u001b[0m\u001b[0;34m.\u001b[0m\u001b[0mcmap\u001b[0m \u001b[0;34m=\u001b[0m \u001b[0m_ensure_cmap\u001b[0m\u001b[0;34m(\u001b[0m\u001b[0mcmap\u001b[0m\u001b[0;34m)\u001b[0m\u001b[0;34m\u001b[0m\u001b[0;34m\u001b[0m\u001b[0m\n\u001b[0m\u001b[1;32m    586\u001b[0m         \u001b[0;32mif\u001b[0m \u001b[0;32mnot\u001b[0m \u001b[0min_init\u001b[0m\u001b[0;34m:\u001b[0m\u001b[0;34m\u001b[0m\u001b[0;34m\u001b[0m\u001b[0m\n\u001b[1;32m    587\u001b[0m             \u001b[0mself\u001b[0m\u001b[0;34m.\u001b[0m\u001b[0mchanged\u001b[0m\u001b[0;34m(\u001b[0m\u001b[0;34m)\u001b[0m  \u001b[0;31m# Things are not set up properly yet.\u001b[0m\u001b[0;34m\u001b[0m\u001b[0;34m\u001b[0m\u001b[0m\n",
            "\u001b[0;32m/usr/local/lib/python3.10/dist-packages/matplotlib/cm.py\u001b[0m in \u001b[0;36m_ensure_cmap\u001b[0;34m(cmap)\u001b[0m\n\u001b[1;32m    721\u001b[0m     \u001b[0;31m# use check_in_list to ensure type stability of the exception raised by\u001b[0m\u001b[0;34m\u001b[0m\u001b[0;34m\u001b[0m\u001b[0m\n\u001b[1;32m    722\u001b[0m     \u001b[0;31m# the internal usage of this (ValueError vs KeyError)\u001b[0m\u001b[0;34m\u001b[0m\u001b[0;34m\u001b[0m\u001b[0m\n\u001b[0;32m--> 723\u001b[0;31m     \u001b[0m_api\u001b[0m\u001b[0;34m.\u001b[0m\u001b[0mcheck_in_list\u001b[0m\u001b[0;34m(\u001b[0m\u001b[0msorted\u001b[0m\u001b[0;34m(\u001b[0m\u001b[0m_colormaps\u001b[0m\u001b[0;34m)\u001b[0m\u001b[0;34m,\u001b[0m \u001b[0mcmap\u001b[0m\u001b[0;34m=\u001b[0m\u001b[0mcmap_name\u001b[0m\u001b[0;34m)\u001b[0m\u001b[0;34m\u001b[0m\u001b[0;34m\u001b[0m\u001b[0m\n\u001b[0m\u001b[1;32m    724\u001b[0m     \u001b[0;32mreturn\u001b[0m \u001b[0mmpl\u001b[0m\u001b[0;34m.\u001b[0m\u001b[0mcolormaps\u001b[0m\u001b[0;34m[\u001b[0m\u001b[0mcmap_name\u001b[0m\u001b[0;34m]\u001b[0m\u001b[0;34m\u001b[0m\u001b[0;34m\u001b[0m\u001b[0m\n",
            "\u001b[0;32m/usr/local/lib/python3.10/dist-packages/matplotlib/_api/__init__.py\u001b[0m in \u001b[0;36mcheck_in_list\u001b[0;34m(_values, _print_supported_values, **kwargs)\u001b[0m\n\u001b[1;32m    129\u001b[0m             \u001b[0;32mif\u001b[0m \u001b[0m_print_supported_values\u001b[0m\u001b[0;34m:\u001b[0m\u001b[0;34m\u001b[0m\u001b[0;34m\u001b[0m\u001b[0m\n\u001b[1;32m    130\u001b[0m                 \u001b[0mmsg\u001b[0m \u001b[0;34m+=\u001b[0m \u001b[0;34mf\"; supported values are {', '.join(map(repr, values))}\"\u001b[0m\u001b[0;34m\u001b[0m\u001b[0;34m\u001b[0m\u001b[0m\n\u001b[0;32m--> 131\u001b[0;31m             \u001b[0;32mraise\u001b[0m \u001b[0mValueError\u001b[0m\u001b[0;34m(\u001b[0m\u001b[0mmsg\u001b[0m\u001b[0;34m)\u001b[0m\u001b[0;34m\u001b[0m\u001b[0;34m\u001b[0m\u001b[0m\n\u001b[0m\u001b[1;32m    132\u001b[0m \u001b[0;34m\u001b[0m\u001b[0m\n\u001b[1;32m    133\u001b[0m \u001b[0;34m\u001b[0m\u001b[0m\n",
            "\u001b[0;31mValueError\u001b[0m: ['#fafab0', '#9898ff', '#a0faa0'] is not a valid value for cmap; supported values are 'Accent', 'Accent_r', 'Blues', 'Blues_r', 'BrBG', 'BrBG_r', 'BuGn', 'BuGn_r', 'BuPu', 'BuPu_r', 'CMRmap', 'CMRmap_r', 'Dark2', 'Dark2_r', 'GnBu', 'GnBu_r', 'Greens', 'Greens_r', 'Greys', 'Greys_r', 'OrRd', 'OrRd_r', 'Oranges', 'Oranges_r', 'PRGn', 'PRGn_r', 'Paired', 'Paired_r', 'Pastel1', 'Pastel1_r', 'Pastel2', 'Pastel2_r', 'PiYG', 'PiYG_r', 'PuBu', 'PuBuGn', 'PuBuGn_r', 'PuBu_r', 'PuOr', 'PuOr_r', 'PuRd', 'PuRd_r', 'Purples', 'Purples_r', 'RdBu', 'RdBu_r', 'RdGy', 'RdGy_r', 'RdPu', 'RdPu_r', 'RdYlBu', 'RdYlBu_r', 'RdYlGn', 'RdYlGn_r', 'Reds', 'Reds_r', 'Set1', 'Set1_r', 'Set2', 'Set2_r', 'Set3', 'Set3_r', 'Spectral', 'Spectral_r', 'Wistia', 'Wistia_r', 'YlGn', 'YlGnBu', 'YlGnBu_r', 'YlGn_r', 'YlOrBr', 'YlOrBr_r', 'YlOrRd', 'YlOrRd_r', 'afmhot', 'afmhot_r', 'autumn', 'autumn_r', 'binary', 'binary_r', 'bone', 'bone_r', 'brg', 'brg_r', 'bwr', 'bwr_r', 'cividis', 'cividis_r', 'cool', 'cool_r', 'coolwarm', 'coolwarm_r', 'copper', 'copper_r', 'cubehelix', 'cubehelix_r', 'flag', 'flag_r', 'gist_earth', 'gist_earth_r', 'gist_gray', 'gist_gray_r', 'gist_heat', 'gist_heat_r', 'gist_ncar', 'gist_ncar_r', 'gist_rainbow', 'gist_rainbow_r', 'gist_stern', 'gist_stern_r', 'gist_yarg', 'gist_yarg_r', 'gnuplot', 'gnuplot2', 'gnuplot2_r', 'gnuplot_r', 'gray', 'gray_r', 'hot', 'hot_r', 'hsv', 'hsv_r', 'inferno', 'inferno_r', 'jet', 'jet_r', 'magma', 'magma_r', 'nipy_spectral', 'nipy..."
          ]
        },
        {
          "output_type": "display_data",
          "data": {
            "text/plain": [
              "<Figure size 800x400 with 1 Axes>"
            ],
            "image/png": "[encoded data removed]"
          },
          "metadata": {}
        }
      ],
      "source": [
        "# 추가 코드 - 이 셀은 그림 6-8을 생성하고 저장합니다.\n",
        "\n",
        "plt.figure(figsize=(8, 4))\n",
        "\n",
        "axes = [-2.2, 2.4, -0.6, 0.7]\n",
        "z0s, z1s = np.meshgrid(np.linspace(axes[0], axes[1], 100),\n",
        "                       np.linspace(axes[2], axes[3], 100))\n",
        "X_iris_pca_all = np.c_[z0s.ravel(), z1s.ravel()]\n",
        "y_pred = tree_clf_pca.predict(X_iris_pca_all).reshape(z0s.shape)\n",
        "\n",
        "plt.contourf(z0s, z1s, y_pred, alpha=0.3, cmap=custom_cmap)\n",
        "for idx, (name, style) in enumerate(zip(iris.target_names, (\"yo\", \"bs\", \"g^\"))):\n",
        "    plt.plot(X_iris_rotated[:, 0][y_iris == idx],\n",
        "             X_iris_rotated[:, 1][y_iris == idx],\n",
        "             style, label=f\"Iris {name}\")\n",
        "\n",
        "plt.xlabel(\"$z_1$\")\n",
        "plt.ylabel(\"$z_2$\", rotation=0)\n",
        "th1, th2 = tree_clf_pca.tree_.threshold[[0, 2]]\n",
        "plt.plot([th1, th1], axes[2:], \"k-\", linewidth=2)\n",
        "plt.plot([th2, th2], axes[2:], \"k--\", linewidth=2)\n",
        "plt.text(th1 - 0.01, axes[2] + 0.05, \"Depth=0\",\n",
        "         horizontalalignment=\"right\", fontsize=15)\n",
        "plt.text(th2 - 0.01, axes[2] + 0.05, \"Depth=1\",\n",
        "         horizontalalignment=\"right\", fontsize=13)\n",
        "plt.axis(axes)\n",
        "plt.legend(loc=(0.32, 0.67))\n",
        "save_fig(\"pca_preprocessing_plot\")\n",
        "\n",
        "plt.show()"
      ]
    },
    {
      "cell_type": "markdown",
      "metadata": {
        "id": "8kKRV9npYLPJ"
      },
      "source": [
        "# 결정 트리의 분산 문제"
      ]
    },
    {
      "cell_type": "markdown",
      "metadata": {
        "id": "5INWpbTcYLPJ"
      },
      "source": [
        "데이터셋의 작은 변화(예를 들면, 회전)로 인해 매우 다른 결정 트리가 생성될 수 있음을 살펴보았습니다. 사이킷런에서 사용하는 CART 학습 알고리즘은 확률적이기 때문에 동일한 데이터에 대해 동일한 모델을 학습하더라도 매번 매우 다른 모델이 생성될 수 있습니다. 이를 보여주기 위해 `random_state`를 이전과 다른 값으로 설정하겠습니다:"
      ]
    },
    {
      "cell_type": "code",
      "execution_count": null,
      "metadata": {
        "id": "B_Bw6oETYLPJ"
      },
      "outputs": [],
      "source": [
        "tree_clf_tweaked = DecisionTreeClassifier(max_depth=2, random_state=40)\n",
        "tree_clf_tweaked.fit(X_iris, y_iris)"
      ]
    },
    {
      "cell_type": "code",
      "execution_count": null,
      "metadata": {
        "id": "U7x-efLXYLPJ"
      },
      "outputs": [],
      "source": [
        "# 추가 코드 - 이 셀은 그림 6-9를 생성하고 저장합니다.\n",
        "\n",
        "plt.figure(figsize=(8, 4))\n",
        "y_pred = tree_clf_tweaked.predict(X_iris_all).reshape(lengths.shape)\n",
        "plt.contourf(lengths, widths, y_pred, alpha=0.3, cmap=custom_cmap)\n",
        "\n",
        "for idx, (name, style) in enumerate(zip(iris.target_names, (\"yo\", \"bs\", \"g^\"))):\n",
        "    plt.plot(X_iris[:, 0][y_iris == idx], X_iris[:, 1][y_iris == idx],\n",
        "             style, label=f\"Iris {name}\")\n",
        "\n",
        "th0, th1 = tree_clf_tweaked.tree_.threshold[[0, 2]]\n",
        "plt.plot([0, 7.2], [th0, th0], \"k-\", linewidth=2)\n",
        "plt.plot([0, 7.2], [th1, th1], \"k--\", linewidth=2)\n",
        "plt.text(1.8, th0 + 0.05, \"Depth=0\", verticalalignment=\"bottom\", fontsize=15)\n",
        "plt.text(2.3, th1 + 0.05, \"Depth=1\", verticalalignment=\"bottom\", fontsize=13)\n",
        "plt.xlabel(\"Petal length (cm)\")\n",
        "plt.ylabel(\"Petal width (cm)\")\n",
        "plt.axis([0, 7.2, 0, 3])\n",
        "plt.legend()\n",
        "save_fig(\"decision_tree_high_variance_plot\")\n",
        "\n",
        "plt.show()"
      ]
    },
    {
      "cell_type": "markdown",
      "metadata": {
        "id": "Surb1FVHYLPJ"
      },
      "source": [
        "# 추가 자료 - 트리 구조에 액세스"
      ]
    },
    {
      "cell_type": "markdown",
      "metadata": {
        "id": "d_3X_o6ZYLPJ"
      },
      "source": [
        "훈련된 `DecisionTreeClassifier`에는 트리의 구조를 저장하는 `tree_` 속성이 있습니다:"
      ]
    },
    {
      "cell_type": "code",
      "execution_count": null,
      "metadata": {
        "id": "0iLOw9T3YLPJ"
      },
      "outputs": [],
      "source": [
        "tree = tree_clf.tree_\n",
        "tree"
      ]
    },
    {
      "cell_type": "markdown",
      "metadata": {
        "id": "VBna_MfYYLPJ"
      },
      "source": [
        "트리에 있는 총 노드 수를 얻을 수 있습니다:"
      ]
    },
    {
      "cell_type": "code",
      "execution_count": null,
      "metadata": {
        "id": "8wLyTcTSYLPK"
      },
      "outputs": [],
      "source": [
        "tree.node_count"
      ]
    },
    {
      "cell_type": "markdown",
      "metadata": {
        "id": "e6vfDnhOYLPK"
      },
      "source": [
        "그 외 설명이 필요 없는 다른 속성이 있습니다:"
      ]
    },
    {
      "cell_type": "code",
      "execution_count": null,
      "metadata": {
        "id": "GR9BnBmtYLPK"
      },
      "outputs": [],
      "source": [
        "tree.max_depth"
      ]
    },
    {
      "cell_type": "code",
      "execution_count": null,
      "metadata": {
        "id": "Pw0V88DmYLPK"
      },
      "outputs": [],
      "source": [
        "tree.max_n_classes"
      ]
    },
    {
      "cell_type": "code",
      "execution_count": null,
      "metadata": {
        "id": "Wpr_i2oBYLPK"
      },
      "outputs": [],
      "source": [
        "tree.n_features"
      ]
    },
    {
      "cell_type": "code",
      "execution_count": null,
      "metadata": {
        "id": "mTDB0u2qYLPK"
      },
      "outputs": [],
      "source": [
        "tree.n_outputs"
      ]
    },
    {
      "cell_type": "code",
      "execution_count": null,
      "metadata": {
        "id": "_mQkzHmoYLPK"
      },
      "outputs": [],
      "source": [
        "tree.n_leaves"
      ]
    },
    {
      "cell_type": "markdown",
      "metadata": {
        "id": "I4qeYc0nYLPK"
      },
      "source": [
        "노드에 대한 모든 정보는 넘파이 배열에 저장됩니다. 예를 들어, 각 노드의 불순도는 다음과 같습니다:"
      ]
    },
    {
      "cell_type": "code",
      "execution_count": null,
      "metadata": {
        "id": "vCwhMj8vYLPK"
      },
      "outputs": [],
      "source": [
        "tree.impurity"
      ]
    },
    {
      "cell_type": "markdown",
      "metadata": {
        "id": "KJZtq1AoYLPK"
      },
      "source": [
        "루트 노드의 인덱스는 0입니다. 노드 _i_의 왼쪽 및 오른쪽 자식 노드는 `tree.children_left[i]` 및 `tree.children_right[i]`입니다. 예를 들어 루트 노드의 자식 노드는 다음과 같습니다:"
      ]
    },
    {
      "cell_type": "code",
      "execution_count": null,
      "metadata": {
        "id": "z3UFNWTHYLPK"
      },
      "outputs": [],
      "source": [
        "tree.children_left[0], tree.children_right[0]"
      ]
    },
    {
      "cell_type": "markdown",
      "metadata": {
        "id": "DQABO4Z5YLPK"
      },
      "source": [
        "왼쪽 노드와 오른쪽 노드가 같으면 이것이 리프 노드임을 의미합니다(자식 노드 ID는 임의적임):"
      ]
    },
    {
      "cell_type": "code",
      "execution_count": null,
      "metadata": {
        "id": "oPwW9EfIYLPK"
      },
      "outputs": [],
      "source": [
        "tree.children_left[3], tree.children_right[3]"
      ]
    },
    {
      "cell_type": "markdown",
      "metadata": {
        "id": "xllgZeBvYLPK"
      },
      "source": [
        "따라서 다음과 같이 리프 노드 ID를 얻을 수 있습니다:"
      ]
    },
    {
      "cell_type": "code",
      "execution_count": null,
      "metadata": {
        "id": "xjoIXYTkYLPK"
      },
      "outputs": [],
      "source": [
        "is_leaf = (tree.children_left == tree.children_right)\n",
        "np.arange(tree.node_count)[is_leaf]"
      ]
    },
    {
      "cell_type": "markdown",
      "metadata": {
        "id": "xP73m5eXYLPK"
      },
      "source": [
        "리프 노드가 아닌 노드를 _분할 노드_라고 합니다. 분할 특성은 `feature` 배열을 통해 참조할 수 있습니다. 리프 노드에 대한 값은 무시해야 합니다:"
      ]
    },
    {
      "cell_type": "code",
      "execution_count": null,
      "metadata": {
        "id": "Rngz4wCMYLPK"
      },
      "outputs": [],
      "source": [
        "tree.feature"
      ]
    },
    {
      "cell_type": "markdown",
      "metadata": {
        "id": "6DXdzLzUYLPK"
      },
      "source": [
        "그리고 해당 임계값은 다음과 같습니다:"
      ]
    },
    {
      "cell_type": "code",
      "execution_count": null,
      "metadata": {
        "id": "dsNxXjyCYLPL"
      },
      "outputs": [],
      "source": [
        "tree.threshold"
      ]
    },
    {
      "cell_type": "markdown",
      "metadata": {
        "id": "hpA5Jz8kYLPL"
      },
      "source": [
        "또한 각 노드에 도달한 클래스당 인스턴스 수도 확인할 수 있습니다:"
      ]
    },
    {
      "cell_type": "code",
      "execution_count": null,
      "metadata": {
        "id": "0uJLSTHYYLPL"
      },
      "outputs": [],
      "source": [
        "tree.value"
      ]
    },
    {
      "cell_type": "code",
      "execution_count": null,
      "metadata": {
        "id": "Khr9eOKrYLPL"
      },
      "outputs": [],
      "source": [
        "tree.n_node_samples"
      ]
    },
    {
      "cell_type": "code",
      "execution_count": null,
      "metadata": {
        "id": "-JHyJFqUYLPL"
      },
      "outputs": [],
      "source": [
        "np.all(tree.value.sum(axis=(1, 2)) == tree.n_node_samples)"
      ]
    },
    {
      "cell_type": "markdown",
      "metadata": {
        "id": "8FhMr1JlYLPL"
      },
      "source": [
        "각 노드의 깊이를 계산하는 방법은 다음과 같습니다:"
      ]
    },
    {
      "cell_type": "code",
      "execution_count": null,
      "metadata": {
        "id": "GFHpJyj3YLPL"
      },
      "outputs": [],
      "source": [
        "def compute_depth(tree_clf):\n",
        "    tree = tree_clf.tree_\n",
        "    depth = np.zeros(tree.node_count)\n",
        "    stack = [(0, 0)]\n",
        "    while stack:\n",
        "        node, node_depth = stack.pop()\n",
        "        depth[node] = node_depth\n",
        "        if tree.children_left[node] != tree.children_right[node]:\n",
        "            stack.append((tree.children_left[node], node_depth + 1))\n",
        "            stack.append((tree.children_right[node], node_depth + 1))\n",
        "    return depth\n",
        "\n",
        "depth = compute_depth(tree_clf)\n",
        "depth"
      ]
    },
    {
      "cell_type": "markdown",
      "metadata": {
        "id": "qK5dpI_vYLPL"
      },
      "source": [
        "다음은 깊이 1에서 모든 분할 노드의 임계값을 구하는 방법입니다:"
      ]
    },
    {
      "cell_type": "code",
      "execution_count": null,
      "metadata": {
        "id": "b6VL7oz-YLPL"
      },
      "outputs": [],
      "source": [
        "tree_clf.tree_.feature[(depth == 1) & (~is_leaf)]"
      ]
    },
    {
      "cell_type": "code",
      "execution_count": null,
      "metadata": {
        "id": "a0RBf5pCYLPL"
      },
      "outputs": [],
      "source": [
        "tree_clf.tree_.threshold[(depth == 1) & (~is_leaf)]"
      ]
    },
    {
      "cell_type": "markdown",
      "metadata": {
        "id": "c0dgjYOmYLPL"
      },
      "source": [
        "# 연습문제 해답"
      ]
    },
    {
      "cell_type": "markdown",
      "metadata": {
        "id": "bUEtXyNMYLPL"
      },
      "source": [
        "## 1. to 6."
      ]
    },
    {
      "cell_type": "markdown",
      "metadata": {
        "id": "k94YdqsVYLPL"
      },
      "source": [
        "부록 A 참조"
      ]
    },
    {
      "cell_type": "markdown",
      "metadata": {
        "id": "CrBC2-QcYLPL"
      },
      "source": [
        "## 7."
      ]
    },
    {
      "cell_type": "markdown",
      "metadata": {
        "id": "Lm4eXPSfYLPL"
      },
      "source": [
        "_문제: moons 데이터셋에 결정 트리를 훈련시키고 세밀하게 튜닝해보세요._"
      ]
    },
    {
      "cell_type": "markdown",
      "metadata": {
        "id": "qBqAXc0GYLPL"
      },
      "source": [
        "a. `make_moons(n_samples=10000, noise=0.4)`를 사용해 데이터셋을 생성합니다."
      ]
    },
    {
      "cell_type": "markdown",
      "metadata": {
        "id": "Xuk_96x6YLPL"
      },
      "source": [
        "`random_state = 42`를 추가하여 이 노트북의 출력을 일정하게 만듭니다:"
      ]
    },
    {
      "cell_type": "code",
      "execution_count": null,
      "metadata": {
        "id": "9rgptLCZYLPL"
      },
      "outputs": [],
      "source": [
        "from sklearn.datasets import make_moons\n",
        "\n",
        "X_moons, y_moons = make_moons(n_samples=10000, noise=0.4, random_state=42)"
      ]
    },
    {
      "cell_type": "markdown",
      "metadata": {
        "id": "IpCa186lYLPL"
      },
      "source": [
        "b. 이를 `train_test_split()`를 사용해 훈련 세트와 테스트 세트로 나눕니다."
      ]
    },
    {
      "cell_type": "code",
      "execution_count": null,
      "metadata": {
        "id": "0rs6NQcKYLPL"
      },
      "outputs": [],
      "source": [
        "from sklearn.model_selection import train_test_split\n",
        "\n",
        "X_train, X_test, y_train, y_test = train_test_split(X_moons, y_moons,\n",
        "                                                    test_size=0.2,\n",
        "                                                    random_state=42)"
      ]
    },
    {
      "cell_type": "markdown",
      "metadata": {
        "id": "qTYU3-EGYLPM"
      },
      "source": [
        "c. `DecisionTreeClassifier`의 최적의 매개변수를 찾기 위해 교차 검증과 함께 그리드 탐색을 수행합니다(`GridSearchCV`를 사용하면 됩니다). 힌트: 여러 가지 `max_leaf_nodes` 값을 시도해보세요."
      ]
    },
    {
      "cell_type": "code",
      "execution_count": null,
      "metadata": {
        "id": "3ml6I9MDYLPM"
      },
      "outputs": [],
      "source": [
        "from sklearn.model_selection import GridSearchCV\n",
        "\n",
        "params = {\n",
        "    'max_leaf_nodes': list(range(2, 100)),\n",
        "    'max_depth': list(range(1, 7)),\n",
        "    'min_samples_split': [2, 3, 4]\n",
        "}\n",
        "grid_search_cv = GridSearchCV(DecisionTreeClassifier(random_state=42),\n",
        "                              params,\n",
        "                              cv=3)\n",
        "\n",
        "grid_search_cv.fit(X_train, y_train)"
      ]
    },
    {
      "cell_type": "code",
      "execution_count": null,
      "metadata": {
        "id": "xUW00kV2YLPM"
      },
      "outputs": [],
      "source": [
        "grid_search_cv.best_estimator_"
      ]
    },
    {
      "cell_type": "markdown",
      "metadata": {
        "id": "jcz5PY9DYLPM"
      },
      "source": [
        "d. 찾은 매개변수를 사용해 전체 훈련 세트에 대해 모델을 훈련시키고 테스트 세트에서 성능을 측정합니다. 대략 85~87%의 정확도가 나올 것입니다."
      ]
    },
    {
      "cell_type": "markdown",
      "metadata": {
        "id": "-oJ4vvKlYLPM"
      },
      "source": [
        "기본적으로 `GridSearchCV`는 전체 훈련 세트로 찾은 최적의 모델을 다시 훈련시킵니다(`refit=False`로 지정해서 바꿀 수 있습니다). 그래서 별도로 작업할 필요가 없습니다. 모델의 정확도를 바로 평가할 수 있습니다:"
      ]
    },
    {
      "cell_type": "code",
      "execution_count": null,
      "metadata": {
        "id": "r6bo58vGYLPM"
      },
      "outputs": [],
      "source": [
        "from sklearn.metrics import accuracy_score\n",
        "\n",
        "y_pred = grid_search_cv.predict(X_test)\n",
        "accuracy_score(y_test, y_pred)"
      ]
    },
    {
      "cell_type": "markdown",
      "metadata": {
        "id": "3kUNNNh-YLPM"
      },
      "source": [
        "## 8."
      ]
    },
    {
      "cell_type": "markdown",
      "metadata": {
        "id": "aSNrVY59YLPM"
      },
      "source": [
        "_문제: 랜덤 포레스트를 만들어보세요._"
      ]
    },
    {
      "cell_type": "markdown",
      "metadata": {
        "id": "gti4OyCtYLPM"
      },
      "source": [
        "a. 이전 연습문제에 이어서, 훈련 세트의 서브셋을 1,000개 생성합니다. 각각은 무작위로 선택된 100개의 샘플을 담고 있습니다. 힌트: 사이킷런의 `ShuffleSplit`을 사용할 수 있습니다."
      ]
    },
    {
      "cell_type": "code",
      "execution_count": null,
      "metadata": {
        "id": "c4EELNSbYLPM"
      },
      "outputs": [],
      "source": [
        "from sklearn.model_selection import ShuffleSplit\n",
        "\n",
        "n_trees = 1000\n",
        "n_instances = 100\n",
        "\n",
        "mini_sets = []\n",
        "\n",
        "rs = ShuffleSplit(n_splits=n_trees, test_size=len(X_train) - n_instances,\n",
        "                  random_state=42)\n",
        "\n",
        "for mini_train_index, mini_test_index in rs.split(X_train):\n",
        "    X_mini_train = X_train[mini_train_index]\n",
        "    y_mini_train = y_train[mini_train_index]\n",
        "    mini_sets.append((X_mini_train, y_mini_train))"
      ]
    },
    {
      "cell_type": "markdown",
      "metadata": {
        "id": "ffPiS1xBYLPM"
      },
      "source": [
        "b. 앞에서 찾은 최적의 매개변수를 사용해 각 서브셋에 결정 트리를 훈련시킵니다. 테스트 세트로 이 1,000개의 결정 트리를 평가합니다. 더 작은 데이터셋에서 훈련되었기 때문에 이 결정 트리는 앞서 만든 결정 트리보다 성능이 떨어져 약 80%의 정확도를 냅니다."
      ]
    },
    {
      "cell_type": "code",
      "execution_count": null,
      "metadata": {
        "id": "G4oQyHB3YLPM"
      },
      "outputs": [],
      "source": [
        "from sklearn.base import clone\n",
        "\n",
        "forest = [clone(grid_search_cv.best_estimator_) for _ in range(n_trees)]\n",
        "\n",
        "accuracy_scores = []\n",
        "\n",
        "for tree, (X_mini_train, y_mini_train) in zip(forest, mini_sets):\n",
        "    tree.fit(X_mini_train, y_mini_train)\n",
        "\n",
        "    y_pred = tree.predict(X_test)\n",
        "    accuracy_scores.append(accuracy_score(y_test, y_pred))\n",
        "\n",
        "np.mean(accuracy_scores)"
      ]
    },
    {
      "cell_type": "markdown",
      "metadata": {
        "id": "uZ8FBpR7YLPM"
      },
      "source": [
        "c. 이제 마술을 부릴 차례입니다. 각 테스트 세트 샘플에 대해 1,000개의 결정 트리 예측을 만들고 다수로 나온 예측만 취합니다(사이파이의 `mode()` 함수를 사용할 수 있습니다). 그러면 테스트 세트에 대한 _다수결 예측_이 만들어집니다."
      ]
    },
    {
      "cell_type": "code",
      "execution_count": null,
      "metadata": {
        "id": "HjKXKjzpYLPM"
      },
      "outputs": [],
      "source": [
        "Y_pred = np.empty([n_trees, len(X_test)], dtype=np.uint8)\n",
        "\n",
        "for tree_index, tree in enumerate(forest):\n",
        "    Y_pred[tree_index] = tree.predict(X_test)"
      ]
    },
    {
      "cell_type": "code",
      "execution_count": null,
      "metadata": {
        "id": "YNiMiGETYLPM"
      },
      "outputs": [],
      "source": [
        "from scipy.stats import mode\n",
        "\n",
        "# scipy 1.11에서 keepdims의 기본값이 False로 바뀝니다.\n",
        "# 이와 관련된 경고를 피하기 위해 명시적으로 False로 지정합니다.\n",
        "y_pred_majority_votes, n_votes = mode(Y_pred, axis=0, keepdims=False)"
      ]
    },
    {
      "cell_type": "code",
      "execution_count": null,
      "metadata": {
        "id": "VN3laYiMYLPM"
      },
      "outputs": [],
      "source": [
        "y_pred_majority_votes.shape, n_votes.shape"
      ]
    },
    {
      "cell_type": "markdown",
      "metadata": {
        "id": "BhsebxjEYLPM"
      },
      "source": [
        "d. 테스트 세트에서 이 예측을 평가합니다. 앞서 만든 모델보다 조금 높은(약 0.5~1.5% 정도) 정확도를 얻게 될 것입니다. 축하합니다. 랜덤 포레스트 분류기를 훈련시켰습니다!"
      ]
    },
    {
      "cell_type": "code",
      "execution_count": null,
      "metadata": {
        "id": "xRXVcfRMYLPM"
      },
      "outputs": [],
      "source": [
        "accuracy_score(y_test, y_pred_majority_votes)"
      ]
    }
  ],
  "metadata": {
    "kernelspec": {
      "display_name": "Python 3 (ipykernel)",
      "language": "python",
      "name": "python3"
    },
    "language_info": {
      "codemirror_mode": {
        "name": "ipython",
        "version": 3
      },
      "file_extension": ".py",
      "mimetype": "text/x-python",
      "name": "python",
      "nbconvert_exporter": "python",
      "pygments_lexer": "ipython3",
      "version": "3.10.9"
    },
    "nav_menu": {
      "height": "309px",
      "width": "468px"
    },
    "toc": {
      "navigate_menu": true,
      "number_sections": true,
      "sideBar": true,
      "threshold": 6,
      "toc_cell": false,
      "toc_section_display": "block",
      "toc_window_display": false
    },
    "colab": {
      "provenance": [],
      "include_colab_link": true
    }
  },
  "nbformat": 4,
  "nbformat_minor": 0
}
